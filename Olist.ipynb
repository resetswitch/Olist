{
 "metadata": {
  "language_info": {
   "codemirror_mode": {
    "name": "ipython",
    "version": 3
   },
   "file_extension": ".py",
   "mimetype": "text/x-python",
   "name": "python",
   "nbconvert_exporter": "python",
   "pygments_lexer": "ipython3",
   "version": "3.8.5"
  },
  "orig_nbformat": 2,
  "kernelspec": {
   "name": "python385jvsc74a57bd0916dbcbb3f70747c44a77c7bcd40155683ae19c65e1c03b4aa3499c5328201f1",
   "display_name": "Python 3.8.5 64-bit"
  },
  "metadata": {
   "interpreter": {
    "hash": "916dbcbb3f70747c44a77c7bcd40155683ae19c65e1c03b4aa3499c5328201f1"
   }
  }
 },
 "nbformat": 4,
 "nbformat_minor": 2,
 "cells": [
  {
   "source": [
    "# SamCart Data Analyst Challenge\n",
    "\n",
    "### Background:\n",
    "\n",
    "###### \n",
    "SamCart is the first e-commerce platform built for direct to consumer brands. We are rapidly growing, but am on the hunt to better understand and leverage our data to make decisions.\n",
    "In this role, you will have access to millions of rows of data and it’s not only important that you know how to analyze the data, but that you can help tell the story of what the data says.\n",
    "\n",
    "We have created a short challenge to do the following:\n",
    "- Ensure you have a working knowledge of data analysis tools andmethodologies\n",
    "- Test your experience analyzing large data sets\n",
    "- Understand how you prepare and present data\n",
    "\n",
    "### Prompt:\n",
    "###### \n",
    "We are using 2 data sets (linked below) from Brazillian retailer Olist.\n",
    "Here are some facts:\n",
    " - It’s currently September 2018 (e.g., you can ignore all data after September 2018)\n",
    " - The company’s inception was January 2017 (so you can ignore all data before January 2017)\n",
    " - Company is US-based, but launched in Brazil (which is why some information is in Portuguese)\n",
    " - You can assume all orders are delivered (so ignore the order state field) Please prepare a presentation that addresses the following points:\n",
    " - Summarizes the seller funnel from marketing sign up to launching products on the platform\n",
    " - Please provide Customer LTV [Helpful Site with Examples of Equations (geckoboard.com)](https://www.geckoboard.com/best-practice/kpi-examples/)\n",
    " - Summarizes the current state of the business\n",
    " - What has performance been monthly\n",
    " - What are the best selling categories\n",
    " - Predicts future revenue for the next 12 months for order volume and revenue\n",
    "\n",
    "### Data Sources:\n",
    "###### \n",
    "- [Marketing Funnel Data Set](https://www.kaggle.com/olistbr/marketing-funnel-olist?select=olist_marketing_qualified_leads_dataset.csv)\n",
    "- [E-Commerce Data Set](https://www.kaggle.com/olistbr/brazilian-ecommerce/home?select=product_category_name_translation.csv)\n",
    "- [Instructions to Link Data Sets](https://www.kaggle.com/andresionek/joining-marketing-funnel-with-brazilian-e-commerce)\n",
    "\n",
    "###### \n",
    "Please let David Rapoport (drapoport@samcart.com) know if you have any questions. This challenge is due prior to your meeting with David.\n",
    "\n",
    "checkout this cool website https://blog.hubspot.com/service/how-to-calculate-customer-lifetime-value"
   ],
   "cell_type": "markdown",
   "metadata": {}
  },
  {
   "cell_type": "code",
   "execution_count": 1,
   "metadata": {},
   "outputs": [],
   "source": [
    "import time\n",
    "import pandas as pd\n",
    "import datetime\n",
    "import numpy as np\n",
    "import plotly.graph_objects as go\n",
    "from tqdm import tqdm"
   ]
  },
  {
   "cell_type": "code",
   "execution_count": 2,
   "metadata": {},
   "outputs": [],
   "source": [
    "df_cd = pd.read_csv('SamCart-Data/olist_closed_deals_dataset.csv')\n",
    "df_c = pd.read_csv('SamCart-Data/olist_customers_dataset.csv')\n",
    "df_g = pd.read_csv('SamCart-Data/olist_geolocation_dataset.csv')\n",
    "df_m = pd.read_csv('SamCart-Data/olist_marketing_qualified_leads_dataset.csv')\n",
    "df_oi = pd.read_csv('SamCart-Data/olist_order_items_dataset.csv')\n",
    "df_op = pd.read_csv('SamCart-Data/olist_order_payments_dataset.csv')\n",
    "df_o = pd.read_csv('SamCart-Data/olist_orders_dataset.csv')\n",
    "df_or = pd.read_csv('SamCart-Data/olist_order_reviews_dataset.csv')\n",
    "df_p = pd.read_csv('SamCart-Data/olist_products_dataset.csv')\n",
    "df_s = pd.read_csv('SamCart-Data/olist_sellers_dataset.csv')\n",
    "df_t = pd.read_csv('SamCart-Data/product_category_name_translation.csv')"
   ]
  },
  {
   "cell_type": "code",
   "execution_count": 3,
   "metadata": {},
   "outputs": [],
   "source": [
    "#KEEP\n",
    "\n",
    "# Read CSV into DataFrame\n",
    "df_p = pd.read_csv('SamCart-Data/olist_products_dataset.csv')\n",
    "# Convert spanish and enlish terms columns into lists\n",
    "product_spanish = df_t['product_category_name'].to_list()\n",
    "product_english = df_t['product_category_name_english'].to_list()\n",
    "# Replace all spanish terms with english terms\n",
    "df_pt = df_p.replace(product_spanish,product_english)\n",
    "# Convert DataFrame into .csv\n",
    "df_pt.to_csv('SamCart-Data/olist_products_dataset_english.csv')\n"
   ]
  },
  {
   "cell_type": "code",
   "execution_count": 4,
   "metadata": {},
   "outputs": [
    {
     "output_type": "stream",
     "name": "stdout",
     "text": [
      "(100000, 7)\n(99173,)\n(99441,)\n"
     ]
    }
   ],
   "source": [
    "print(df_or.shape)\n",
    "print(df_or.review_id.unique().shape)\n",
    "print(df_or.order_id.unique().shape)"
   ]
  },
  {
   "cell_type": "code",
   "execution_count": 5,
   "metadata": {},
   "outputs": [
    {
     "output_type": "execute_result",
     "data": {
      "text/plain": [
       "24220    1146.0\n",
       "24230    1102.0\n",
       "38400     965.0\n",
       "35500     907.0\n",
       "11680     879.0\n",
       "          ...  \n",
       "63145       2.0\n",
       "55334       2.0\n",
       "58685       2.0\n",
       "73365       2.0\n",
       "11570       2.0\n",
       "Name: geolocation_zip_code_prefix, Length: 17972, dtype: float64"
      ]
     },
     "metadata": {},
     "execution_count": 5
    }
   ],
   "source": [
    "t = df_g.geolocation_zip_code_prefix.value_counts()\n",
    "t.where(t>1).dropna()"
   ]
  },
  {
   "cell_type": "code",
   "execution_count": 6,
   "metadata": {},
   "outputs": [
    {
     "output_type": "execute_result",
     "data": {
      "text/plain": [
       "order_id                          order_item_id\n",
       "fffe41c64501cc87c801fd61db3f6244  1                1\n",
       "553c468f68af19869694de8bcd095213  2                1\n",
       "5536d8682e25ee3f39ed444105996fee  1                1\n",
       "553901a853048dcd33ec8de19f90c5d0  1                1\n",
       "5539bd029cf95d97ba8f51f6f323c839  1                1\n",
       "                                                  ..\n",
       "ab1430e26162f925a945d18941057aee  1                1\n",
       "ab14fdcfbe524636d65ee38360e22ce8  1                1\n",
       "                                  2                1\n",
       "                                  3                1\n",
       "00010242fe8c5a6d1ba2dd792cb16214  1                1\n",
       "Length: 112650, dtype: int64"
      ]
     },
     "metadata": {},
     "execution_count": 6
    }
   ],
   "source": [
    "t = df_oi[[\"order_id\", \"order_item_id\"]].value_counts() # Shows the occurances for\n",
    "t"
   ]
  },
  {
   "cell_type": "code",
   "execution_count": 7,
   "metadata": {},
   "outputs": [
    {
     "output_type": "display_data",
     "data": {
      "text/plain": "                                order_id  order_item_id  \\\n23530   35a972d7f8436f405b56e36add1a7140              1   \n1722    03ef5dedbe7492bdae72eec50764c43f              1   \n4924    0b223d92c27432930dfe407c6aea3041              1   \n4925    0b223d92c27432930dfe407c6aea3041              2   \n9829    168626408cb32af0ffaf76711caae1dc              1   \n36164   52018484704db3661b98ce838612b507              1   \n91787   d03ca98f59480e7e76c71fa83ecd8fb6              1   \n94807   d70442bc5e3cb7438da497cc6a210f80              1   \n63590   912859fef5a0bd5059b6d48fa79d121a              1   \n110563  fb393211459aac00af932cd7ab4fa2cc              1   \n84015   bee12e8653a04e76786e8891cfb6330a              1   \n84016   bee12e8653a04e76786e8891cfb6330a              2   \n84017   bee12e8653a04e76786e8891cfb6330a              3   \n84018   bee12e8653a04e76786e8891cfb6330a              4   \n84019   bee12e8653a04e76786e8891cfb6330a              5   \n88203   c84d88553f9878bf2c7ecda2eb211ece              1   \n21151   3064071cf67a2cc381cd53b13055eac5              1   \n64444   9344079d5fbb7dd79af908b7eb667db7              1   \n93959   d4fae577806d683110e00e18a5e181be              4   \n93958   d4fae577806d683110e00e18a5e181be              3   \n93957   d4fae577806d683110e00e18a5e181be              2   \n93956   d4fae577806d683110e00e18a5e181be              1   \n72922   a63d6f123bbccd71286ef76811cb2a3b              1   \n72923   a63d6f123bbccd71286ef76811cb2a3b              2   \n72924   a63d6f123bbccd71286ef76811cb2a3b              3   \n33806   4c867c2aac81653679eff07e922441a0              1   \n102105  e7c290bfc31d7eed478c3d3d2d4d2953              1   \n102106  e7c290bfc31d7eed478c3d3d2d4d2953              2   \n96828   dbb786f88b6d4e52fe3cb5d771b979d6              1   \n279     00b44ba3d7c4a5e9a9ebafef9150781d              1   \n\n                              product_id                         seller_id  \\\n23530   d04857e7b4b708ee8b8b9921163edba3  9f505651f4a6abe901a56cdc21508025   \n1722    c7f27c5bef2338541c772b5776403e6a  7d7866a99a8656a42c7ff6352a433410   \n4924    2b4472df15512a2825ae86fd9ae79335  67bf6941ba2f1fa1d02c375766bc3e53   \n4925    2b4472df15512a2825ae86fd9ae79335  67bf6941ba2f1fa1d02c375766bc3e53   \n9829    bdcf6a834e8faa30dac3886c7a58e92e  2a84855fd20af891be03bc5924d2b453   \n36164   777798445efd625458a90c13f3b3e6e7  5f2684dab12e59f83bef73ae57724e45   \n91787   06601c3059e35a3bf65e72f2fd2ac626  6b90f847357d8981edd79a1eb1bf0acb   \n94807   9a8706b8c060b16e5f0d2925f20bc35b  0be8ff43f22e456b4e0371b2245e4d01   \n63590   9865c67a74684715521d1e70226cce0b  fa1c13f2614d7b5c4749cbc52fecda94   \n110563  b6b76b074ed0d77d0f3443b12d8adb5e  6560211a19b47992c3666cc44a7e94c0   \n84015   8d4dac6177fb8134f26fb4c5cc6c0aff  c70c1b0d8ca86052f45a432a38b73958   \n84016   8d4dac6177fb8134f26fb4c5cc6c0aff  c70c1b0d8ca86052f45a432a38b73958   \n84017   8d4dac6177fb8134f26fb4c5cc6c0aff  c70c1b0d8ca86052f45a432a38b73958   \n84018   8d4dac6177fb8134f26fb4c5cc6c0aff  c70c1b0d8ca86052f45a432a38b73958   \n84019   8d4dac6177fb8134f26fb4c5cc6c0aff  c70c1b0d8ca86052f45a432a38b73958   \n88203   24bc2932a12c983f8e76d828b65cf39b  5a413ade68e8f8d93071a7f52a64cb9e   \n21151   15de022edf1005363381e66bed514528  537eb890efff034a88679788b647c564   \n64444   3adde396ccd202b8fe21807c2b624f4c  0241d4d5d36f10f80c644447315af0bd   \n93959   7001d71d1ad858e07e5a341649412e76  f0b47fbbc6dee9aafe415a6e33051b3f   \n93958   59536eeb13a52ef81966f81b91fb481e  98dac6635aee4995d501a3972e047414   \n93957   59536eeb13a52ef81966f81b91fb481e  98dac6635aee4995d501a3972e047414   \n93956   59536eeb13a52ef81966f81b91fb481e  98dac6635aee4995d501a3972e047414   \n72922   b6b220a6c539cb65be34eed6fea8fe63  c731d18cea9bf687ffee82a241c25b11   \n72923   8cf22b2cc9465d64474a09853b62f5b2  ed8cb7b190ceb6067227478e48cf8dde   \n72924   b6b220a6c539cb65be34eed6fea8fe63  c731d18cea9bf687ffee82a241c25b11   \n33806   99c803fd17abc7a255efe370d53744e3  6b90f847357d8981edd79a1eb1bf0acb   \n102105  44406b87e5ac6494cdb0c9dccd3b88d3  7dc8c42cc750eeafea6c85712ffee9bf   \n102106  44406b87e5ac6494cdb0c9dccd3b88d3  7dc8c42cc750eeafea6c85712ffee9bf   \n96828   39a1a3b9314738724fce4b2907ae6686  da8622b14eb17ae2831f4ac5b9dab84a   \n279     d9a5a5120d4d357871acd5408cb10e18  20d83f3ef0e6925fd74bfd59170babf7   \n\n        shipping_limit_date   price  freight_value  \\\n23530   2018-08-31 15:10:26   84.99           8.76   \n1722    2018-08-31 15:05:22   24.90           8.33   \n4924    2018-08-31 14:30:19  209.00          46.48   \n4925    2018-08-31 14:30:19  209.00          46.48   \n9829    2018-08-31 14:30:23   45.90          15.39   \n36164   2018-08-31 12:35:17   63.90           9.20   \n91787   2018-08-31 11:24:02  109.90           9.52   \n94807   2018-09-03 10:35:16    6.90           7.39   \n63590   2018-09-03 10:04:16  169.80           8.45   \n110563  2018-08-31 09:25:12   99.00           7.95   \n84015   2018-09-06 09:04:10   91.55           7.90   \n84016   2018-09-06 09:04:10   91.55           7.90   \n84017   2018-09-06 09:04:10   91.55           7.90   \n84018   2018-09-06 09:04:10   91.55           7.90   \n84019   2018-09-06 09:04:10   91.55           7.90   \n88203   2018-08-31 08:44:13   65.00           9.21   \n21151   2018-08-31 08:30:21   19.90           7.56   \n64444   2018-08-31 03:15:39  169.00          19.13   \n93959   2018-09-12 03:15:36   49.99           3.57   \n93958   2018-09-03 03:15:36   17.90          10.72   \n93957   2018-09-03 03:15:36   17.90          10.72   \n93956   2018-09-03 03:15:36   17.90          10.72   \n72922   2018-09-03 03:10:17   42.00          12.80   \n72923   2018-08-31 03:10:17   65.00           6.40   \n72924   2018-09-03 03:10:17   42.00          12.80   \n33806   2018-08-30 23:05:10   29.99           8.37   \n102105  2018-09-11 22:43:50   39.99           9.03   \n102106  2018-09-11 22:43:50   39.99           9.03   \n96828   2018-09-04 22:10:12  149.90          12.07   \n279     2018-08-30 21:25:15   59.90           7.68   \n\n                             customer_id order_status  \\\n23530   898b7fee99c4e42170ab69ba59be0a8b    delivered   \n1722    496630b6740bcca28fce9ba50d8a26ef    delivered   \n4924    e60df9449653a95af4549bbfcb18a6eb    delivered   \n4925    e60df9449653a95af4549bbfcb18a6eb    delivered   \n9829    6e353700bc7bcdf6ebc15d6de16d7002    delivered   \n36164   e450a297a7bc6839ceb0cf1a2377fa02    delivered   \n91787   56b1ac2855cc6d7950b4ffa6a9b41b0d    delivered   \n94807   10a79ef2783cae3d8d678e85fde235ac    delivered   \n63590   b8c19e70d00f6927388e4f31c923d785    delivered   \n110563  54365416b7ef5599f54a6c7821d5d290    delivered   \n84015   448945bc713d98b6726e82eda6249b9e    delivered   \n84016   448945bc713d98b6726e82eda6249b9e    delivered   \n84017   448945bc713d98b6726e82eda6249b9e    delivered   \n84018   448945bc713d98b6726e82eda6249b9e    delivered   \n84019   448945bc713d98b6726e82eda6249b9e    delivered   \n88203   c4c66f47534e09a03fc7a878a9eda5ea    delivered   \n21151   931bfab7036f6763dc1bdf6e2696e08b    delivered   \n64444   be169d57b327a59f2db49cffdc6caf13    delivered   \n93959   49a6ae8a95c6a78d90945b983ab1ecfc    delivered   \n93958   49a6ae8a95c6a78d90945b983ab1ecfc    delivered   \n93957   49a6ae8a95c6a78d90945b983ab1ecfc    delivered   \n93956   49a6ae8a95c6a78d90945b983ab1ecfc    delivered   \n72922   c24bbeb8111fea27eab791a37e665210    delivered   \n72923   c24bbeb8111fea27eab791a37e665210    delivered   \n72924   c24bbeb8111fea27eab791a37e665210    delivered   \n33806   8ffe52ac7d480a27180338e697eec534    delivered   \n102105  004440537b68545ca3c341d7279bc4c0    delivered   \n102106  004440537b68545ca3c341d7279bc4c0    delivered   \n96828   478778636c75019554439f75286a22e3    delivered   \n279     0b5f6687d659478f1747caed607c4ec5    delivered   \n\n       order_purchase_timestamp   order_approved_at  \\\n23530       2018-08-29 15:00:37 2018-08-29 15:10:26   \n1722        2018-08-29 14:52:00 2018-08-29 15:05:22   \n4924        2018-08-29 14:18:23 2018-08-29 14:31:07   \n4925        2018-08-29 14:18:23 2018-08-29 14:31:07   \n9829        2018-08-29 14:18:28 2018-08-29 14:30:23   \n36164       2018-08-29 12:25:59 2018-08-29 12:35:17   \n91787       2018-08-29 11:06:11 2018-08-29 11:24:02   \n94807       2018-08-29 10:22:35 2018-08-29 10:35:16   \n63590       2018-08-29 09:48:09 2018-08-29 10:04:16   \n110563      2018-08-29 09:14:11 2018-08-29 09:25:12   \n84015       2018-08-29 08:46:11 2018-08-29 09:04:10   \n84016       2018-08-29 08:46:11 2018-08-29 09:04:10   \n84017       2018-08-29 08:46:11 2018-08-29 09:04:10   \n84018       2018-08-29 08:46:11 2018-08-29 09:04:10   \n84019       2018-08-29 08:46:11 2018-08-29 09:04:10   \n88203       2018-08-29 08:25:34 2018-08-29 08:44:13   \n21151       2018-08-28 21:56:12 2018-08-29 08:30:21   \n64444       2018-08-28 15:11:49 2018-08-29 03:15:39   \n93959       2018-08-28 19:32:05 2018-08-29 03:15:36   \n93958       2018-08-28 19:32:05 2018-08-29 03:15:36   \n93957       2018-08-28 19:32:05 2018-08-29 03:15:36   \n93956       2018-08-28 19:32:05 2018-08-29 03:15:36   \n72922       2018-08-27 12:39:11 2018-08-29 03:10:17   \n72923       2018-08-27 12:39:11 2018-08-29 03:10:17   \n72924       2018-08-27 12:39:11 2018-08-29 03:10:17   \n33806       2018-08-28 22:51:54 2018-08-28 23:05:10   \n102105      2018-08-28 22:30:32 2018-08-28 22:43:50   \n102106      2018-08-28 22:30:32 2018-08-28 22:43:50   \n96828       2018-08-28 21:56:30 2018-08-28 22:10:12   \n279         2018-08-28 21:10:46 2018-08-28 21:25:15   \n\n       order_delivered_carrier_date order_delivered_customer_date  \\\n23530           2018-08-29 16:57:00           2018-08-30 16:23:36   \n1722            2018-08-29 20:01:00           2018-08-30 16:36:59   \n4924            2018-08-29 15:29:00           2018-08-30 16:24:55   \n4925            2018-08-29 15:29:00           2018-08-30 16:24:55   \n9829            2018-08-29 18:51:00           2018-08-30 16:52:31   \n36164           2018-08-29 13:38:00           2018-08-30 22:48:27   \n91787           2018-08-29 17:46:00           2018-08-30 23:56:54   \n94807           2018-08-29 19:57:00           2018-08-30 16:03:19   \n63590           2018-08-29 19:01:00           2018-08-30 23:28:52   \n110563          2018-08-29 15:48:00           2018-08-30 13:03:28   \n84015           2018-08-29 13:03:00           2018-08-30 21:54:45   \n84016           2018-08-29 13:03:00           2018-08-30 21:54:45   \n84017           2018-08-29 13:03:00           2018-08-30 21:54:45   \n84018           2018-08-29 13:03:00           2018-08-30 21:54:45   \n84019           2018-08-29 13:03:00           2018-08-30 21:54:45   \n88203           2018-08-29 20:01:00           2018-08-30 16:56:24   \n21151           2018-08-29 13:53:00           2018-08-30 19:04:08   \n64444           2018-08-29 09:47:00           2018-08-30 17:28:28   \n93959           2018-08-29 13:00:00           2018-08-30 18:32:36   \n93958           2018-08-29 13:00:00           2018-08-30 18:32:36   \n93957           2018-08-29 13:00:00           2018-08-30 18:32:36   \n93956           2018-08-29 13:00:00           2018-08-30 18:32:36   \n72922           2018-08-29 15:10:00           2018-08-30 15:42:35   \n72923           2018-08-29 15:10:00           2018-08-30 15:42:35   \n72924           2018-08-29 15:10:00           2018-08-30 15:42:35   \n33806           2018-08-29 12:46:00           2018-08-31 02:03:50   \n102105          2018-08-29 15:00:00           2018-08-30 17:18:48   \n102106          2018-08-29 15:00:00           2018-08-30 17:18:48   \n96828           2018-08-29 19:02:00           2018-08-30 18:22:45   \n279             2018-08-29 13:17:00           2018-08-30 13:38:53   \n\n       order_estimated_delivery_date                customer_unique_id  \\\n23530            2018-09-05 00:00:00  24ac2b4327e25baf39f2119e4228976a   \n1722             2018-09-03 00:00:00  b701bebbdf478f5500348f03aff62121   \n4924             2018-09-04 00:00:00  5c58de6fb80e93396e2f35642666b693   \n4925             2018-09-04 00:00:00  5c58de6fb80e93396e2f35642666b693   \n9829             2018-09-11 00:00:00  7febafa06d9d8f232a900a2937f04338   \n36164            2018-09-03 00:00:00  7a22d14aa3c3599238509ddca4b93b01   \n91787            2018-09-04 00:00:00  0421e7a23f21e5d54efed456aedbc513   \n94807            2018-09-04 00:00:00  21dbe8eabd00b34492a939c540e2b1a7   \n63590            2018-09-04 00:00:00  0c6d7218d5f3fa14514fd29865269993   \n110563           2018-09-04 00:00:00  b4dcade04bc548b7e3b0243c801f8c26   \n84015            2018-09-11 00:00:00  afbcfd0b9c5233e7ccc73428526fbb52   \n84016            2018-09-11 00:00:00  afbcfd0b9c5233e7ccc73428526fbb52   \n84017            2018-09-11 00:00:00  afbcfd0b9c5233e7ccc73428526fbb52   \n84018            2018-09-11 00:00:00  afbcfd0b9c5233e7ccc73428526fbb52   \n84019            2018-09-11 00:00:00  afbcfd0b9c5233e7ccc73428526fbb52   \n88203            2018-09-03 00:00:00  f80013faf776e37bcea7634d59c2181e   \n21151            2018-09-03 00:00:00  1041688b50cfd8ef6df6086a1746a30c   \n64444            2018-09-03 00:00:00  23e6a9d387ba03e2099233222d7635cf   \n93959            2018-09-12 00:00:00  fb7e29c65321441231990afc201c1b14   \n93958            2018-09-12 00:00:00  fb7e29c65321441231990afc201c1b14   \n93957            2018-09-12 00:00:00  fb7e29c65321441231990afc201c1b14   \n93956            2018-09-12 00:00:00  fb7e29c65321441231990afc201c1b14   \n72922            2018-09-27 00:00:00  9906fc374d7fd8d7a8574dd27b1c0c0a   \n72923            2018-09-27 00:00:00  9906fc374d7fd8d7a8574dd27b1c0c0a   \n72924            2018-09-27 00:00:00  9906fc374d7fd8d7a8574dd27b1c0c0a   \n33806            2018-08-31 00:00:00  36a5c01d940c382346247b3e6c485c2d   \n102105           2018-09-12 00:00:00  9dfcc502727549f99c9f73dbd28b35e9   \n102106           2018-09-12 00:00:00  9dfcc502727549f99c9f73dbd28b35e9   \n96828            2018-09-05 00:00:00  a712a430955027da5bc257a10073a390   \n279              2018-09-26 00:00:00  77367b6fbb034ca710d4f41aad009151   \n\n        customer_zip_code_prefix          customer_city customer_state  \n23530                      13483                limeira             SP  \n1722                        9541     sao caetano do sul             SP  \n4924                       80045               curitiba             PR  \n4925                       80045               curitiba             PR  \n9829                       38600               paracatu             MG  \n36164                       5863              sao paulo             SP  \n91787                      13322                  salto             SP  \n94807                       2413              sao paulo             SP  \n63590                       9625  sao bernardo do campo             SP  \n110563                     13184            hortolandia             SP  \n84015                      12243    sao jose dos campos             SP  \n84016                      12243    sao jose dos campos             SP  \n84017                      12243    sao jose dos campos             SP  \n84018                      12243    sao jose dos campos             SP  \n84019                      12243    sao jose dos campos             SP  \n88203                       4716              sao paulo             SP  \n21151                      25720             petropolis             RJ  \n64444                      81312               curitiba             PR  \n93959                       4107              sao paulo             SP  \n93958                       4107              sao paulo             SP  \n93957                       4107              sao paulo             SP  \n93956                       4107              sao paulo             SP  \n72922                       1307              sao paulo             SP  \n72923                       1307              sao paulo             SP  \n72924                       1307              sao paulo             SP  \n33806                       8080              sao paulo             SP  \n102105                      3059              sao paulo             SP  \n102106                      3059              sao paulo             SP  \n96828                       6036                 osasco             SP  \n279                         9185            santo andre             SP  ",
      "text/html": "<div>\n<style scoped>\n    .dataframe tbody tr th:only-of-type {\n        vertical-align: middle;\n    }\n\n    .dataframe tbody tr th {\n        vertical-align: top;\n    }\n\n    .dataframe thead th {\n        text-align: right;\n    }\n</style>\n<table border=\"1\" class=\"dataframe\">\n  <thead>\n    <tr style=\"text-align: right;\">\n      <th></th>\n      <th>order_id</th>\n      <th>order_item_id</th>\n      <th>product_id</th>\n      <th>seller_id</th>\n      <th>shipping_limit_date</th>\n      <th>price</th>\n      <th>freight_value</th>\n      <th>customer_id</th>\n      <th>order_status</th>\n      <th>order_purchase_timestamp</th>\n      <th>order_approved_at</th>\n      <th>order_delivered_carrier_date</th>\n      <th>order_delivered_customer_date</th>\n      <th>order_estimated_delivery_date</th>\n      <th>customer_unique_id</th>\n      <th>customer_zip_code_prefix</th>\n      <th>customer_city</th>\n      <th>customer_state</th>\n    </tr>\n  </thead>\n  <tbody>\n    <tr>\n      <th>23530</th>\n      <td>35a972d7f8436f405b56e36add1a7140</td>\n      <td>1</td>\n      <td>d04857e7b4b708ee8b8b9921163edba3</td>\n      <td>9f505651f4a6abe901a56cdc21508025</td>\n      <td>2018-08-31 15:10:26</td>\n      <td>84.99</td>\n      <td>8.76</td>\n      <td>898b7fee99c4e42170ab69ba59be0a8b</td>\n      <td>delivered</td>\n      <td>2018-08-29 15:00:37</td>\n      <td>2018-08-29 15:10:26</td>\n      <td>2018-08-29 16:57:00</td>\n      <td>2018-08-30 16:23:36</td>\n      <td>2018-09-05 00:00:00</td>\n      <td>24ac2b4327e25baf39f2119e4228976a</td>\n      <td>13483</td>\n      <td>limeira</td>\n      <td>SP</td>\n    </tr>\n    <tr>\n      <th>1722</th>\n      <td>03ef5dedbe7492bdae72eec50764c43f</td>\n      <td>1</td>\n      <td>c7f27c5bef2338541c772b5776403e6a</td>\n      <td>7d7866a99a8656a42c7ff6352a433410</td>\n      <td>2018-08-31 15:05:22</td>\n      <td>24.90</td>\n      <td>8.33</td>\n      <td>496630b6740bcca28fce9ba50d8a26ef</td>\n      <td>delivered</td>\n      <td>2018-08-29 14:52:00</td>\n      <td>2018-08-29 15:05:22</td>\n      <td>2018-08-29 20:01:00</td>\n      <td>2018-08-30 16:36:59</td>\n      <td>2018-09-03 00:00:00</td>\n      <td>b701bebbdf478f5500348f03aff62121</td>\n      <td>9541</td>\n      <td>sao caetano do sul</td>\n      <td>SP</td>\n    </tr>\n    <tr>\n      <th>4924</th>\n      <td>0b223d92c27432930dfe407c6aea3041</td>\n      <td>1</td>\n      <td>2b4472df15512a2825ae86fd9ae79335</td>\n      <td>67bf6941ba2f1fa1d02c375766bc3e53</td>\n      <td>2018-08-31 14:30:19</td>\n      <td>209.00</td>\n      <td>46.48</td>\n      <td>e60df9449653a95af4549bbfcb18a6eb</td>\n      <td>delivered</td>\n      <td>2018-08-29 14:18:23</td>\n      <td>2018-08-29 14:31:07</td>\n      <td>2018-08-29 15:29:00</td>\n      <td>2018-08-30 16:24:55</td>\n      <td>2018-09-04 00:00:00</td>\n      <td>5c58de6fb80e93396e2f35642666b693</td>\n      <td>80045</td>\n      <td>curitiba</td>\n      <td>PR</td>\n    </tr>\n    <tr>\n      <th>4925</th>\n      <td>0b223d92c27432930dfe407c6aea3041</td>\n      <td>2</td>\n      <td>2b4472df15512a2825ae86fd9ae79335</td>\n      <td>67bf6941ba2f1fa1d02c375766bc3e53</td>\n      <td>2018-08-31 14:30:19</td>\n      <td>209.00</td>\n      <td>46.48</td>\n      <td>e60df9449653a95af4549bbfcb18a6eb</td>\n      <td>delivered</td>\n      <td>2018-08-29 14:18:23</td>\n      <td>2018-08-29 14:31:07</td>\n      <td>2018-08-29 15:29:00</td>\n      <td>2018-08-30 16:24:55</td>\n      <td>2018-09-04 00:00:00</td>\n      <td>5c58de6fb80e93396e2f35642666b693</td>\n      <td>80045</td>\n      <td>curitiba</td>\n      <td>PR</td>\n    </tr>\n    <tr>\n      <th>9829</th>\n      <td>168626408cb32af0ffaf76711caae1dc</td>\n      <td>1</td>\n      <td>bdcf6a834e8faa30dac3886c7a58e92e</td>\n      <td>2a84855fd20af891be03bc5924d2b453</td>\n      <td>2018-08-31 14:30:23</td>\n      <td>45.90</td>\n      <td>15.39</td>\n      <td>6e353700bc7bcdf6ebc15d6de16d7002</td>\n      <td>delivered</td>\n      <td>2018-08-29 14:18:28</td>\n      <td>2018-08-29 14:30:23</td>\n      <td>2018-08-29 18:51:00</td>\n      <td>2018-08-30 16:52:31</td>\n      <td>2018-09-11 00:00:00</td>\n      <td>7febafa06d9d8f232a900a2937f04338</td>\n      <td>38600</td>\n      <td>paracatu</td>\n      <td>MG</td>\n    </tr>\n    <tr>\n      <th>36164</th>\n      <td>52018484704db3661b98ce838612b507</td>\n      <td>1</td>\n      <td>777798445efd625458a90c13f3b3e6e7</td>\n      <td>5f2684dab12e59f83bef73ae57724e45</td>\n      <td>2018-08-31 12:35:17</td>\n      <td>63.90</td>\n      <td>9.20</td>\n      <td>e450a297a7bc6839ceb0cf1a2377fa02</td>\n      <td>delivered</td>\n      <td>2018-08-29 12:25:59</td>\n      <td>2018-08-29 12:35:17</td>\n      <td>2018-08-29 13:38:00</td>\n      <td>2018-08-30 22:48:27</td>\n      <td>2018-09-03 00:00:00</td>\n      <td>7a22d14aa3c3599238509ddca4b93b01</td>\n      <td>5863</td>\n      <td>sao paulo</td>\n      <td>SP</td>\n    </tr>\n    <tr>\n      <th>91787</th>\n      <td>d03ca98f59480e7e76c71fa83ecd8fb6</td>\n      <td>1</td>\n      <td>06601c3059e35a3bf65e72f2fd2ac626</td>\n      <td>6b90f847357d8981edd79a1eb1bf0acb</td>\n      <td>2018-08-31 11:24:02</td>\n      <td>109.90</td>\n      <td>9.52</td>\n      <td>56b1ac2855cc6d7950b4ffa6a9b41b0d</td>\n      <td>delivered</td>\n      <td>2018-08-29 11:06:11</td>\n      <td>2018-08-29 11:24:02</td>\n      <td>2018-08-29 17:46:00</td>\n      <td>2018-08-30 23:56:54</td>\n      <td>2018-09-04 00:00:00</td>\n      <td>0421e7a23f21e5d54efed456aedbc513</td>\n      <td>13322</td>\n      <td>salto</td>\n      <td>SP</td>\n    </tr>\n    <tr>\n      <th>94807</th>\n      <td>d70442bc5e3cb7438da497cc6a210f80</td>\n      <td>1</td>\n      <td>9a8706b8c060b16e5f0d2925f20bc35b</td>\n      <td>0be8ff43f22e456b4e0371b2245e4d01</td>\n      <td>2018-09-03 10:35:16</td>\n      <td>6.90</td>\n      <td>7.39</td>\n      <td>10a79ef2783cae3d8d678e85fde235ac</td>\n      <td>delivered</td>\n      <td>2018-08-29 10:22:35</td>\n      <td>2018-08-29 10:35:16</td>\n      <td>2018-08-29 19:57:00</td>\n      <td>2018-08-30 16:03:19</td>\n      <td>2018-09-04 00:00:00</td>\n      <td>21dbe8eabd00b34492a939c540e2b1a7</td>\n      <td>2413</td>\n      <td>sao paulo</td>\n      <td>SP</td>\n    </tr>\n    <tr>\n      <th>63590</th>\n      <td>912859fef5a0bd5059b6d48fa79d121a</td>\n      <td>1</td>\n      <td>9865c67a74684715521d1e70226cce0b</td>\n      <td>fa1c13f2614d7b5c4749cbc52fecda94</td>\n      <td>2018-09-03 10:04:16</td>\n      <td>169.80</td>\n      <td>8.45</td>\n      <td>b8c19e70d00f6927388e4f31c923d785</td>\n      <td>delivered</td>\n      <td>2018-08-29 09:48:09</td>\n      <td>2018-08-29 10:04:16</td>\n      <td>2018-08-29 19:01:00</td>\n      <td>2018-08-30 23:28:52</td>\n      <td>2018-09-04 00:00:00</td>\n      <td>0c6d7218d5f3fa14514fd29865269993</td>\n      <td>9625</td>\n      <td>sao bernardo do campo</td>\n      <td>SP</td>\n    </tr>\n    <tr>\n      <th>110563</th>\n      <td>fb393211459aac00af932cd7ab4fa2cc</td>\n      <td>1</td>\n      <td>b6b76b074ed0d77d0f3443b12d8adb5e</td>\n      <td>6560211a19b47992c3666cc44a7e94c0</td>\n      <td>2018-08-31 09:25:12</td>\n      <td>99.00</td>\n      <td>7.95</td>\n      <td>54365416b7ef5599f54a6c7821d5d290</td>\n      <td>delivered</td>\n      <td>2018-08-29 09:14:11</td>\n      <td>2018-08-29 09:25:12</td>\n      <td>2018-08-29 15:48:00</td>\n      <td>2018-08-30 13:03:28</td>\n      <td>2018-09-04 00:00:00</td>\n      <td>b4dcade04bc548b7e3b0243c801f8c26</td>\n      <td>13184</td>\n      <td>hortolandia</td>\n      <td>SP</td>\n    </tr>\n    <tr>\n      <th>84015</th>\n      <td>bee12e8653a04e76786e8891cfb6330a</td>\n      <td>1</td>\n      <td>8d4dac6177fb8134f26fb4c5cc6c0aff</td>\n      <td>c70c1b0d8ca86052f45a432a38b73958</td>\n      <td>2018-09-06 09:04:10</td>\n      <td>91.55</td>\n      <td>7.90</td>\n      <td>448945bc713d98b6726e82eda6249b9e</td>\n      <td>delivered</td>\n      <td>2018-08-29 08:46:11</td>\n      <td>2018-08-29 09:04:10</td>\n      <td>2018-08-29 13:03:00</td>\n      <td>2018-08-30 21:54:45</td>\n      <td>2018-09-11 00:00:00</td>\n      <td>afbcfd0b9c5233e7ccc73428526fbb52</td>\n      <td>12243</td>\n      <td>sao jose dos campos</td>\n      <td>SP</td>\n    </tr>\n    <tr>\n      <th>84016</th>\n      <td>bee12e8653a04e76786e8891cfb6330a</td>\n      <td>2</td>\n      <td>8d4dac6177fb8134f26fb4c5cc6c0aff</td>\n      <td>c70c1b0d8ca86052f45a432a38b73958</td>\n      <td>2018-09-06 09:04:10</td>\n      <td>91.55</td>\n      <td>7.90</td>\n      <td>448945bc713d98b6726e82eda6249b9e</td>\n      <td>delivered</td>\n      <td>2018-08-29 08:46:11</td>\n      <td>2018-08-29 09:04:10</td>\n      <td>2018-08-29 13:03:00</td>\n      <td>2018-08-30 21:54:45</td>\n      <td>2018-09-11 00:00:00</td>\n      <td>afbcfd0b9c5233e7ccc73428526fbb52</td>\n      <td>12243</td>\n      <td>sao jose dos campos</td>\n      <td>SP</td>\n    </tr>\n    <tr>\n      <th>84017</th>\n      <td>bee12e8653a04e76786e8891cfb6330a</td>\n      <td>3</td>\n      <td>8d4dac6177fb8134f26fb4c5cc6c0aff</td>\n      <td>c70c1b0d8ca86052f45a432a38b73958</td>\n      <td>2018-09-06 09:04:10</td>\n      <td>91.55</td>\n      <td>7.90</td>\n      <td>448945bc713d98b6726e82eda6249b9e</td>\n      <td>delivered</td>\n      <td>2018-08-29 08:46:11</td>\n      <td>2018-08-29 09:04:10</td>\n      <td>2018-08-29 13:03:00</td>\n      <td>2018-08-30 21:54:45</td>\n      <td>2018-09-11 00:00:00</td>\n      <td>afbcfd0b9c5233e7ccc73428526fbb52</td>\n      <td>12243</td>\n      <td>sao jose dos campos</td>\n      <td>SP</td>\n    </tr>\n    <tr>\n      <th>84018</th>\n      <td>bee12e8653a04e76786e8891cfb6330a</td>\n      <td>4</td>\n      <td>8d4dac6177fb8134f26fb4c5cc6c0aff</td>\n      <td>c70c1b0d8ca86052f45a432a38b73958</td>\n      <td>2018-09-06 09:04:10</td>\n      <td>91.55</td>\n      <td>7.90</td>\n      <td>448945bc713d98b6726e82eda6249b9e</td>\n      <td>delivered</td>\n      <td>2018-08-29 08:46:11</td>\n      <td>2018-08-29 09:04:10</td>\n      <td>2018-08-29 13:03:00</td>\n      <td>2018-08-30 21:54:45</td>\n      <td>2018-09-11 00:00:00</td>\n      <td>afbcfd0b9c5233e7ccc73428526fbb52</td>\n      <td>12243</td>\n      <td>sao jose dos campos</td>\n      <td>SP</td>\n    </tr>\n    <tr>\n      <th>84019</th>\n      <td>bee12e8653a04e76786e8891cfb6330a</td>\n      <td>5</td>\n      <td>8d4dac6177fb8134f26fb4c5cc6c0aff</td>\n      <td>c70c1b0d8ca86052f45a432a38b73958</td>\n      <td>2018-09-06 09:04:10</td>\n      <td>91.55</td>\n      <td>7.90</td>\n      <td>448945bc713d98b6726e82eda6249b9e</td>\n      <td>delivered</td>\n      <td>2018-08-29 08:46:11</td>\n      <td>2018-08-29 09:04:10</td>\n      <td>2018-08-29 13:03:00</td>\n      <td>2018-08-30 21:54:45</td>\n      <td>2018-09-11 00:00:00</td>\n      <td>afbcfd0b9c5233e7ccc73428526fbb52</td>\n      <td>12243</td>\n      <td>sao jose dos campos</td>\n      <td>SP</td>\n    </tr>\n    <tr>\n      <th>88203</th>\n      <td>c84d88553f9878bf2c7ecda2eb211ece</td>\n      <td>1</td>\n      <td>24bc2932a12c983f8e76d828b65cf39b</td>\n      <td>5a413ade68e8f8d93071a7f52a64cb9e</td>\n      <td>2018-08-31 08:44:13</td>\n      <td>65.00</td>\n      <td>9.21</td>\n      <td>c4c66f47534e09a03fc7a878a9eda5ea</td>\n      <td>delivered</td>\n      <td>2018-08-29 08:25:34</td>\n      <td>2018-08-29 08:44:13</td>\n      <td>2018-08-29 20:01:00</td>\n      <td>2018-08-30 16:56:24</td>\n      <td>2018-09-03 00:00:00</td>\n      <td>f80013faf776e37bcea7634d59c2181e</td>\n      <td>4716</td>\n      <td>sao paulo</td>\n      <td>SP</td>\n    </tr>\n    <tr>\n      <th>21151</th>\n      <td>3064071cf67a2cc381cd53b13055eac5</td>\n      <td>1</td>\n      <td>15de022edf1005363381e66bed514528</td>\n      <td>537eb890efff034a88679788b647c564</td>\n      <td>2018-08-31 08:30:21</td>\n      <td>19.90</td>\n      <td>7.56</td>\n      <td>931bfab7036f6763dc1bdf6e2696e08b</td>\n      <td>delivered</td>\n      <td>2018-08-28 21:56:12</td>\n      <td>2018-08-29 08:30:21</td>\n      <td>2018-08-29 13:53:00</td>\n      <td>2018-08-30 19:04:08</td>\n      <td>2018-09-03 00:00:00</td>\n      <td>1041688b50cfd8ef6df6086a1746a30c</td>\n      <td>25720</td>\n      <td>petropolis</td>\n      <td>RJ</td>\n    </tr>\n    <tr>\n      <th>64444</th>\n      <td>9344079d5fbb7dd79af908b7eb667db7</td>\n      <td>1</td>\n      <td>3adde396ccd202b8fe21807c2b624f4c</td>\n      <td>0241d4d5d36f10f80c644447315af0bd</td>\n      <td>2018-08-31 03:15:39</td>\n      <td>169.00</td>\n      <td>19.13</td>\n      <td>be169d57b327a59f2db49cffdc6caf13</td>\n      <td>delivered</td>\n      <td>2018-08-28 15:11:49</td>\n      <td>2018-08-29 03:15:39</td>\n      <td>2018-08-29 09:47:00</td>\n      <td>2018-08-30 17:28:28</td>\n      <td>2018-09-03 00:00:00</td>\n      <td>23e6a9d387ba03e2099233222d7635cf</td>\n      <td>81312</td>\n      <td>curitiba</td>\n      <td>PR</td>\n    </tr>\n    <tr>\n      <th>93959</th>\n      <td>d4fae577806d683110e00e18a5e181be</td>\n      <td>4</td>\n      <td>7001d71d1ad858e07e5a341649412e76</td>\n      <td>f0b47fbbc6dee9aafe415a6e33051b3f</td>\n      <td>2018-09-12 03:15:36</td>\n      <td>49.99</td>\n      <td>3.57</td>\n      <td>49a6ae8a95c6a78d90945b983ab1ecfc</td>\n      <td>delivered</td>\n      <td>2018-08-28 19:32:05</td>\n      <td>2018-08-29 03:15:36</td>\n      <td>2018-08-29 13:00:00</td>\n      <td>2018-08-30 18:32:36</td>\n      <td>2018-09-12 00:00:00</td>\n      <td>fb7e29c65321441231990afc201c1b14</td>\n      <td>4107</td>\n      <td>sao paulo</td>\n      <td>SP</td>\n    </tr>\n    <tr>\n      <th>93958</th>\n      <td>d4fae577806d683110e00e18a5e181be</td>\n      <td>3</td>\n      <td>59536eeb13a52ef81966f81b91fb481e</td>\n      <td>98dac6635aee4995d501a3972e047414</td>\n      <td>2018-09-03 03:15:36</td>\n      <td>17.90</td>\n      <td>10.72</td>\n      <td>49a6ae8a95c6a78d90945b983ab1ecfc</td>\n      <td>delivered</td>\n      <td>2018-08-28 19:32:05</td>\n      <td>2018-08-29 03:15:36</td>\n      <td>2018-08-29 13:00:00</td>\n      <td>2018-08-30 18:32:36</td>\n      <td>2018-09-12 00:00:00</td>\n      <td>fb7e29c65321441231990afc201c1b14</td>\n      <td>4107</td>\n      <td>sao paulo</td>\n      <td>SP</td>\n    </tr>\n    <tr>\n      <th>93957</th>\n      <td>d4fae577806d683110e00e18a5e181be</td>\n      <td>2</td>\n      <td>59536eeb13a52ef81966f81b91fb481e</td>\n      <td>98dac6635aee4995d501a3972e047414</td>\n      <td>2018-09-03 03:15:36</td>\n      <td>17.90</td>\n      <td>10.72</td>\n      <td>49a6ae8a95c6a78d90945b983ab1ecfc</td>\n      <td>delivered</td>\n      <td>2018-08-28 19:32:05</td>\n      <td>2018-08-29 03:15:36</td>\n      <td>2018-08-29 13:00:00</td>\n      <td>2018-08-30 18:32:36</td>\n      <td>2018-09-12 00:00:00</td>\n      <td>fb7e29c65321441231990afc201c1b14</td>\n      <td>4107</td>\n      <td>sao paulo</td>\n      <td>SP</td>\n    </tr>\n    <tr>\n      <th>93956</th>\n      <td>d4fae577806d683110e00e18a5e181be</td>\n      <td>1</td>\n      <td>59536eeb13a52ef81966f81b91fb481e</td>\n      <td>98dac6635aee4995d501a3972e047414</td>\n      <td>2018-09-03 03:15:36</td>\n      <td>17.90</td>\n      <td>10.72</td>\n      <td>49a6ae8a95c6a78d90945b983ab1ecfc</td>\n      <td>delivered</td>\n      <td>2018-08-28 19:32:05</td>\n      <td>2018-08-29 03:15:36</td>\n      <td>2018-08-29 13:00:00</td>\n      <td>2018-08-30 18:32:36</td>\n      <td>2018-09-12 00:00:00</td>\n      <td>fb7e29c65321441231990afc201c1b14</td>\n      <td>4107</td>\n      <td>sao paulo</td>\n      <td>SP</td>\n    </tr>\n    <tr>\n      <th>72922</th>\n      <td>a63d6f123bbccd71286ef76811cb2a3b</td>\n      <td>1</td>\n      <td>b6b220a6c539cb65be34eed6fea8fe63</td>\n      <td>c731d18cea9bf687ffee82a241c25b11</td>\n      <td>2018-09-03 03:10:17</td>\n      <td>42.00</td>\n      <td>12.80</td>\n      <td>c24bbeb8111fea27eab791a37e665210</td>\n      <td>delivered</td>\n      <td>2018-08-27 12:39:11</td>\n      <td>2018-08-29 03:10:17</td>\n      <td>2018-08-29 15:10:00</td>\n      <td>2018-08-30 15:42:35</td>\n      <td>2018-09-27 00:00:00</td>\n      <td>9906fc374d7fd8d7a8574dd27b1c0c0a</td>\n      <td>1307</td>\n      <td>sao paulo</td>\n      <td>SP</td>\n    </tr>\n    <tr>\n      <th>72923</th>\n      <td>a63d6f123bbccd71286ef76811cb2a3b</td>\n      <td>2</td>\n      <td>8cf22b2cc9465d64474a09853b62f5b2</td>\n      <td>ed8cb7b190ceb6067227478e48cf8dde</td>\n      <td>2018-08-31 03:10:17</td>\n      <td>65.00</td>\n      <td>6.40</td>\n      <td>c24bbeb8111fea27eab791a37e665210</td>\n      <td>delivered</td>\n      <td>2018-08-27 12:39:11</td>\n      <td>2018-08-29 03:10:17</td>\n      <td>2018-08-29 15:10:00</td>\n      <td>2018-08-30 15:42:35</td>\n      <td>2018-09-27 00:00:00</td>\n      <td>9906fc374d7fd8d7a8574dd27b1c0c0a</td>\n      <td>1307</td>\n      <td>sao paulo</td>\n      <td>SP</td>\n    </tr>\n    <tr>\n      <th>72924</th>\n      <td>a63d6f123bbccd71286ef76811cb2a3b</td>\n      <td>3</td>\n      <td>b6b220a6c539cb65be34eed6fea8fe63</td>\n      <td>c731d18cea9bf687ffee82a241c25b11</td>\n      <td>2018-09-03 03:10:17</td>\n      <td>42.00</td>\n      <td>12.80</td>\n      <td>c24bbeb8111fea27eab791a37e665210</td>\n      <td>delivered</td>\n      <td>2018-08-27 12:39:11</td>\n      <td>2018-08-29 03:10:17</td>\n      <td>2018-08-29 15:10:00</td>\n      <td>2018-08-30 15:42:35</td>\n      <td>2018-09-27 00:00:00</td>\n      <td>9906fc374d7fd8d7a8574dd27b1c0c0a</td>\n      <td>1307</td>\n      <td>sao paulo</td>\n      <td>SP</td>\n    </tr>\n    <tr>\n      <th>33806</th>\n      <td>4c867c2aac81653679eff07e922441a0</td>\n      <td>1</td>\n      <td>99c803fd17abc7a255efe370d53744e3</td>\n      <td>6b90f847357d8981edd79a1eb1bf0acb</td>\n      <td>2018-08-30 23:05:10</td>\n      <td>29.99</td>\n      <td>8.37</td>\n      <td>8ffe52ac7d480a27180338e697eec534</td>\n      <td>delivered</td>\n      <td>2018-08-28 22:51:54</td>\n      <td>2018-08-28 23:05:10</td>\n      <td>2018-08-29 12:46:00</td>\n      <td>2018-08-31 02:03:50</td>\n      <td>2018-08-31 00:00:00</td>\n      <td>36a5c01d940c382346247b3e6c485c2d</td>\n      <td>8080</td>\n      <td>sao paulo</td>\n      <td>SP</td>\n    </tr>\n    <tr>\n      <th>102105</th>\n      <td>e7c290bfc31d7eed478c3d3d2d4d2953</td>\n      <td>1</td>\n      <td>44406b87e5ac6494cdb0c9dccd3b88d3</td>\n      <td>7dc8c42cc750eeafea6c85712ffee9bf</td>\n      <td>2018-09-11 22:43:50</td>\n      <td>39.99</td>\n      <td>9.03</td>\n      <td>004440537b68545ca3c341d7279bc4c0</td>\n      <td>delivered</td>\n      <td>2018-08-28 22:30:32</td>\n      <td>2018-08-28 22:43:50</td>\n      <td>2018-08-29 15:00:00</td>\n      <td>2018-08-30 17:18:48</td>\n      <td>2018-09-12 00:00:00</td>\n      <td>9dfcc502727549f99c9f73dbd28b35e9</td>\n      <td>3059</td>\n      <td>sao paulo</td>\n      <td>SP</td>\n    </tr>\n    <tr>\n      <th>102106</th>\n      <td>e7c290bfc31d7eed478c3d3d2d4d2953</td>\n      <td>2</td>\n      <td>44406b87e5ac6494cdb0c9dccd3b88d3</td>\n      <td>7dc8c42cc750eeafea6c85712ffee9bf</td>\n      <td>2018-09-11 22:43:50</td>\n      <td>39.99</td>\n      <td>9.03</td>\n      <td>004440537b68545ca3c341d7279bc4c0</td>\n      <td>delivered</td>\n      <td>2018-08-28 22:30:32</td>\n      <td>2018-08-28 22:43:50</td>\n      <td>2018-08-29 15:00:00</td>\n      <td>2018-08-30 17:18:48</td>\n      <td>2018-09-12 00:00:00</td>\n      <td>9dfcc502727549f99c9f73dbd28b35e9</td>\n      <td>3059</td>\n      <td>sao paulo</td>\n      <td>SP</td>\n    </tr>\n    <tr>\n      <th>96828</th>\n      <td>dbb786f88b6d4e52fe3cb5d771b979d6</td>\n      <td>1</td>\n      <td>39a1a3b9314738724fce4b2907ae6686</td>\n      <td>da8622b14eb17ae2831f4ac5b9dab84a</td>\n      <td>2018-09-04 22:10:12</td>\n      <td>149.90</td>\n      <td>12.07</td>\n      <td>478778636c75019554439f75286a22e3</td>\n      <td>delivered</td>\n      <td>2018-08-28 21:56:30</td>\n      <td>2018-08-28 22:10:12</td>\n      <td>2018-08-29 19:02:00</td>\n      <td>2018-08-30 18:22:45</td>\n      <td>2018-09-05 00:00:00</td>\n      <td>a712a430955027da5bc257a10073a390</td>\n      <td>6036</td>\n      <td>osasco</td>\n      <td>SP</td>\n    </tr>\n    <tr>\n      <th>279</th>\n      <td>00b44ba3d7c4a5e9a9ebafef9150781d</td>\n      <td>1</td>\n      <td>d9a5a5120d4d357871acd5408cb10e18</td>\n      <td>20d83f3ef0e6925fd74bfd59170babf7</td>\n      <td>2018-08-30 21:25:15</td>\n      <td>59.90</td>\n      <td>7.68</td>\n      <td>0b5f6687d659478f1747caed607c4ec5</td>\n      <td>delivered</td>\n      <td>2018-08-28 21:10:46</td>\n      <td>2018-08-28 21:25:15</td>\n      <td>2018-08-29 13:17:00</td>\n      <td>2018-08-30 13:38:53</td>\n      <td>2018-09-26 00:00:00</td>\n      <td>77367b6fbb034ca710d4f41aad009151</td>\n      <td>9185</td>\n      <td>santo andre</td>\n      <td>SP</td>\n    </tr>\n  </tbody>\n</table>\n</div>"
     },
     "metadata": {}
    }
   ],
   "source": [
    "# Creating the DataFrame, assigning datatypes\n",
    "df_oi_o_c = df_oi.merge(df_o.merge(df_c, on='customer_id', how='inner'), on='order_id', how='inner')\n",
    "df_oi_o_c['order_approved_at'] = pd.to_datetime(df_oi_o_c['order_approved_at'])\n",
    "df_oi_o_c = df_oi_o_c.loc[(df_oi_o_c['order_approved_at'] >= datetime.datetime.strptime('2017-01', '%Y-%m')) & (df_oi_o_c['order_approved_at'] < datetime.datetime.strptime('2018-09', '%Y-%m')) & (df_oi_o_c['order_status'] == 'delivered')]\n",
    "display(df_oi_o_c.sort_values(by=['order_approved_at'], ascending=False).head(30))"
   ]
  },
  {
   "cell_type": "code",
   "execution_count": 9,
   "metadata": {},
   "outputs": [
    {
     "output_type": "display_data",
     "data": {
      "text/plain": "                                order_id  order_item_id  \\\n23530   35a972d7f8436f405b56e36add1a7140              1   \n1722    03ef5dedbe7492bdae72eec50764c43f              1   \n4924    0b223d92c27432930dfe407c6aea3041              1   \n4925    0b223d92c27432930dfe407c6aea3041              2   \n9829    168626408cb32af0ffaf76711caae1dc              1   \n...                                  ...            ...   \n101735  e6db6e9529fecbe14cd05dd349816656              1   \n9408    157ec3dc3f38cdbd2706bd216edfe8fb              1   \n106868  f2dd5f15184c73c0d45c02941c7c23d1              1   \n99649   e1fe072ef14b519af1f0a8ed997c1301              1   \n104115  ec7a019261fce44180373d45b442d78f              1   \n\n                              product_id                         seller_id  \\\n23530   d04857e7b4b708ee8b8b9921163edba3  9f505651f4a6abe901a56cdc21508025   \n1722    c7f27c5bef2338541c772b5776403e6a  7d7866a99a8656a42c7ff6352a433410   \n4924    2b4472df15512a2825ae86fd9ae79335  67bf6941ba2f1fa1d02c375766bc3e53   \n4925    2b4472df15512a2825ae86fd9ae79335  67bf6941ba2f1fa1d02c375766bc3e53   \n9829    bdcf6a834e8faa30dac3886c7a58e92e  2a84855fd20af891be03bc5924d2b453   \n...                                  ...                               ...   \n101735  06ead9c0b05b368667d858c09148af03  b2ba3715d723d245138f291a6fe42594   \n9408    27066995b777fb84dbcb25961fd6d007  46dc3b2cc0980fb8ec44634e21d2718e   \n106868  b931645cdc2d9868f01544e8db63f5ab  b14db04aa7881970e83ffa9426897925   \n99649   743801b34cc44776de511ba8eff778e2  48efc9d94a9834137efd9ea76b065a38   \n104115  f5d8f4fbc70ca2a0038b9a0010ed5cb0  48efc9d94a9834137efd9ea76b065a38   \n\n        shipping_limit_date   price  freight_value  \\\n23530   2018-08-31 15:10:26   84.99           8.76   \n1722    2018-08-31 15:05:22   24.90           8.33   \n4924    2018-08-31 14:30:19  209.00          46.48   \n4925    2018-08-31 14:30:19  209.00          46.48   \n9829    2018-08-31 14:30:23   45.90          15.39   \n...                     ...     ...            ...   \n101735  2017-01-15 21:27:49  109.90          14.94   \n9408    2017-01-10 13:43:16  159.99          15.29   \n106868  2017-01-09 22:52:33   65.00          26.92   \n99649   2017-01-09 15:32:59    9.90          14.52   \n104115  2017-01-09 11:56:06   10.90           8.72   \n\n                             customer_id order_status  \\\n23530   898b7fee99c4e42170ab69ba59be0a8b    delivered   \n1722    496630b6740bcca28fce9ba50d8a26ef    delivered   \n4924    e60df9449653a95af4549bbfcb18a6eb    delivered   \n4925    e60df9449653a95af4549bbfcb18a6eb    delivered   \n9829    6e353700bc7bcdf6ebc15d6de16d7002    delivered   \n...                                  ...          ...   \n101735  6b3efc29f67766dd725bb29e857614f2    delivered   \n9408    7dfd10dcc726950fc6171cea83872351    delivered   \n106868  4b60b3ade055c6ad88a00758c8e8a162    delivered   \n99649   758b633d88b82063db189810084f4ea9    delivered   \n104115  c24fc5f9a446b4d8262041b9c64de772    delivered   \n\n       order_purchase_timestamp   order_approved_at  \\\n23530       2018-08-29 15:00:37 2018-08-29 15:10:26   \n1722        2018-08-29 14:52:00 2018-08-29 15:05:22   \n4924        2018-08-29 14:18:23 2018-08-29 14:31:07   \n4925        2018-08-29 14:18:23 2018-08-29 14:31:07   \n9829        2018-08-29 14:18:28 2018-08-29 14:30:23   \n...                         ...                 ...   \n101735      2017-01-06 21:27:49 2017-01-06 21:35:20   \n9408        2017-01-06 13:43:16 2017-01-06 13:55:11   \n106868      2017-01-05 22:52:33 2017-01-05 23:05:27   \n99649       2017-01-05 15:32:59 2017-01-05 16:15:16   \n104115      2017-01-05 11:56:06 2017-01-05 12:10:17   \n\n       order_delivered_carrier_date order_delivered_customer_date  \\\n23530           2018-08-29 16:57:00           2018-08-30 16:23:36   \n1722            2018-08-29 20:01:00           2018-08-30 16:36:59   \n4924            2018-08-29 15:29:00           2018-08-30 16:24:55   \n4925            2018-08-29 15:29:00           2018-08-30 16:24:55   \n9829            2018-08-29 18:51:00           2018-08-30 16:52:31   \n...                             ...                           ...   \n101735          2017-01-09 12:08:34           2017-01-13 13:57:29   \n9408            2017-01-09 16:03:33           2017-01-13 10:58:13   \n106868          2017-01-06 16:08:45           2017-01-13 17:06:48   \n99649           2017-01-06 13:45:22           2017-01-12 14:13:19   \n104115          2017-01-06 12:43:41           2017-01-11 13:14:05   \n\n       order_estimated_delivery_date                customer_unique_id  \\\n23530            2018-09-05 00:00:00  24ac2b4327e25baf39f2119e4228976a   \n1722             2018-09-03 00:00:00  b701bebbdf478f5500348f03aff62121   \n4924             2018-09-04 00:00:00  5c58de6fb80e93396e2f35642666b693   \n4925             2018-09-04 00:00:00  5c58de6fb80e93396e2f35642666b693   \n9829             2018-09-11 00:00:00  7febafa06d9d8f232a900a2937f04338   \n...                              ...                               ...   \n101735           2017-02-20 00:00:00  c9517b423493063fa4e805acf2cc4564   \n9408             2017-02-16 00:00:00  48368b31672665cca1b8a03047a1702a   \n106868           2017-02-23 00:00:00  b88b78a413e70182e18b032361b24f91   \n99649            2017-02-15 00:00:00  4b3207464f5f7a48a7f63fa0b1251d86   \n104115           2017-02-01 00:00:00  f7b981e8a280e455ac3cbe0d5d171bd1   \n\n        customer_zip_code_prefix       customer_city customer_state  \n23530                      13483             limeira             SP  \n1722                        9541  sao caetano do sul             SP  \n4924                       80045            curitiba             PR  \n4925                       80045            curitiba             PR  \n9829                       38600            paracatu             MG  \n...                          ...                 ...            ...  \n101735                     33400         lagoa santa             MG  \n9408                       33115         santa luzia             MG  \n106868                     44900               irece             BA  \n99649                      14025      ribeirao preto             SP  \n104115                     80030            curitiba             PR  \n\n[109865 rows x 18 columns]",
      "text/html": "<div>\n<style scoped>\n    .dataframe tbody tr th:only-of-type {\n        vertical-align: middle;\n    }\n\n    .dataframe tbody tr th {\n        vertical-align: top;\n    }\n\n    .dataframe thead th {\n        text-align: right;\n    }\n</style>\n<table border=\"1\" class=\"dataframe\">\n  <thead>\n    <tr style=\"text-align: right;\">\n      <th></th>\n      <th>order_id</th>\n      <th>order_item_id</th>\n      <th>product_id</th>\n      <th>seller_id</th>\n      <th>shipping_limit_date</th>\n      <th>price</th>\n      <th>freight_value</th>\n      <th>customer_id</th>\n      <th>order_status</th>\n      <th>order_purchase_timestamp</th>\n      <th>order_approved_at</th>\n      <th>order_delivered_carrier_date</th>\n      <th>order_delivered_customer_date</th>\n      <th>order_estimated_delivery_date</th>\n      <th>customer_unique_id</th>\n      <th>customer_zip_code_prefix</th>\n      <th>customer_city</th>\n      <th>customer_state</th>\n    </tr>\n  </thead>\n  <tbody>\n    <tr>\n      <th>23530</th>\n      <td>35a972d7f8436f405b56e36add1a7140</td>\n      <td>1</td>\n      <td>d04857e7b4b708ee8b8b9921163edba3</td>\n      <td>9f505651f4a6abe901a56cdc21508025</td>\n      <td>2018-08-31 15:10:26</td>\n      <td>84.99</td>\n      <td>8.76</td>\n      <td>898b7fee99c4e42170ab69ba59be0a8b</td>\n      <td>delivered</td>\n      <td>2018-08-29 15:00:37</td>\n      <td>2018-08-29 15:10:26</td>\n      <td>2018-08-29 16:57:00</td>\n      <td>2018-08-30 16:23:36</td>\n      <td>2018-09-05 00:00:00</td>\n      <td>24ac2b4327e25baf39f2119e4228976a</td>\n      <td>13483</td>\n      <td>limeira</td>\n      <td>SP</td>\n    </tr>\n    <tr>\n      <th>1722</th>\n      <td>03ef5dedbe7492bdae72eec50764c43f</td>\n      <td>1</td>\n      <td>c7f27c5bef2338541c772b5776403e6a</td>\n      <td>7d7866a99a8656a42c7ff6352a433410</td>\n      <td>2018-08-31 15:05:22</td>\n      <td>24.90</td>\n      <td>8.33</td>\n      <td>496630b6740bcca28fce9ba50d8a26ef</td>\n      <td>delivered</td>\n      <td>2018-08-29 14:52:00</td>\n      <td>2018-08-29 15:05:22</td>\n      <td>2018-08-29 20:01:00</td>\n      <td>2018-08-30 16:36:59</td>\n      <td>2018-09-03 00:00:00</td>\n      <td>b701bebbdf478f5500348f03aff62121</td>\n      <td>9541</td>\n      <td>sao caetano do sul</td>\n      <td>SP</td>\n    </tr>\n    <tr>\n      <th>4924</th>\n      <td>0b223d92c27432930dfe407c6aea3041</td>\n      <td>1</td>\n      <td>2b4472df15512a2825ae86fd9ae79335</td>\n      <td>67bf6941ba2f1fa1d02c375766bc3e53</td>\n      <td>2018-08-31 14:30:19</td>\n      <td>209.00</td>\n      <td>46.48</td>\n      <td>e60df9449653a95af4549bbfcb18a6eb</td>\n      <td>delivered</td>\n      <td>2018-08-29 14:18:23</td>\n      <td>2018-08-29 14:31:07</td>\n      <td>2018-08-29 15:29:00</td>\n      <td>2018-08-30 16:24:55</td>\n      <td>2018-09-04 00:00:00</td>\n      <td>5c58de6fb80e93396e2f35642666b693</td>\n      <td>80045</td>\n      <td>curitiba</td>\n      <td>PR</td>\n    </tr>\n    <tr>\n      <th>4925</th>\n      <td>0b223d92c27432930dfe407c6aea3041</td>\n      <td>2</td>\n      <td>2b4472df15512a2825ae86fd9ae79335</td>\n      <td>67bf6941ba2f1fa1d02c375766bc3e53</td>\n      <td>2018-08-31 14:30:19</td>\n      <td>209.00</td>\n      <td>46.48</td>\n      <td>e60df9449653a95af4549bbfcb18a6eb</td>\n      <td>delivered</td>\n      <td>2018-08-29 14:18:23</td>\n      <td>2018-08-29 14:31:07</td>\n      <td>2018-08-29 15:29:00</td>\n      <td>2018-08-30 16:24:55</td>\n      <td>2018-09-04 00:00:00</td>\n      <td>5c58de6fb80e93396e2f35642666b693</td>\n      <td>80045</td>\n      <td>curitiba</td>\n      <td>PR</td>\n    </tr>\n    <tr>\n      <th>9829</th>\n      <td>168626408cb32af0ffaf76711caae1dc</td>\n      <td>1</td>\n      <td>bdcf6a834e8faa30dac3886c7a58e92e</td>\n      <td>2a84855fd20af891be03bc5924d2b453</td>\n      <td>2018-08-31 14:30:23</td>\n      <td>45.90</td>\n      <td>15.39</td>\n      <td>6e353700bc7bcdf6ebc15d6de16d7002</td>\n      <td>delivered</td>\n      <td>2018-08-29 14:18:28</td>\n      <td>2018-08-29 14:30:23</td>\n      <td>2018-08-29 18:51:00</td>\n      <td>2018-08-30 16:52:31</td>\n      <td>2018-09-11 00:00:00</td>\n      <td>7febafa06d9d8f232a900a2937f04338</td>\n      <td>38600</td>\n      <td>paracatu</td>\n      <td>MG</td>\n    </tr>\n    <tr>\n      <th>...</th>\n      <td>...</td>\n      <td>...</td>\n      <td>...</td>\n      <td>...</td>\n      <td>...</td>\n      <td>...</td>\n      <td>...</td>\n      <td>...</td>\n      <td>...</td>\n      <td>...</td>\n      <td>...</td>\n      <td>...</td>\n      <td>...</td>\n      <td>...</td>\n      <td>...</td>\n      <td>...</td>\n      <td>...</td>\n      <td>...</td>\n    </tr>\n    <tr>\n      <th>101735</th>\n      <td>e6db6e9529fecbe14cd05dd349816656</td>\n      <td>1</td>\n      <td>06ead9c0b05b368667d858c09148af03</td>\n      <td>b2ba3715d723d245138f291a6fe42594</td>\n      <td>2017-01-15 21:27:49</td>\n      <td>109.90</td>\n      <td>14.94</td>\n      <td>6b3efc29f67766dd725bb29e857614f2</td>\n      <td>delivered</td>\n      <td>2017-01-06 21:27:49</td>\n      <td>2017-01-06 21:35:20</td>\n      <td>2017-01-09 12:08:34</td>\n      <td>2017-01-13 13:57:29</td>\n      <td>2017-02-20 00:00:00</td>\n      <td>c9517b423493063fa4e805acf2cc4564</td>\n      <td>33400</td>\n      <td>lagoa santa</td>\n      <td>MG</td>\n    </tr>\n    <tr>\n      <th>9408</th>\n      <td>157ec3dc3f38cdbd2706bd216edfe8fb</td>\n      <td>1</td>\n      <td>27066995b777fb84dbcb25961fd6d007</td>\n      <td>46dc3b2cc0980fb8ec44634e21d2718e</td>\n      <td>2017-01-10 13:43:16</td>\n      <td>159.99</td>\n      <td>15.29</td>\n      <td>7dfd10dcc726950fc6171cea83872351</td>\n      <td>delivered</td>\n      <td>2017-01-06 13:43:16</td>\n      <td>2017-01-06 13:55:11</td>\n      <td>2017-01-09 16:03:33</td>\n      <td>2017-01-13 10:58:13</td>\n      <td>2017-02-16 00:00:00</td>\n      <td>48368b31672665cca1b8a03047a1702a</td>\n      <td>33115</td>\n      <td>santa luzia</td>\n      <td>MG</td>\n    </tr>\n    <tr>\n      <th>106868</th>\n      <td>f2dd5f15184c73c0d45c02941c7c23d1</td>\n      <td>1</td>\n      <td>b931645cdc2d9868f01544e8db63f5ab</td>\n      <td>b14db04aa7881970e83ffa9426897925</td>\n      <td>2017-01-09 22:52:33</td>\n      <td>65.00</td>\n      <td>26.92</td>\n      <td>4b60b3ade055c6ad88a00758c8e8a162</td>\n      <td>delivered</td>\n      <td>2017-01-05 22:52:33</td>\n      <td>2017-01-05 23:05:27</td>\n      <td>2017-01-06 16:08:45</td>\n      <td>2017-01-13 17:06:48</td>\n      <td>2017-02-23 00:00:00</td>\n      <td>b88b78a413e70182e18b032361b24f91</td>\n      <td>44900</td>\n      <td>irece</td>\n      <td>BA</td>\n    </tr>\n    <tr>\n      <th>99649</th>\n      <td>e1fe072ef14b519af1f0a8ed997c1301</td>\n      <td>1</td>\n      <td>743801b34cc44776de511ba8eff778e2</td>\n      <td>48efc9d94a9834137efd9ea76b065a38</td>\n      <td>2017-01-09 15:32:59</td>\n      <td>9.90</td>\n      <td>14.52</td>\n      <td>758b633d88b82063db189810084f4ea9</td>\n      <td>delivered</td>\n      <td>2017-01-05 15:32:59</td>\n      <td>2017-01-05 16:15:16</td>\n      <td>2017-01-06 13:45:22</td>\n      <td>2017-01-12 14:13:19</td>\n      <td>2017-02-15 00:00:00</td>\n      <td>4b3207464f5f7a48a7f63fa0b1251d86</td>\n      <td>14025</td>\n      <td>ribeirao preto</td>\n      <td>SP</td>\n    </tr>\n    <tr>\n      <th>104115</th>\n      <td>ec7a019261fce44180373d45b442d78f</td>\n      <td>1</td>\n      <td>f5d8f4fbc70ca2a0038b9a0010ed5cb0</td>\n      <td>48efc9d94a9834137efd9ea76b065a38</td>\n      <td>2017-01-09 11:56:06</td>\n      <td>10.90</td>\n      <td>8.72</td>\n      <td>c24fc5f9a446b4d8262041b9c64de772</td>\n      <td>delivered</td>\n      <td>2017-01-05 11:56:06</td>\n      <td>2017-01-05 12:10:17</td>\n      <td>2017-01-06 12:43:41</td>\n      <td>2017-01-11 13:14:05</td>\n      <td>2017-02-01 00:00:00</td>\n      <td>f7b981e8a280e455ac3cbe0d5d171bd1</td>\n      <td>80030</td>\n      <td>curitiba</td>\n      <td>PR</td>\n    </tr>\n  </tbody>\n</table>\n<p>109865 rows × 18 columns</p>\n</div>"
     },
     "metadata": {}
    }
   ],
   "source": [
    "\n",
    "# Creating the DataFrame, assigning datatypes. \n",
    "# Only considering records:\n",
    "#   - between order_approved_at dates 2017-01 and 2018-08\n",
    "#   - orders that have order_status delivered\n",
    "df_oi_o_c = df_oi.merge(df_o.merge(df_c, on='customer_id', how='inner'), on='order_id', how='inner')\n",
    "df_oi_o_c['order_approved_at'] = pd.to_datetime(df_oi_o_c['order_approved_at'])\n",
    "df_oi_o_c = df_oi_o_c.loc[(df_oi_o_c['order_approved_at'] >= datetime.datetime.strptime('2017-01', '%Y-%m')) & (df_oi_o_c['order_approved_at'] < datetime.datetime.strptime('2018-09', '%Y-%m')) & (df_oi_o_c['order_status'] == 'delivered')]\n",
    "\n",
    "# Dropping Values (Where order_approved_at is null)\n",
    "nan_index = pd.isnull(df_oi_o_c['order_approved_at']) # to show use: df_oi_o_c.loc[nan_index]\n",
    "df_oi_o_c = df_oi_o_c.drop(index=df_oi_o_c.loc[nan_index].index.to_list())\n",
    "\n",
    "# Showing Dataframe\n",
    "display(df_oi_o_c.sort_values(by=['order_approved_at'], ascending=False))\n",
    "\n",
    "\n",
    "# Notes:\n",
    "#     - order_id and order_item_id are a unique set that are a compound key can be proven with: \n",
    "#         - d = pd.DataFrame(); d['bar'] = df_oi_o_c.order_id + df_oi_o_c.order_item_id.map(str); d['bar'].unique().shape\n",
    "      \n",
    "#     - price and frieght_value spread across order_item_id's when grouped by order_id's does amount to the total prices, as verified.\n",
    "#         - Example:\n",
    "#  \n",
    "#           From olist_order_items_dataset\n",
    "#           order_id                              order_item_id     price   frieght_value\n",
    "#           0b223d92c27432930dfe407c6aea3041      1\t                209.00\t46.48\t\n",
    "#           0b223d92c27432930dfe407c6aea3041\t  2\t                209.00\t46.48\n",
    "\n",
    "#           From olist_order_payements_dataset\n",
    "#           order_id                            payment_value\n",
    "#           0b223d92c27432930dfe407c6aea3041\t510.96\n",
    "\n",
    "#         "
   ]
  },
  {
   "cell_type": "code",
   "execution_count": 10,
   "metadata": {},
   "outputs": [],
   "source": [
    "\n",
    "# (Use Approved At Date)\n",
    "periods = ['2017-01',\n",
    " '2017-02',\n",
    " '2017-03',\n",
    " '2017-04',\n",
    " '2017-05',\n",
    " '2017-06',\n",
    " '2017-07',\n",
    " '2017-08',\n",
    " '2017-09',\n",
    " '2017-10',\n",
    " '2017-11',\n",
    " '2017-12',\n",
    " '2018-01',\n",
    " '2018-02',\n",
    " '2018-03',\n",
    " '2018-04',\n",
    " '2018-05',\n",
    " '2018-06',\n",
    " '2018-07',\n",
    " '2018-08',]\n",
    "newperiods = periods.copy()\n",
    "newperiods.append('2018-09')\n",
    "df = pd.DataFrame(periods, columns=['Periods']).set_index('Periods')\n",
    "df['Total_Revenue'] = 0\n",
    "df['Number_of_Orders'] = 0              # Does not mutli-count unique orders. Meaning, if multiple purchases are made with one order id, that counts as 1 order.\n",
    "df['Unique_Customers_Who_Made_a_Purchase'] = 0 # A single Customer is only counted Once per Month. \n",
    "df['Average_Customer_Lifespans'] = 0    # average customer lifespan = sum of customer lifespans / number of customers.\n",
    "                                        # Examples\n",
    "                                        # Example 1: 1 Purchase\n",
    "                                            # A customer (ID 181) makes one purchase in 09/30/2017 and never purchases again, has a lifespan of 1 day.\n",
    "                                        # Example 2: More than 1 Purchase\n",
    "                                            # A customer (ID 182) makes a purchase on 09/30/2017 and 11/30/2017 and ceases to make purchases after. The lifespan is counted only twice. \n",
    "                                            # - The purchase made on 9/30/2017 will be reported in 09/2017 and will have a lifespan of 1 day. \n",
    "                                            # - Since no purchase was made in 10/2017, no reports made\n",
    "                                            # - The purchase made on 11/30/2017 will be reported in 11/2017 and will have a lifespan of 2 months (or 60 days).\n",
    "                                            # - No other months will count this customer (ID 182) as no other purchases are made\n"
   ]
  },
  {
   "cell_type": "code",
   "execution_count": 315,
   "metadata": {},
   "outputs": [
    {
     "output_type": "display_data",
     "data": {
      "text/plain": "         Total_Revenue  Number_of_Orders  \\\nPeriods                                    \n2017-01         121884               715   \n2017-02         270749              1638   \n2017-03         410734              2554   \n2017-04         387782              2278   \n2017-05         568069              3548   \n2017-06         494351              3143   \n2017-07         560275              3828   \n2017-08         646567              4217   \n2017-09         691353              4170   \n2017-10         755320              4441   \n2017-11        1135057              7150   \n2017-12         867940              5675   \n2018-01        1069384              6991   \n2018-02         958364              6536   \n2018-03        1132427              7083   \n2018-04        1109550              6639   \n2018-05        1155339              6940   \n2018-06        1015534              6097   \n2018-07        1006421              6050   \n2018-08        1014055              6504   \n\n         Unique_Customers_Who_Made_a_Purchase  Average_Customer_Lifespans  \nPeriods                                                                    \n2017-01                                   684                           0  \n2017-02                                  1615                           0  \n2017-03                                  2516                           0  \n2017-04                                  2249                           0  \n2017-05                                  3482                           0  \n2017-06                                  3084                           0  \n2017-07                                  3759                           0  \n2017-08                                  4137                           0  \n2017-09                                  4103                           0  \n2017-10                                  4380                           0  \n2017-11                                  7045                           0  \n2017-12                                  5608                           0  \n2018-01                                  6901                           0  \n2018-02                                  6380                           0  \n2018-03                                  6989                           0  \n2018-04                                  6586                           0  \n2018-05                                  6884                           0  \n2018-06                                  6060                           0  \n2018-07                                  5991                           0  \n2018-08                                  6459                           0  ",
      "text/html": "<div>\n<style scoped>\n    .dataframe tbody tr th:only-of-type {\n        vertical-align: middle;\n    }\n\n    .dataframe tbody tr th {\n        vertical-align: top;\n    }\n\n    .dataframe thead th {\n        text-align: right;\n    }\n</style>\n<table border=\"1\" class=\"dataframe\">\n  <thead>\n    <tr style=\"text-align: right;\">\n      <th></th>\n      <th>Total_Revenue</th>\n      <th>Number_of_Orders</th>\n      <th>Unique_Customers_Who_Made_a_Purchase</th>\n      <th>Average_Customer_Lifespans</th>\n    </tr>\n    <tr>\n      <th>Periods</th>\n      <th></th>\n      <th></th>\n      <th></th>\n      <th></th>\n    </tr>\n  </thead>\n  <tbody>\n    <tr>\n      <th>2017-01</th>\n      <td>121884</td>\n      <td>715</td>\n      <td>684</td>\n      <td>0</td>\n    </tr>\n    <tr>\n      <th>2017-02</th>\n      <td>270749</td>\n      <td>1638</td>\n      <td>1615</td>\n      <td>0</td>\n    </tr>\n    <tr>\n      <th>2017-03</th>\n      <td>410734</td>\n      <td>2554</td>\n      <td>2516</td>\n      <td>0</td>\n    </tr>\n    <tr>\n      <th>2017-04</th>\n      <td>387782</td>\n      <td>2278</td>\n      <td>2249</td>\n      <td>0</td>\n    </tr>\n    <tr>\n      <th>2017-05</th>\n      <td>568069</td>\n      <td>3548</td>\n      <td>3482</td>\n      <td>0</td>\n    </tr>\n    <tr>\n      <th>2017-06</th>\n      <td>494351</td>\n      <td>3143</td>\n      <td>3084</td>\n      <td>0</td>\n    </tr>\n    <tr>\n      <th>2017-07</th>\n      <td>560275</td>\n      <td>3828</td>\n      <td>3759</td>\n      <td>0</td>\n    </tr>\n    <tr>\n      <th>2017-08</th>\n      <td>646567</td>\n      <td>4217</td>\n      <td>4137</td>\n      <td>0</td>\n    </tr>\n    <tr>\n      <th>2017-09</th>\n      <td>691353</td>\n      <td>4170</td>\n      <td>4103</td>\n      <td>0</td>\n    </tr>\n    <tr>\n      <th>2017-10</th>\n      <td>755320</td>\n      <td>4441</td>\n      <td>4380</td>\n      <td>0</td>\n    </tr>\n    <tr>\n      <th>2017-11</th>\n      <td>1135057</td>\n      <td>7150</td>\n      <td>7045</td>\n      <td>0</td>\n    </tr>\n    <tr>\n      <th>2017-12</th>\n      <td>867940</td>\n      <td>5675</td>\n      <td>5608</td>\n      <td>0</td>\n    </tr>\n    <tr>\n      <th>2018-01</th>\n      <td>1069384</td>\n      <td>6991</td>\n      <td>6901</td>\n      <td>0</td>\n    </tr>\n    <tr>\n      <th>2018-02</th>\n      <td>958364</td>\n      <td>6536</td>\n      <td>6380</td>\n      <td>0</td>\n    </tr>\n    <tr>\n      <th>2018-03</th>\n      <td>1132427</td>\n      <td>7083</td>\n      <td>6989</td>\n      <td>0</td>\n    </tr>\n    <tr>\n      <th>2018-04</th>\n      <td>1109550</td>\n      <td>6639</td>\n      <td>6586</td>\n      <td>0</td>\n    </tr>\n    <tr>\n      <th>2018-05</th>\n      <td>1155339</td>\n      <td>6940</td>\n      <td>6884</td>\n      <td>0</td>\n    </tr>\n    <tr>\n      <th>2018-06</th>\n      <td>1015534</td>\n      <td>6097</td>\n      <td>6060</td>\n      <td>0</td>\n    </tr>\n    <tr>\n      <th>2018-07</th>\n      <td>1006421</td>\n      <td>6050</td>\n      <td>5991</td>\n      <td>0</td>\n    </tr>\n    <tr>\n      <th>2018-08</th>\n      <td>1014055</td>\n      <td>6504</td>\n      <td>6459</td>\n      <td>0</td>\n    </tr>\n  </tbody>\n</table>\n</div>"
     },
     "metadata": {}
    }
   ],
   "source": [
    "for i in range(len(periods)):\n",
    "    start_time = datetime.datetime.strptime(periods[i], '%Y-%m')\n",
    "    if i == 19:\n",
    "        end_time = datetime.datetime.strptime('2018-09', '%Y-%m')\n",
    "    else:\n",
    "        end_time = datetime.datetime.strptime(periods[i+1], '%Y-%m')\n",
    "    period_df = df_oi_o_c.loc[(df_oi_o_c['order_approved_at'] >= start_time) & (df_oi_o_c['order_approved_at'] < end_time)]\n",
    "    df.at[periods[i], 'Total_Revenue'] = period_df['price'].sum() + period_df['freight_value'].sum()\n",
    "    df.at[periods[i], 'Number_of_Orders'] = period_df['order_id'].unique().shape[0]\n",
    "    df.at[periods[i], 'Unique_Customers_Who_Made_a_Purchase'] = period_df['customer_unique_id'].unique().shape[0]\n",
    "display(df)\n",
    "    "
   ]
  },
  {
   "cell_type": "code",
   "execution_count": 12,
   "metadata": {},
   "outputs": [
    {
     "output_type": "stream",
     "name": "stderr",
     "text": [
      "100%|██████████| 93091/93091 [41:26<00:00, 37.43it/s]\n"
     ]
    }
   ],
   "source": [
    "lifetime_df = pd.DataFrame(columns = ['customer_unique_id', '2017-01','2017-02','2017-03','2017-04','2017-05','2017-06','2017-07','2017-08','2017-09','2017-10','2017-11','2017-12','2018-01','2018-02','2018-03','2018-04','2018-05','2018-06','2018-07','2018-08','2018-09', ])\n",
    "lifetime_df['customer_unique_id'] = df_oi_o_c['customer_unique_id'].unique()\n",
    "\n",
    "for i in tqdm(lifetime_df.index):\n",
    "    id = lifetime_df['customer_unique_id'][i]\n",
    "    id_df = df_oi_o_c.loc[(df_oi_o_c['customer_unique_id'] == id)][['customer_unique_id','order_approved_at']].reset_index(drop=True)\n",
    "    id_df['order_approved_at'] = pd.to_datetime(id_df['order_approved_at'])\n",
    "    for p in range(len(periods)):\n",
    "        start_time = datetime.datetime.strptime(periods[p], '%Y-%m')\n",
    "        if p == 19:\n",
    "            end_time = datetime.datetime.strptime('2018-09', '%Y-%m')\n",
    "        else:\n",
    "            end_time = datetime.datetime.strptime(periods[p+1], '%Y-%m')\n",
    "        period_df = id_df.loc[(id_df['order_approved_at'] >= start_time) & (id_df['order_approved_at'] < end_time)]\n",
    "        #Good ^^^\n",
    "\n",
    "        # If a customer (customer_unique_id) has a prior purchase not in the period_df\n",
    "        if id_df['order_approved_at'].min() not in period_df['order_approved_at'].values:\n",
    "            lifetime_df.at[i, periods[p]] = (period_df['order_approved_at'].max() - id_df['order_approved_at'].min()).days\n",
    "        else:\n",
    "            # Finds the number of days between purchases in a month, if no other purchases had been made prior\n",
    "            if period_df.shape[0] == 0:         # No purchase, leave as NaN\n",
    "                pass\n",
    "            elif period_df.shape[0] == 1:       # 1 purchase, counts as 1 day\n",
    "                lifetime_df.at[i, periods[p]] = 1\n",
    "            else:                               # More than 1 purchase in a month, counts the number of days between purchases\n",
    "                if period_df['order_approved_at'].max() == period_df['order_approved_at'].min(): # For situations where mutliple orders were placed at the same time\n",
    "                    lifetime_df.at[i, periods[p]] = 1\n",
    "                elif (period_df['order_approved_at'].max() - period_df['order_approved_at'].min()).days < 1:\n",
    "                    lifetime_df.at[i, periods[p]] = 1\n",
    "                else:\n",
    "                    lifetime_df.at[i, periods[p]] = (period_df['order_approved_at'].max() - period_df['order_approved_at'].min()).days\n"
   ]
  },
  {
   "cell_type": "code",
   "execution_count": 14,
   "metadata": {},
   "outputs": [
    {
     "output_type": "execute_result",
     "data": {
      "text/plain": [
       "                 customer_unique_id 2017-01 2017-02 2017-03 2017-04 2017-05  \\\n",
       "0  871766c5855e863f6eccc05f988b23cb     NaN     NaN     NaN     NaN     NaN   \n",
       "1  eb28e67c4c0b83846050ddfb8a35d051     NaN     NaN     NaN       1     NaN   \n",
       "2  3818d81c6709e39d06b2738a8d3a2474     NaN     NaN     NaN     NaN     NaN   \n",
       "3  af861d436cfc08b2c2ddefd0ba074622     NaN     NaN     NaN     NaN     NaN   \n",
       "4  64b576fb70d441e8f1b2d7d446e483c5     NaN       1     NaN     NaN     NaN   \n",
       "\n",
       "  2017-06 2017-07 2017-08 2017-09 2017-10 2017-11 2017-12 2018-01 2018-02  \\\n",
       "0     NaN     NaN     NaN       1     NaN     NaN     NaN     NaN     NaN   \n",
       "1     NaN     NaN     NaN     145     NaN     NaN     NaN     NaN     NaN   \n",
       "2     NaN     NaN     NaN     NaN     NaN     NaN     NaN       1     NaN   \n",
       "3     NaN     NaN     NaN     NaN     NaN     NaN     NaN     NaN     NaN   \n",
       "4     NaN     NaN     NaN     NaN     NaN     NaN     NaN     NaN     NaN   \n",
       "\n",
       "  2018-03 2018-04 2018-05 2018-06 2018-07 2018-08 2018-09  \n",
       "0     NaN     NaN     NaN     NaN     NaN     NaN     NaN  \n",
       "1     NaN     NaN     NaN     NaN     NaN     NaN     NaN  \n",
       "2     NaN     NaN     NaN     NaN     NaN     NaN     NaN  \n",
       "3     NaN     NaN     NaN     NaN     NaN       1     NaN  \n",
       "4     NaN     NaN     NaN     NaN     NaN     NaN     NaN  "
      ],
      "text/html": "<div>\n<style scoped>\n    .dataframe tbody tr th:only-of-type {\n        vertical-align: middle;\n    }\n\n    .dataframe tbody tr th {\n        vertical-align: top;\n    }\n\n    .dataframe thead th {\n        text-align: right;\n    }\n</style>\n<table border=\"1\" class=\"dataframe\">\n  <thead>\n    <tr style=\"text-align: right;\">\n      <th></th>\n      <th>customer_unique_id</th>\n      <th>2017-01</th>\n      <th>2017-02</th>\n      <th>2017-03</th>\n      <th>2017-04</th>\n      <th>2017-05</th>\n      <th>2017-06</th>\n      <th>2017-07</th>\n      <th>2017-08</th>\n      <th>2017-09</th>\n      <th>2017-10</th>\n      <th>2017-11</th>\n      <th>2017-12</th>\n      <th>2018-01</th>\n      <th>2018-02</th>\n      <th>2018-03</th>\n      <th>2018-04</th>\n      <th>2018-05</th>\n      <th>2018-06</th>\n      <th>2018-07</th>\n      <th>2018-08</th>\n      <th>2018-09</th>\n    </tr>\n  </thead>\n  <tbody>\n    <tr>\n      <th>0</th>\n      <td>871766c5855e863f6eccc05f988b23cb</td>\n      <td>NaN</td>\n      <td>NaN</td>\n      <td>NaN</td>\n      <td>NaN</td>\n      <td>NaN</td>\n      <td>NaN</td>\n      <td>NaN</td>\n      <td>NaN</td>\n      <td>1</td>\n      <td>NaN</td>\n      <td>NaN</td>\n      <td>NaN</td>\n      <td>NaN</td>\n      <td>NaN</td>\n      <td>NaN</td>\n      <td>NaN</td>\n      <td>NaN</td>\n      <td>NaN</td>\n      <td>NaN</td>\n      <td>NaN</td>\n      <td>NaN</td>\n    </tr>\n    <tr>\n      <th>1</th>\n      <td>eb28e67c4c0b83846050ddfb8a35d051</td>\n      <td>NaN</td>\n      <td>NaN</td>\n      <td>NaN</td>\n      <td>1</td>\n      <td>NaN</td>\n      <td>NaN</td>\n      <td>NaN</td>\n      <td>NaN</td>\n      <td>145</td>\n      <td>NaN</td>\n      <td>NaN</td>\n      <td>NaN</td>\n      <td>NaN</td>\n      <td>NaN</td>\n      <td>NaN</td>\n      <td>NaN</td>\n      <td>NaN</td>\n      <td>NaN</td>\n      <td>NaN</td>\n      <td>NaN</td>\n      <td>NaN</td>\n    </tr>\n    <tr>\n      <th>2</th>\n      <td>3818d81c6709e39d06b2738a8d3a2474</td>\n      <td>NaN</td>\n      <td>NaN</td>\n      <td>NaN</td>\n      <td>NaN</td>\n      <td>NaN</td>\n      <td>NaN</td>\n      <td>NaN</td>\n      <td>NaN</td>\n      <td>NaN</td>\n      <td>NaN</td>\n      <td>NaN</td>\n      <td>NaN</td>\n      <td>1</td>\n      <td>NaN</td>\n      <td>NaN</td>\n      <td>NaN</td>\n      <td>NaN</td>\n      <td>NaN</td>\n      <td>NaN</td>\n      <td>NaN</td>\n      <td>NaN</td>\n    </tr>\n    <tr>\n      <th>3</th>\n      <td>af861d436cfc08b2c2ddefd0ba074622</td>\n      <td>NaN</td>\n      <td>NaN</td>\n      <td>NaN</td>\n      <td>NaN</td>\n      <td>NaN</td>\n      <td>NaN</td>\n      <td>NaN</td>\n      <td>NaN</td>\n      <td>NaN</td>\n      <td>NaN</td>\n      <td>NaN</td>\n      <td>NaN</td>\n      <td>NaN</td>\n      <td>NaN</td>\n      <td>NaN</td>\n      <td>NaN</td>\n      <td>NaN</td>\n      <td>NaN</td>\n      <td>NaN</td>\n      <td>1</td>\n      <td>NaN</td>\n    </tr>\n    <tr>\n      <th>4</th>\n      <td>64b576fb70d441e8f1b2d7d446e483c5</td>\n      <td>NaN</td>\n      <td>1</td>\n      <td>NaN</td>\n      <td>NaN</td>\n      <td>NaN</td>\n      <td>NaN</td>\n      <td>NaN</td>\n      <td>NaN</td>\n      <td>NaN</td>\n      <td>NaN</td>\n      <td>NaN</td>\n      <td>NaN</td>\n      <td>NaN</td>\n      <td>NaN</td>\n      <td>NaN</td>\n      <td>NaN</td>\n      <td>NaN</td>\n      <td>NaN</td>\n      <td>NaN</td>\n      <td>NaN</td>\n      <td>NaN</td>\n    </tr>\n  </tbody>\n</table>\n</div>"
     },
     "metadata": {},
     "execution_count": 14
    }
   ],
   "source": [
    "pd.set_option(\"display.max_columns\", 100)\n",
    "lifetime_df.head(5)"
   ]
  },
  {
   "cell_type": "code",
   "execution_count": 21,
   "metadata": {},
   "outputs": [
    {
     "output_type": "execute_result",
     "data": {
      "text/plain": [
       "[1.0029282576866765,\n",
       " 0.7456293706293706,\n",
       " 0.5635036496350365,\n",
       " 0.41642938496583143,\n",
       " 0.4914897685982023,\n",
       " 0.4166481357942332,\n",
       " 0.44097282830045964,\n",
       " 0.4031521994824747,\n",
       " 0.42421723469105016,\n",
       " 0.43205740007445764,\n",
       " 0.5656050256494665,\n",
       " 0.42833973334605385,\n",
       " 0.5648252768247838,\n",
       " 0.4069839420310964,\n",
       " 0.4444300518134715,\n",
       " 0.4532558787718758,\n",
       " 0.4888087125008352,\n",
       " 0.46845027138219036,\n",
       " 0.3880388304634231,\n",
       " 0.4306450570055389]"
      ]
     },
     "metadata": {},
     "execution_count": 21
    }
   ],
   "source": [
    "new_customers = [lifetime_df.loc[lifetime_df[p]==1].shape[0] for p in periods]\n",
    "total_customers = []\n",
    "for i in range(len(new_customers)):\n",
    "    if i ==0:\n",
    "        total_customers.append(new_customers[i])\n",
    "    else:\n",
    "        total_customers.append(total_customers[i-1] + new_customers[i])\n",
    "average_customer_lifespan_in_days = []\n",
    "for i, p in enumerate(periods):\n",
    "\taverage_customer_lifespan_in_days.append(lifetime_df[p].sum()/total_customers[i])\n",
    "average_customer_lifespan_in_days"
   ]
  },
  {
   "cell_type": "code",
   "execution_count": 20,
   "metadata": {},
   "outputs": [
    {
     "output_type": "execute_result",
     "data": {
      "text/plain": [
       "[683,\n",
       " 2288,\n",
       " 4795,\n",
       " 7024,\n",
       " 10458,\n",
       " 13491,\n",
       " 17187,\n",
       " 21255,\n",
       " 25263,\n",
       " 29547,\n",
       " 36453,\n",
       " 41927,\n",
       " 48677,\n",
       " 54926,\n",
       " 61760,\n",
       " 68169,\n",
       " 74835,\n",
       " 80698,\n",
       " 86530,\n",
       " 92798]"
      ]
     },
     "metadata": {},
     "execution_count": 20
    }
   ],
   "source": [
    "df.to_excel('SamCart-Data/KPI-Dataset.xlsx', engine='openpyxl')"
   ]
  },
  {
   "cell_type": "code",
   "execution_count": 368,
   "metadata": {},
   "outputs": [
    {
     "output_type": "display_data",
     "data": {
      "text/plain": "                 customer_unique_id 2017-01 2017-02 2017-03 2017-04 2017-05  \\\n0  3e43e6105506432c953e165fb2acf44c     NaN     NaN     NaN     NaN     NaN   \n1  8d50f5eadf50201ccdcedfb9e2ac8455     NaN     NaN     NaN     NaN     NaN   \n\n  2017-06 2017-07 2017-08 2017-09  ... 2017-12 2018-01 2018-02 2018-03  \\\n0     NaN     NaN     NaN     NaN  ...     NaN     NaN     NaN     NaN   \n1     NaN     NaN     NaN     NaN  ...     NaN     NaN     NaN     NaN   \n\n  2018-04 2018-05 2018-06 2018-07 2018-08 2018-09  \n0     NaN     NaN     NaN     NaN     NaN     NaN  \n1     NaN     NaN     NaN     NaN     NaN     NaN  \n\n[2 rows x 22 columns]",
      "text/html": "<div>\n<style scoped>\n    .dataframe tbody tr th:only-of-type {\n        vertical-align: middle;\n    }\n\n    .dataframe tbody tr th {\n        vertical-align: top;\n    }\n\n    .dataframe thead th {\n        text-align: right;\n    }\n</style>\n<table border=\"1\" class=\"dataframe\">\n  <thead>\n    <tr style=\"text-align: right;\">\n      <th></th>\n      <th>customer_unique_id</th>\n      <th>2017-01</th>\n      <th>2017-02</th>\n      <th>2017-03</th>\n      <th>2017-04</th>\n      <th>2017-05</th>\n      <th>2017-06</th>\n      <th>2017-07</th>\n      <th>2017-08</th>\n      <th>2017-09</th>\n      <th>...</th>\n      <th>2017-12</th>\n      <th>2018-01</th>\n      <th>2018-02</th>\n      <th>2018-03</th>\n      <th>2018-04</th>\n      <th>2018-05</th>\n      <th>2018-06</th>\n      <th>2018-07</th>\n      <th>2018-08</th>\n      <th>2018-09</th>\n    </tr>\n  </thead>\n  <tbody>\n    <tr>\n      <th>0</th>\n      <td>3e43e6105506432c953e165fb2acf44c</td>\n      <td>NaN</td>\n      <td>NaN</td>\n      <td>NaN</td>\n      <td>NaN</td>\n      <td>NaN</td>\n      <td>NaN</td>\n      <td>NaN</td>\n      <td>NaN</td>\n      <td>NaN</td>\n      <td>...</td>\n      <td>NaN</td>\n      <td>NaN</td>\n      <td>NaN</td>\n      <td>NaN</td>\n      <td>NaN</td>\n      <td>NaN</td>\n      <td>NaN</td>\n      <td>NaN</td>\n      <td>NaN</td>\n      <td>NaN</td>\n    </tr>\n    <tr>\n      <th>1</th>\n      <td>8d50f5eadf50201ccdcedfb9e2ac8455</td>\n      <td>NaN</td>\n      <td>NaN</td>\n      <td>NaN</td>\n      <td>NaN</td>\n      <td>NaN</td>\n      <td>NaN</td>\n      <td>NaN</td>\n      <td>NaN</td>\n      <td>NaN</td>\n      <td>...</td>\n      <td>NaN</td>\n      <td>NaN</td>\n      <td>NaN</td>\n      <td>NaN</td>\n      <td>NaN</td>\n      <td>NaN</td>\n      <td>NaN</td>\n      <td>NaN</td>\n      <td>NaN</td>\n      <td>NaN</td>\n    </tr>\n  </tbody>\n</table>\n<p>2 rows × 22 columns</p>\n</div>"
     },
     "metadata": {}
    },
    {
     "output_type": "display_data",
     "data": {
      "text/plain": "                      customer_unique_id   order_approved_at\n7561    3e43e6105506432c953e165fb2acf44c 2017-12-01 22:52:47\n7577    8d50f5eadf50201ccdcedfb9e2ac8455 2018-07-24 10:31:34\n15443   8d50f5eadf50201ccdcedfb9e2ac8455 2018-05-22 01:53:35\n23961   8d50f5eadf50201ccdcedfb9e2ac8455 2017-06-18 23:10:19\n35059   8d50f5eadf50201ccdcedfb9e2ac8455 2017-07-18 23:23:26\n35995   8d50f5eadf50201ccdcedfb9e2ac8455 2017-08-05 09:10:13\n47446   8d50f5eadf50201ccdcedfb9e2ac8455 2018-05-22 23:36:01\n49516   3e43e6105506432c953e165fb2acf44c 2018-02-12 10:28:11\n49517   3e43e6105506432c953e165fb2acf44c 2018-02-12 10:28:11\n57284   3e43e6105506432c953e165fb2acf44c 2017-12-01 22:52:53\n57285   3e43e6105506432c953e165fb2acf44c 2017-12-01 22:52:53\n57814   8d50f5eadf50201ccdcedfb9e2ac8455 2018-07-05 16:27:55\n60484   8d50f5eadf50201ccdcedfb9e2ac8455 2017-10-29 17:10:09\n70854   8d50f5eadf50201ccdcedfb9e2ac8455 2018-08-18 12:50:37\n81072   8d50f5eadf50201ccdcedfb9e2ac8455 2017-11-22 20:12:32\n84306   8d50f5eadf50201ccdcedfb9e2ac8455 2017-07-24 22:25:14\n85458   8d50f5eadf50201ccdcedfb9e2ac8455 2018-08-07 23:45:21\n89354   3e43e6105506432c953e165fb2acf44c 2018-01-11 11:09:12\n90399   8d50f5eadf50201ccdcedfb9e2ac8455 2017-10-19 00:36:08\n93245   8d50f5eadf50201ccdcedfb9e2ac8455 2018-08-20 19:30:05\n99777   3e43e6105506432c953e165fb2acf44c 2017-12-02 15:50:49\n100108  8d50f5eadf50201ccdcedfb9e2ac8455 2017-09-05 22:30:56\n104343  3e43e6105506432c953e165fb2acf44c 2017-09-18 19:05:23\n104344  3e43e6105506432c953e165fb2acf44c 2017-09-18 19:05:23\n104345  3e43e6105506432c953e165fb2acf44c 2017-09-18 19:05:23\n104346  3e43e6105506432c953e165fb2acf44c 2017-09-18 19:05:23\n104584  3e43e6105506432c953e165fb2acf44c 2018-02-20 11:50:38\n108835  3e43e6105506432c953e165fb2acf44c 2018-02-12 10:28:08\n112453  3e43e6105506432c953e165fb2acf44c 2018-02-27 18:50:29",
      "text/html": "<div>\n<style scoped>\n    .dataframe tbody tr th:only-of-type {\n        vertical-align: middle;\n    }\n\n    .dataframe tbody tr th {\n        vertical-align: top;\n    }\n\n    .dataframe thead th {\n        text-align: right;\n    }\n</style>\n<table border=\"1\" class=\"dataframe\">\n  <thead>\n    <tr style=\"text-align: right;\">\n      <th></th>\n      <th>customer_unique_id</th>\n      <th>order_approved_at</th>\n    </tr>\n  </thead>\n  <tbody>\n    <tr>\n      <th>7561</th>\n      <td>3e43e6105506432c953e165fb2acf44c</td>\n      <td>2017-12-01 22:52:47</td>\n    </tr>\n    <tr>\n      <th>7577</th>\n      <td>8d50f5eadf50201ccdcedfb9e2ac8455</td>\n      <td>2018-07-24 10:31:34</td>\n    </tr>\n    <tr>\n      <th>15443</th>\n      <td>8d50f5eadf50201ccdcedfb9e2ac8455</td>\n      <td>2018-05-22 01:53:35</td>\n    </tr>\n    <tr>\n      <th>23961</th>\n      <td>8d50f5eadf50201ccdcedfb9e2ac8455</td>\n      <td>2017-06-18 23:10:19</td>\n    </tr>\n    <tr>\n      <th>35059</th>\n      <td>8d50f5eadf50201ccdcedfb9e2ac8455</td>\n      <td>2017-07-18 23:23:26</td>\n    </tr>\n    <tr>\n      <th>35995</th>\n      <td>8d50f5eadf50201ccdcedfb9e2ac8455</td>\n      <td>2017-08-05 09:10:13</td>\n    </tr>\n    <tr>\n      <th>47446</th>\n      <td>8d50f5eadf50201ccdcedfb9e2ac8455</td>\n      <td>2018-05-22 23:36:01</td>\n    </tr>\n    <tr>\n      <th>49516</th>\n      <td>3e43e6105506432c953e165fb2acf44c</td>\n      <td>2018-02-12 10:28:11</td>\n    </tr>\n    <tr>\n      <th>49517</th>\n      <td>3e43e6105506432c953e165fb2acf44c</td>\n      <td>2018-02-12 10:28:11</td>\n    </tr>\n    <tr>\n      <th>57284</th>\n      <td>3e43e6105506432c953e165fb2acf44c</td>\n      <td>2017-12-01 22:52:53</td>\n    </tr>\n    <tr>\n      <th>57285</th>\n      <td>3e43e6105506432c953e165fb2acf44c</td>\n      <td>2017-12-01 22:52:53</td>\n    </tr>\n    <tr>\n      <th>57814</th>\n      <td>8d50f5eadf50201ccdcedfb9e2ac8455</td>\n      <td>2018-07-05 16:27:55</td>\n    </tr>\n    <tr>\n      <th>60484</th>\n      <td>8d50f5eadf50201ccdcedfb9e2ac8455</td>\n      <td>2017-10-29 17:10:09</td>\n    </tr>\n    <tr>\n      <th>70854</th>\n      <td>8d50f5eadf50201ccdcedfb9e2ac8455</td>\n      <td>2018-08-18 12:50:37</td>\n    </tr>\n    <tr>\n      <th>81072</th>\n      <td>8d50f5eadf50201ccdcedfb9e2ac8455</td>\n      <td>2017-11-22 20:12:32</td>\n    </tr>\n    <tr>\n      <th>84306</th>\n      <td>8d50f5eadf50201ccdcedfb9e2ac8455</td>\n      <td>2017-07-24 22:25:14</td>\n    </tr>\n    <tr>\n      <th>85458</th>\n      <td>8d50f5eadf50201ccdcedfb9e2ac8455</td>\n      <td>2018-08-07 23:45:21</td>\n    </tr>\n    <tr>\n      <th>89354</th>\n      <td>3e43e6105506432c953e165fb2acf44c</td>\n      <td>2018-01-11 11:09:12</td>\n    </tr>\n    <tr>\n      <th>90399</th>\n      <td>8d50f5eadf50201ccdcedfb9e2ac8455</td>\n      <td>2017-10-19 00:36:08</td>\n    </tr>\n    <tr>\n      <th>93245</th>\n      <td>8d50f5eadf50201ccdcedfb9e2ac8455</td>\n      <td>2018-08-20 19:30:05</td>\n    </tr>\n    <tr>\n      <th>99777</th>\n      <td>3e43e6105506432c953e165fb2acf44c</td>\n      <td>2017-12-02 15:50:49</td>\n    </tr>\n    <tr>\n      <th>100108</th>\n      <td>8d50f5eadf50201ccdcedfb9e2ac8455</td>\n      <td>2017-09-05 22:30:56</td>\n    </tr>\n    <tr>\n      <th>104343</th>\n      <td>3e43e6105506432c953e165fb2acf44c</td>\n      <td>2017-09-18 19:05:23</td>\n    </tr>\n    <tr>\n      <th>104344</th>\n      <td>3e43e6105506432c953e165fb2acf44c</td>\n      <td>2017-09-18 19:05:23</td>\n    </tr>\n    <tr>\n      <th>104345</th>\n      <td>3e43e6105506432c953e165fb2acf44c</td>\n      <td>2017-09-18 19:05:23</td>\n    </tr>\n    <tr>\n      <th>104346</th>\n      <td>3e43e6105506432c953e165fb2acf44c</td>\n      <td>2017-09-18 19:05:23</td>\n    </tr>\n    <tr>\n      <th>104584</th>\n      <td>3e43e6105506432c953e165fb2acf44c</td>\n      <td>2018-02-20 11:50:38</td>\n    </tr>\n    <tr>\n      <th>108835</th>\n      <td>3e43e6105506432c953e165fb2acf44c</td>\n      <td>2018-02-12 10:28:08</td>\n    </tr>\n    <tr>\n      <th>112453</th>\n      <td>3e43e6105506432c953e165fb2acf44c</td>\n      <td>2018-02-27 18:50:29</td>\n    </tr>\n  </tbody>\n</table>\n</div>"
     },
     "metadata": {}
    }
   ],
   "source": [
    "# Testing Data\n",
    "\n",
    "# Test Dataset 2\n",
    "test2_df = df_oi_o_c.loc[(df_oi_o_c['customer_unique_id'] == '8d50f5eadf50201ccdcedfb9e2ac8455') | (df_oi_o_c['customer_unique_id'] == '3e43e6105506432c953e165fb2acf44c')][['customer_unique_id', 'order_approved_at']]\n",
    "test2_df['order_approved_at'] = pd.to_datetime(test2_df['order_approved_at'])\n",
    "\n",
    "# Test Lifetime Dataset 2\n",
    "lifetime2_df = pd.DataFrame(columns = ['customer_unique_id', '2017-01','2017-02','2017-03','2017-04','2017-05','2017-06','2017-07','2017-08','2017-09','2017-10','2017-11','2017-12','2018-01','2018-02','2018-03','2018-04','2018-05','2018-06','2018-07','2018-08','2018-09', ])\n",
    "lifetime2_df['customer_unique_id'] = test2_df['customer_unique_id'].unique()\n",
    "\n",
    "display(lifetime2_df)\n",
    "display(test2_df)"
   ]
  },
  {
   "cell_type": "code",
   "execution_count": 379,
   "metadata": {},
   "outputs": [
    {
     "output_type": "display_data",
     "data": {
      "text/plain": "                  customer_unique_id   order_approved_at\n0   3e43e6105506432c953e165fb2acf44c 2017-12-01 22:52:47\n1   3e43e6105506432c953e165fb2acf44c 2018-02-12 10:28:11\n2   3e43e6105506432c953e165fb2acf44c 2018-02-12 10:28:11\n3   3e43e6105506432c953e165fb2acf44c 2017-12-01 22:52:53\n4   3e43e6105506432c953e165fb2acf44c 2017-12-01 22:52:53\n5   3e43e6105506432c953e165fb2acf44c 2018-01-11 11:09:12\n6   3e43e6105506432c953e165fb2acf44c 2017-12-02 15:50:49\n7   3e43e6105506432c953e165fb2acf44c 2017-09-18 19:05:23\n8   3e43e6105506432c953e165fb2acf44c 2017-09-18 19:05:23\n9   3e43e6105506432c953e165fb2acf44c 2017-09-18 19:05:23\n10  3e43e6105506432c953e165fb2acf44c 2017-09-18 19:05:23\n11  3e43e6105506432c953e165fb2acf44c 2018-02-20 11:50:38\n12  3e43e6105506432c953e165fb2acf44c 2018-02-12 10:28:08\n13  3e43e6105506432c953e165fb2acf44c 2018-02-27 18:50:29",
      "text/html": "<div>\n<style scoped>\n    .dataframe tbody tr th:only-of-type {\n        vertical-align: middle;\n    }\n\n    .dataframe tbody tr th {\n        vertical-align: top;\n    }\n\n    .dataframe thead th {\n        text-align: right;\n    }\n</style>\n<table border=\"1\" class=\"dataframe\">\n  <thead>\n    <tr style=\"text-align: right;\">\n      <th></th>\n      <th>customer_unique_id</th>\n      <th>order_approved_at</th>\n    </tr>\n  </thead>\n  <tbody>\n    <tr>\n      <th>0</th>\n      <td>3e43e6105506432c953e165fb2acf44c</td>\n      <td>2017-12-01 22:52:47</td>\n    </tr>\n    <tr>\n      <th>1</th>\n      <td>3e43e6105506432c953e165fb2acf44c</td>\n      <td>2018-02-12 10:28:11</td>\n    </tr>\n    <tr>\n      <th>2</th>\n      <td>3e43e6105506432c953e165fb2acf44c</td>\n      <td>2018-02-12 10:28:11</td>\n    </tr>\n    <tr>\n      <th>3</th>\n      <td>3e43e6105506432c953e165fb2acf44c</td>\n      <td>2017-12-01 22:52:53</td>\n    </tr>\n    <tr>\n      <th>4</th>\n      <td>3e43e6105506432c953e165fb2acf44c</td>\n      <td>2017-12-01 22:52:53</td>\n    </tr>\n    <tr>\n      <th>5</th>\n      <td>3e43e6105506432c953e165fb2acf44c</td>\n      <td>2018-01-11 11:09:12</td>\n    </tr>\n    <tr>\n      <th>6</th>\n      <td>3e43e6105506432c953e165fb2acf44c</td>\n      <td>2017-12-02 15:50:49</td>\n    </tr>\n    <tr>\n      <th>7</th>\n      <td>3e43e6105506432c953e165fb2acf44c</td>\n      <td>2017-09-18 19:05:23</td>\n    </tr>\n    <tr>\n      <th>8</th>\n      <td>3e43e6105506432c953e165fb2acf44c</td>\n      <td>2017-09-18 19:05:23</td>\n    </tr>\n    <tr>\n      <th>9</th>\n      <td>3e43e6105506432c953e165fb2acf44c</td>\n      <td>2017-09-18 19:05:23</td>\n    </tr>\n    <tr>\n      <th>10</th>\n      <td>3e43e6105506432c953e165fb2acf44c</td>\n      <td>2017-09-18 19:05:23</td>\n    </tr>\n    <tr>\n      <th>11</th>\n      <td>3e43e6105506432c953e165fb2acf44c</td>\n      <td>2018-02-20 11:50:38</td>\n    </tr>\n    <tr>\n      <th>12</th>\n      <td>3e43e6105506432c953e165fb2acf44c</td>\n      <td>2018-02-12 10:28:08</td>\n    </tr>\n    <tr>\n      <th>13</th>\n      <td>3e43e6105506432c953e165fb2acf44c</td>\n      <td>2018-02-27 18:50:29</td>\n    </tr>\n  </tbody>\n</table>\n</div>"
     },
     "metadata": {}
    },
    {
     "output_type": "display_data",
     "data": {
      "text/plain": "Empty DataFrame\nColumns: [customer_unique_id, order_approved_at]\nIndex: []",
      "text/html": "<div>\n<style scoped>\n    .dataframe tbody tr th:only-of-type {\n        vertical-align: middle;\n    }\n\n    .dataframe tbody tr th {\n        vertical-align: top;\n    }\n\n    .dataframe thead th {\n        text-align: right;\n    }\n</style>\n<table border=\"1\" class=\"dataframe\">\n  <thead>\n    <tr style=\"text-align: right;\">\n      <th></th>\n      <th>customer_unique_id</th>\n      <th>order_approved_at</th>\n    </tr>\n  </thead>\n  <tbody>\n  </tbody>\n</table>\n</div>"
     },
     "metadata": {}
    },
    {
     "output_type": "display_data",
     "data": {
      "text/plain": "Empty DataFrame\nColumns: [customer_unique_id, order_approved_at]\nIndex: []",
      "text/html": "<div>\n<style scoped>\n    .dataframe tbody tr th:only-of-type {\n        vertical-align: middle;\n    }\n\n    .dataframe tbody tr th {\n        vertical-align: top;\n    }\n\n    .dataframe thead th {\n        text-align: right;\n    }\n</style>\n<table border=\"1\" class=\"dataframe\">\n  <thead>\n    <tr style=\"text-align: right;\">\n      <th></th>\n      <th>customer_unique_id</th>\n      <th>order_approved_at</th>\n    </tr>\n  </thead>\n  <tbody>\n  </tbody>\n</table>\n</div>"
     },
     "metadata": {}
    },
    {
     "output_type": "display_data",
     "data": {
      "text/plain": "Empty DataFrame\nColumns: [customer_unique_id, order_approved_at]\nIndex: []",
      "text/html": "<div>\n<style scoped>\n    .dataframe tbody tr th:only-of-type {\n        vertical-align: middle;\n    }\n\n    .dataframe tbody tr th {\n        vertical-align: top;\n    }\n\n    .dataframe thead th {\n        text-align: right;\n    }\n</style>\n<table border=\"1\" class=\"dataframe\">\n  <thead>\n    <tr style=\"text-align: right;\">\n      <th></th>\n      <th>customer_unique_id</th>\n      <th>order_approved_at</th>\n    </tr>\n  </thead>\n  <tbody>\n  </tbody>\n</table>\n</div>"
     },
     "metadata": {}
    },
    {
     "output_type": "display_data",
     "data": {
      "text/plain": "Empty DataFrame\nColumns: [customer_unique_id, order_approved_at]\nIndex: []",
      "text/html": "<div>\n<style scoped>\n    .dataframe tbody tr th:only-of-type {\n        vertical-align: middle;\n    }\n\n    .dataframe tbody tr th {\n        vertical-align: top;\n    }\n\n    .dataframe thead th {\n        text-align: right;\n    }\n</style>\n<table border=\"1\" class=\"dataframe\">\n  <thead>\n    <tr style=\"text-align: right;\">\n      <th></th>\n      <th>customer_unique_id</th>\n      <th>order_approved_at</th>\n    </tr>\n  </thead>\n  <tbody>\n  </tbody>\n</table>\n</div>"
     },
     "metadata": {}
    },
    {
     "output_type": "display_data",
     "data": {
      "text/plain": "Empty DataFrame\nColumns: [customer_unique_id, order_approved_at]\nIndex: []",
      "text/html": "<div>\n<style scoped>\n    .dataframe tbody tr th:only-of-type {\n        vertical-align: middle;\n    }\n\n    .dataframe tbody tr th {\n        vertical-align: top;\n    }\n\n    .dataframe thead th {\n        text-align: right;\n    }\n</style>\n<table border=\"1\" class=\"dataframe\">\n  <thead>\n    <tr style=\"text-align: right;\">\n      <th></th>\n      <th>customer_unique_id</th>\n      <th>order_approved_at</th>\n    </tr>\n  </thead>\n  <tbody>\n  </tbody>\n</table>\n</div>"
     },
     "metadata": {}
    },
    {
     "output_type": "display_data",
     "data": {
      "text/plain": "Empty DataFrame\nColumns: [customer_unique_id, order_approved_at]\nIndex: []",
      "text/html": "<div>\n<style scoped>\n    .dataframe tbody tr th:only-of-type {\n        vertical-align: middle;\n    }\n\n    .dataframe tbody tr th {\n        vertical-align: top;\n    }\n\n    .dataframe thead th {\n        text-align: right;\n    }\n</style>\n<table border=\"1\" class=\"dataframe\">\n  <thead>\n    <tr style=\"text-align: right;\">\n      <th></th>\n      <th>customer_unique_id</th>\n      <th>order_approved_at</th>\n    </tr>\n  </thead>\n  <tbody>\n  </tbody>\n</table>\n</div>"
     },
     "metadata": {}
    },
    {
     "output_type": "display_data",
     "data": {
      "text/plain": "Empty DataFrame\nColumns: [customer_unique_id, order_approved_at]\nIndex: []",
      "text/html": "<div>\n<style scoped>\n    .dataframe tbody tr th:only-of-type {\n        vertical-align: middle;\n    }\n\n    .dataframe tbody tr th {\n        vertical-align: top;\n    }\n\n    .dataframe thead th {\n        text-align: right;\n    }\n</style>\n<table border=\"1\" class=\"dataframe\">\n  <thead>\n    <tr style=\"text-align: right;\">\n      <th></th>\n      <th>customer_unique_id</th>\n      <th>order_approved_at</th>\n    </tr>\n  </thead>\n  <tbody>\n  </tbody>\n</table>\n</div>"
     },
     "metadata": {}
    },
    {
     "output_type": "display_data",
     "data": {
      "text/plain": "Empty DataFrame\nColumns: [customer_unique_id, order_approved_at]\nIndex: []",
      "text/html": "<div>\n<style scoped>\n    .dataframe tbody tr th:only-of-type {\n        vertical-align: middle;\n    }\n\n    .dataframe tbody tr th {\n        vertical-align: top;\n    }\n\n    .dataframe thead th {\n        text-align: right;\n    }\n</style>\n<table border=\"1\" class=\"dataframe\">\n  <thead>\n    <tr style=\"text-align: right;\">\n      <th></th>\n      <th>customer_unique_id</th>\n      <th>order_approved_at</th>\n    </tr>\n  </thead>\n  <tbody>\n  </tbody>\n</table>\n</div>"
     },
     "metadata": {}
    },
    {
     "output_type": "display_data",
     "data": {
      "text/plain": "                  customer_unique_id   order_approved_at\n7   3e43e6105506432c953e165fb2acf44c 2017-09-18 19:05:23\n8   3e43e6105506432c953e165fb2acf44c 2017-09-18 19:05:23\n9   3e43e6105506432c953e165fb2acf44c 2017-09-18 19:05:23\n10  3e43e6105506432c953e165fb2acf44c 2017-09-18 19:05:23",
      "text/html": "<div>\n<style scoped>\n    .dataframe tbody tr th:only-of-type {\n        vertical-align: middle;\n    }\n\n    .dataframe tbody tr th {\n        vertical-align: top;\n    }\n\n    .dataframe thead th {\n        text-align: right;\n    }\n</style>\n<table border=\"1\" class=\"dataframe\">\n  <thead>\n    <tr style=\"text-align: right;\">\n      <th></th>\n      <th>customer_unique_id</th>\n      <th>order_approved_at</th>\n    </tr>\n  </thead>\n  <tbody>\n    <tr>\n      <th>7</th>\n      <td>3e43e6105506432c953e165fb2acf44c</td>\n      <td>2017-09-18 19:05:23</td>\n    </tr>\n    <tr>\n      <th>8</th>\n      <td>3e43e6105506432c953e165fb2acf44c</td>\n      <td>2017-09-18 19:05:23</td>\n    </tr>\n    <tr>\n      <th>9</th>\n      <td>3e43e6105506432c953e165fb2acf44c</td>\n      <td>2017-09-18 19:05:23</td>\n    </tr>\n    <tr>\n      <th>10</th>\n      <td>3e43e6105506432c953e165fb2acf44c</td>\n      <td>2017-09-18 19:05:23</td>\n    </tr>\n  </tbody>\n</table>\n</div>"
     },
     "metadata": {}
    },
    {
     "output_type": "display_data",
     "data": {
      "text/plain": "Empty DataFrame\nColumns: [customer_unique_id, order_approved_at]\nIndex: []",
      "text/html": "<div>\n<style scoped>\n    .dataframe tbody tr th:only-of-type {\n        vertical-align: middle;\n    }\n\n    .dataframe tbody tr th {\n        vertical-align: top;\n    }\n\n    .dataframe thead th {\n        text-align: right;\n    }\n</style>\n<table border=\"1\" class=\"dataframe\">\n  <thead>\n    <tr style=\"text-align: right;\">\n      <th></th>\n      <th>customer_unique_id</th>\n      <th>order_approved_at</th>\n    </tr>\n  </thead>\n  <tbody>\n  </tbody>\n</table>\n</div>"
     },
     "metadata": {}
    },
    {
     "output_type": "display_data",
     "data": {
      "text/plain": "Empty DataFrame\nColumns: [customer_unique_id, order_approved_at]\nIndex: []",
      "text/html": "<div>\n<style scoped>\n    .dataframe tbody tr th:only-of-type {\n        vertical-align: middle;\n    }\n\n    .dataframe tbody tr th {\n        vertical-align: top;\n    }\n\n    .dataframe thead th {\n        text-align: right;\n    }\n</style>\n<table border=\"1\" class=\"dataframe\">\n  <thead>\n    <tr style=\"text-align: right;\">\n      <th></th>\n      <th>customer_unique_id</th>\n      <th>order_approved_at</th>\n    </tr>\n  </thead>\n  <tbody>\n  </tbody>\n</table>\n</div>"
     },
     "metadata": {}
    },
    {
     "output_type": "display_data",
     "data": {
      "text/plain": "                 customer_unique_id   order_approved_at\n0  3e43e6105506432c953e165fb2acf44c 2017-12-01 22:52:47\n3  3e43e6105506432c953e165fb2acf44c 2017-12-01 22:52:53\n4  3e43e6105506432c953e165fb2acf44c 2017-12-01 22:52:53\n6  3e43e6105506432c953e165fb2acf44c 2017-12-02 15:50:49",
      "text/html": "<div>\n<style scoped>\n    .dataframe tbody tr th:only-of-type {\n        vertical-align: middle;\n    }\n\n    .dataframe tbody tr th {\n        vertical-align: top;\n    }\n\n    .dataframe thead th {\n        text-align: right;\n    }\n</style>\n<table border=\"1\" class=\"dataframe\">\n  <thead>\n    <tr style=\"text-align: right;\">\n      <th></th>\n      <th>customer_unique_id</th>\n      <th>order_approved_at</th>\n    </tr>\n  </thead>\n  <tbody>\n    <tr>\n      <th>0</th>\n      <td>3e43e6105506432c953e165fb2acf44c</td>\n      <td>2017-12-01 22:52:47</td>\n    </tr>\n    <tr>\n      <th>3</th>\n      <td>3e43e6105506432c953e165fb2acf44c</td>\n      <td>2017-12-01 22:52:53</td>\n    </tr>\n    <tr>\n      <th>4</th>\n      <td>3e43e6105506432c953e165fb2acf44c</td>\n      <td>2017-12-01 22:52:53</td>\n    </tr>\n    <tr>\n      <th>6</th>\n      <td>3e43e6105506432c953e165fb2acf44c</td>\n      <td>2017-12-02 15:50:49</td>\n    </tr>\n  </tbody>\n</table>\n</div>"
     },
     "metadata": {}
    },
    {
     "output_type": "display_data",
     "data": {
      "text/plain": "                 customer_unique_id   order_approved_at\n5  3e43e6105506432c953e165fb2acf44c 2018-01-11 11:09:12",
      "text/html": "<div>\n<style scoped>\n    .dataframe tbody tr th:only-of-type {\n        vertical-align: middle;\n    }\n\n    .dataframe tbody tr th {\n        vertical-align: top;\n    }\n\n    .dataframe thead th {\n        text-align: right;\n    }\n</style>\n<table border=\"1\" class=\"dataframe\">\n  <thead>\n    <tr style=\"text-align: right;\">\n      <th></th>\n      <th>customer_unique_id</th>\n      <th>order_approved_at</th>\n    </tr>\n  </thead>\n  <tbody>\n    <tr>\n      <th>5</th>\n      <td>3e43e6105506432c953e165fb2acf44c</td>\n      <td>2018-01-11 11:09:12</td>\n    </tr>\n  </tbody>\n</table>\n</div>"
     },
     "metadata": {}
    },
    {
     "output_type": "display_data",
     "data": {
      "text/plain": "                  customer_unique_id   order_approved_at\n1   3e43e6105506432c953e165fb2acf44c 2018-02-12 10:28:11\n2   3e43e6105506432c953e165fb2acf44c 2018-02-12 10:28:11\n11  3e43e6105506432c953e165fb2acf44c 2018-02-20 11:50:38\n12  3e43e6105506432c953e165fb2acf44c 2018-02-12 10:28:08\n13  3e43e6105506432c953e165fb2acf44c 2018-02-27 18:50:29",
      "text/html": "<div>\n<style scoped>\n    .dataframe tbody tr th:only-of-type {\n        vertical-align: middle;\n    }\n\n    .dataframe tbody tr th {\n        vertical-align: top;\n    }\n\n    .dataframe thead th {\n        text-align: right;\n    }\n</style>\n<table border=\"1\" class=\"dataframe\">\n  <thead>\n    <tr style=\"text-align: right;\">\n      <th></th>\n      <th>customer_unique_id</th>\n      <th>order_approved_at</th>\n    </tr>\n  </thead>\n  <tbody>\n    <tr>\n      <th>1</th>\n      <td>3e43e6105506432c953e165fb2acf44c</td>\n      <td>2018-02-12 10:28:11</td>\n    </tr>\n    <tr>\n      <th>2</th>\n      <td>3e43e6105506432c953e165fb2acf44c</td>\n      <td>2018-02-12 10:28:11</td>\n    </tr>\n    <tr>\n      <th>11</th>\n      <td>3e43e6105506432c953e165fb2acf44c</td>\n      <td>2018-02-20 11:50:38</td>\n    </tr>\n    <tr>\n      <th>12</th>\n      <td>3e43e6105506432c953e165fb2acf44c</td>\n      <td>2018-02-12 10:28:08</td>\n    </tr>\n    <tr>\n      <th>13</th>\n      <td>3e43e6105506432c953e165fb2acf44c</td>\n      <td>2018-02-27 18:50:29</td>\n    </tr>\n  </tbody>\n</table>\n</div>"
     },
     "metadata": {}
    },
    {
     "output_type": "display_data",
     "data": {
      "text/plain": "Empty DataFrame\nColumns: [customer_unique_id, order_approved_at]\nIndex: []",
      "text/html": "<div>\n<style scoped>\n    .dataframe tbody tr th:only-of-type {\n        vertical-align: middle;\n    }\n\n    .dataframe tbody tr th {\n        vertical-align: top;\n    }\n\n    .dataframe thead th {\n        text-align: right;\n    }\n</style>\n<table border=\"1\" class=\"dataframe\">\n  <thead>\n    <tr style=\"text-align: right;\">\n      <th></th>\n      <th>customer_unique_id</th>\n      <th>order_approved_at</th>\n    </tr>\n  </thead>\n  <tbody>\n  </tbody>\n</table>\n</div>"
     },
     "metadata": {}
    },
    {
     "output_type": "display_data",
     "data": {
      "text/plain": "Empty DataFrame\nColumns: [customer_unique_id, order_approved_at]\nIndex: []",
      "text/html": "<div>\n<style scoped>\n    .dataframe tbody tr th:only-of-type {\n        vertical-align: middle;\n    }\n\n    .dataframe tbody tr th {\n        vertical-align: top;\n    }\n\n    .dataframe thead th {\n        text-align: right;\n    }\n</style>\n<table border=\"1\" class=\"dataframe\">\n  <thead>\n    <tr style=\"text-align: right;\">\n      <th></th>\n      <th>customer_unique_id</th>\n      <th>order_approved_at</th>\n    </tr>\n  </thead>\n  <tbody>\n  </tbody>\n</table>\n</div>"
     },
     "metadata": {}
    },
    {
     "output_type": "display_data",
     "data": {
      "text/plain": "Empty DataFrame\nColumns: [customer_unique_id, order_approved_at]\nIndex: []",
      "text/html": "<div>\n<style scoped>\n    .dataframe tbody tr th:only-of-type {\n        vertical-align: middle;\n    }\n\n    .dataframe tbody tr th {\n        vertical-align: top;\n    }\n\n    .dataframe thead th {\n        text-align: right;\n    }\n</style>\n<table border=\"1\" class=\"dataframe\">\n  <thead>\n    <tr style=\"text-align: right;\">\n      <th></th>\n      <th>customer_unique_id</th>\n      <th>order_approved_at</th>\n    </tr>\n  </thead>\n  <tbody>\n  </tbody>\n</table>\n</div>"
     },
     "metadata": {}
    },
    {
     "output_type": "display_data",
     "data": {
      "text/plain": "Empty DataFrame\nColumns: [customer_unique_id, order_approved_at]\nIndex: []",
      "text/html": "<div>\n<style scoped>\n    .dataframe tbody tr th:only-of-type {\n        vertical-align: middle;\n    }\n\n    .dataframe tbody tr th {\n        vertical-align: top;\n    }\n\n    .dataframe thead th {\n        text-align: right;\n    }\n</style>\n<table border=\"1\" class=\"dataframe\">\n  <thead>\n    <tr style=\"text-align: right;\">\n      <th></th>\n      <th>customer_unique_id</th>\n      <th>order_approved_at</th>\n    </tr>\n  </thead>\n  <tbody>\n  </tbody>\n</table>\n</div>"
     },
     "metadata": {}
    },
    {
     "output_type": "display_data",
     "data": {
      "text/plain": "Empty DataFrame\nColumns: [customer_unique_id, order_approved_at]\nIndex: []",
      "text/html": "<div>\n<style scoped>\n    .dataframe tbody tr th:only-of-type {\n        vertical-align: middle;\n    }\n\n    .dataframe tbody tr th {\n        vertical-align: top;\n    }\n\n    .dataframe thead th {\n        text-align: right;\n    }\n</style>\n<table border=\"1\" class=\"dataframe\">\n  <thead>\n    <tr style=\"text-align: right;\">\n      <th></th>\n      <th>customer_unique_id</th>\n      <th>order_approved_at</th>\n    </tr>\n  </thead>\n  <tbody>\n  </tbody>\n</table>\n</div>"
     },
     "metadata": {}
    },
    {
     "output_type": "display_data",
     "data": {
      "text/plain": "Empty DataFrame\nColumns: [customer_unique_id, order_approved_at]\nIndex: []",
      "text/html": "<div>\n<style scoped>\n    .dataframe tbody tr th:only-of-type {\n        vertical-align: middle;\n    }\n\n    .dataframe tbody tr th {\n        vertical-align: top;\n    }\n\n    .dataframe thead th {\n        text-align: right;\n    }\n</style>\n<table border=\"1\" class=\"dataframe\">\n  <thead>\n    <tr style=\"text-align: right;\">\n      <th></th>\n      <th>customer_unique_id</th>\n      <th>order_approved_at</th>\n    </tr>\n  </thead>\n  <tbody>\n  </tbody>\n</table>\n</div>"
     },
     "metadata": {}
    },
    {
     "output_type": "display_data",
     "data": {
      "text/plain": "                  customer_unique_id   order_approved_at\n0   8d50f5eadf50201ccdcedfb9e2ac8455 2018-07-24 10:31:34\n1   8d50f5eadf50201ccdcedfb9e2ac8455 2018-05-22 01:53:35\n2   8d50f5eadf50201ccdcedfb9e2ac8455 2017-06-18 23:10:19\n3   8d50f5eadf50201ccdcedfb9e2ac8455 2017-07-18 23:23:26\n4   8d50f5eadf50201ccdcedfb9e2ac8455 2017-08-05 09:10:13\n5   8d50f5eadf50201ccdcedfb9e2ac8455 2018-05-22 23:36:01\n6   8d50f5eadf50201ccdcedfb9e2ac8455 2018-07-05 16:27:55\n7   8d50f5eadf50201ccdcedfb9e2ac8455 2017-10-29 17:10:09\n8   8d50f5eadf50201ccdcedfb9e2ac8455 2018-08-18 12:50:37\n9   8d50f5eadf50201ccdcedfb9e2ac8455 2017-11-22 20:12:32\n10  8d50f5eadf50201ccdcedfb9e2ac8455 2017-07-24 22:25:14\n11  8d50f5eadf50201ccdcedfb9e2ac8455 2018-08-07 23:45:21\n12  8d50f5eadf50201ccdcedfb9e2ac8455 2017-10-19 00:36:08\n13  8d50f5eadf50201ccdcedfb9e2ac8455 2018-08-20 19:30:05\n14  8d50f5eadf50201ccdcedfb9e2ac8455 2017-09-05 22:30:56",
      "text/html": "<div>\n<style scoped>\n    .dataframe tbody tr th:only-of-type {\n        vertical-align: middle;\n    }\n\n    .dataframe tbody tr th {\n        vertical-align: top;\n    }\n\n    .dataframe thead th {\n        text-align: right;\n    }\n</style>\n<table border=\"1\" class=\"dataframe\">\n  <thead>\n    <tr style=\"text-align: right;\">\n      <th></th>\n      <th>customer_unique_id</th>\n      <th>order_approved_at</th>\n    </tr>\n  </thead>\n  <tbody>\n    <tr>\n      <th>0</th>\n      <td>8d50f5eadf50201ccdcedfb9e2ac8455</td>\n      <td>2018-07-24 10:31:34</td>\n    </tr>\n    <tr>\n      <th>1</th>\n      <td>8d50f5eadf50201ccdcedfb9e2ac8455</td>\n      <td>2018-05-22 01:53:35</td>\n    </tr>\n    <tr>\n      <th>2</th>\n      <td>8d50f5eadf50201ccdcedfb9e2ac8455</td>\n      <td>2017-06-18 23:10:19</td>\n    </tr>\n    <tr>\n      <th>3</th>\n      <td>8d50f5eadf50201ccdcedfb9e2ac8455</td>\n      <td>2017-07-18 23:23:26</td>\n    </tr>\n    <tr>\n      <th>4</th>\n      <td>8d50f5eadf50201ccdcedfb9e2ac8455</td>\n      <td>2017-08-05 09:10:13</td>\n    </tr>\n    <tr>\n      <th>5</th>\n      <td>8d50f5eadf50201ccdcedfb9e2ac8455</td>\n      <td>2018-05-22 23:36:01</td>\n    </tr>\n    <tr>\n      <th>6</th>\n      <td>8d50f5eadf50201ccdcedfb9e2ac8455</td>\n      <td>2018-07-05 16:27:55</td>\n    </tr>\n    <tr>\n      <th>7</th>\n      <td>8d50f5eadf50201ccdcedfb9e2ac8455</td>\n      <td>2017-10-29 17:10:09</td>\n    </tr>\n    <tr>\n      <th>8</th>\n      <td>8d50f5eadf50201ccdcedfb9e2ac8455</td>\n      <td>2018-08-18 12:50:37</td>\n    </tr>\n    <tr>\n      <th>9</th>\n      <td>8d50f5eadf50201ccdcedfb9e2ac8455</td>\n      <td>2017-11-22 20:12:32</td>\n    </tr>\n    <tr>\n      <th>10</th>\n      <td>8d50f5eadf50201ccdcedfb9e2ac8455</td>\n      <td>2017-07-24 22:25:14</td>\n    </tr>\n    <tr>\n      <th>11</th>\n      <td>8d50f5eadf50201ccdcedfb9e2ac8455</td>\n      <td>2018-08-07 23:45:21</td>\n    </tr>\n    <tr>\n      <th>12</th>\n      <td>8d50f5eadf50201ccdcedfb9e2ac8455</td>\n      <td>2017-10-19 00:36:08</td>\n    </tr>\n    <tr>\n      <th>13</th>\n      <td>8d50f5eadf50201ccdcedfb9e2ac8455</td>\n      <td>2018-08-20 19:30:05</td>\n    </tr>\n    <tr>\n      <th>14</th>\n      <td>8d50f5eadf50201ccdcedfb9e2ac8455</td>\n      <td>2017-09-05 22:30:56</td>\n    </tr>\n  </tbody>\n</table>\n</div>"
     },
     "metadata": {}
    },
    {
     "output_type": "display_data",
     "data": {
      "text/plain": "Empty DataFrame\nColumns: [customer_unique_id, order_approved_at]\nIndex: []",
      "text/html": "<div>\n<style scoped>\n    .dataframe tbody tr th:only-of-type {\n        vertical-align: middle;\n    }\n\n    .dataframe tbody tr th {\n        vertical-align: top;\n    }\n\n    .dataframe thead th {\n        text-align: right;\n    }\n</style>\n<table border=\"1\" class=\"dataframe\">\n  <thead>\n    <tr style=\"text-align: right;\">\n      <th></th>\n      <th>customer_unique_id</th>\n      <th>order_approved_at</th>\n    </tr>\n  </thead>\n  <tbody>\n  </tbody>\n</table>\n</div>"
     },
     "metadata": {}
    },
    {
     "output_type": "display_data",
     "data": {
      "text/plain": "Empty DataFrame\nColumns: [customer_unique_id, order_approved_at]\nIndex: []",
      "text/html": "<div>\n<style scoped>\n    .dataframe tbody tr th:only-of-type {\n        vertical-align: middle;\n    }\n\n    .dataframe tbody tr th {\n        vertical-align: top;\n    }\n\n    .dataframe thead th {\n        text-align: right;\n    }\n</style>\n<table border=\"1\" class=\"dataframe\">\n  <thead>\n    <tr style=\"text-align: right;\">\n      <th></th>\n      <th>customer_unique_id</th>\n      <th>order_approved_at</th>\n    </tr>\n  </thead>\n  <tbody>\n  </tbody>\n</table>\n</div>"
     },
     "metadata": {}
    },
    {
     "output_type": "display_data",
     "data": {
      "text/plain": "Empty DataFrame\nColumns: [customer_unique_id, order_approved_at]\nIndex: []",
      "text/html": "<div>\n<style scoped>\n    .dataframe tbody tr th:only-of-type {\n        vertical-align: middle;\n    }\n\n    .dataframe tbody tr th {\n        vertical-align: top;\n    }\n\n    .dataframe thead th {\n        text-align: right;\n    }\n</style>\n<table border=\"1\" class=\"dataframe\">\n  <thead>\n    <tr style=\"text-align: right;\">\n      <th></th>\n      <th>customer_unique_id</th>\n      <th>order_approved_at</th>\n    </tr>\n  </thead>\n  <tbody>\n  </tbody>\n</table>\n</div>"
     },
     "metadata": {}
    },
    {
     "output_type": "display_data",
     "data": {
      "text/plain": "Empty DataFrame\nColumns: [customer_unique_id, order_approved_at]\nIndex: []",
      "text/html": "<div>\n<style scoped>\n    .dataframe tbody tr th:only-of-type {\n        vertical-align: middle;\n    }\n\n    .dataframe tbody tr th {\n        vertical-align: top;\n    }\n\n    .dataframe thead th {\n        text-align: right;\n    }\n</style>\n<table border=\"1\" class=\"dataframe\">\n  <thead>\n    <tr style=\"text-align: right;\">\n      <th></th>\n      <th>customer_unique_id</th>\n      <th>order_approved_at</th>\n    </tr>\n  </thead>\n  <tbody>\n  </tbody>\n</table>\n</div>"
     },
     "metadata": {}
    },
    {
     "output_type": "display_data",
     "data": {
      "text/plain": "Empty DataFrame\nColumns: [customer_unique_id, order_approved_at]\nIndex: []",
      "text/html": "<div>\n<style scoped>\n    .dataframe tbody tr th:only-of-type {\n        vertical-align: middle;\n    }\n\n    .dataframe tbody tr th {\n        vertical-align: top;\n    }\n\n    .dataframe thead th {\n        text-align: right;\n    }\n</style>\n<table border=\"1\" class=\"dataframe\">\n  <thead>\n    <tr style=\"text-align: right;\">\n      <th></th>\n      <th>customer_unique_id</th>\n      <th>order_approved_at</th>\n    </tr>\n  </thead>\n  <tbody>\n  </tbody>\n</table>\n</div>"
     },
     "metadata": {}
    },
    {
     "output_type": "display_data",
     "data": {
      "text/plain": "                 customer_unique_id   order_approved_at\n2  8d50f5eadf50201ccdcedfb9e2ac8455 2017-06-18 23:10:19",
      "text/html": "<div>\n<style scoped>\n    .dataframe tbody tr th:only-of-type {\n        vertical-align: middle;\n    }\n\n    .dataframe tbody tr th {\n        vertical-align: top;\n    }\n\n    .dataframe thead th {\n        text-align: right;\n    }\n</style>\n<table border=\"1\" class=\"dataframe\">\n  <thead>\n    <tr style=\"text-align: right;\">\n      <th></th>\n      <th>customer_unique_id</th>\n      <th>order_approved_at</th>\n    </tr>\n  </thead>\n  <tbody>\n    <tr>\n      <th>2</th>\n      <td>8d50f5eadf50201ccdcedfb9e2ac8455</td>\n      <td>2017-06-18 23:10:19</td>\n    </tr>\n  </tbody>\n</table>\n</div>"
     },
     "metadata": {}
    },
    {
     "output_type": "display_data",
     "data": {
      "text/plain": "                  customer_unique_id   order_approved_at\n3   8d50f5eadf50201ccdcedfb9e2ac8455 2017-07-18 23:23:26\n10  8d50f5eadf50201ccdcedfb9e2ac8455 2017-07-24 22:25:14",
      "text/html": "<div>\n<style scoped>\n    .dataframe tbody tr th:only-of-type {\n        vertical-align: middle;\n    }\n\n    .dataframe tbody tr th {\n        vertical-align: top;\n    }\n\n    .dataframe thead th {\n        text-align: right;\n    }\n</style>\n<table border=\"1\" class=\"dataframe\">\n  <thead>\n    <tr style=\"text-align: right;\">\n      <th></th>\n      <th>customer_unique_id</th>\n      <th>order_approved_at</th>\n    </tr>\n  </thead>\n  <tbody>\n    <tr>\n      <th>3</th>\n      <td>8d50f5eadf50201ccdcedfb9e2ac8455</td>\n      <td>2017-07-18 23:23:26</td>\n    </tr>\n    <tr>\n      <th>10</th>\n      <td>8d50f5eadf50201ccdcedfb9e2ac8455</td>\n      <td>2017-07-24 22:25:14</td>\n    </tr>\n  </tbody>\n</table>\n</div>"
     },
     "metadata": {}
    },
    {
     "output_type": "display_data",
     "data": {
      "text/plain": "                 customer_unique_id   order_approved_at\n4  8d50f5eadf50201ccdcedfb9e2ac8455 2017-08-05 09:10:13",
      "text/html": "<div>\n<style scoped>\n    .dataframe tbody tr th:only-of-type {\n        vertical-align: middle;\n    }\n\n    .dataframe tbody tr th {\n        vertical-align: top;\n    }\n\n    .dataframe thead th {\n        text-align: right;\n    }\n</style>\n<table border=\"1\" class=\"dataframe\">\n  <thead>\n    <tr style=\"text-align: right;\">\n      <th></th>\n      <th>customer_unique_id</th>\n      <th>order_approved_at</th>\n    </tr>\n  </thead>\n  <tbody>\n    <tr>\n      <th>4</th>\n      <td>8d50f5eadf50201ccdcedfb9e2ac8455</td>\n      <td>2017-08-05 09:10:13</td>\n    </tr>\n  </tbody>\n</table>\n</div>"
     },
     "metadata": {}
    },
    {
     "output_type": "display_data",
     "data": {
      "text/plain": "                  customer_unique_id   order_approved_at\n14  8d50f5eadf50201ccdcedfb9e2ac8455 2017-09-05 22:30:56",
      "text/html": "<div>\n<style scoped>\n    .dataframe tbody tr th:only-of-type {\n        vertical-align: middle;\n    }\n\n    .dataframe tbody tr th {\n        vertical-align: top;\n    }\n\n    .dataframe thead th {\n        text-align: right;\n    }\n</style>\n<table border=\"1\" class=\"dataframe\">\n  <thead>\n    <tr style=\"text-align: right;\">\n      <th></th>\n      <th>customer_unique_id</th>\n      <th>order_approved_at</th>\n    </tr>\n  </thead>\n  <tbody>\n    <tr>\n      <th>14</th>\n      <td>8d50f5eadf50201ccdcedfb9e2ac8455</td>\n      <td>2017-09-05 22:30:56</td>\n    </tr>\n  </tbody>\n</table>\n</div>"
     },
     "metadata": {}
    },
    {
     "output_type": "display_data",
     "data": {
      "text/plain": "                  customer_unique_id   order_approved_at\n7   8d50f5eadf50201ccdcedfb9e2ac8455 2017-10-29 17:10:09\n12  8d50f5eadf50201ccdcedfb9e2ac8455 2017-10-19 00:36:08",
      "text/html": "<div>\n<style scoped>\n    .dataframe tbody tr th:only-of-type {\n        vertical-align: middle;\n    }\n\n    .dataframe tbody tr th {\n        vertical-align: top;\n    }\n\n    .dataframe thead th {\n        text-align: right;\n    }\n</style>\n<table border=\"1\" class=\"dataframe\">\n  <thead>\n    <tr style=\"text-align: right;\">\n      <th></th>\n      <th>customer_unique_id</th>\n      <th>order_approved_at</th>\n    </tr>\n  </thead>\n  <tbody>\n    <tr>\n      <th>7</th>\n      <td>8d50f5eadf50201ccdcedfb9e2ac8455</td>\n      <td>2017-10-29 17:10:09</td>\n    </tr>\n    <tr>\n      <th>12</th>\n      <td>8d50f5eadf50201ccdcedfb9e2ac8455</td>\n      <td>2017-10-19 00:36:08</td>\n    </tr>\n  </tbody>\n</table>\n</div>"
     },
     "metadata": {}
    },
    {
     "output_type": "display_data",
     "data": {
      "text/plain": "                 customer_unique_id   order_approved_at\n9  8d50f5eadf50201ccdcedfb9e2ac8455 2017-11-22 20:12:32",
      "text/html": "<div>\n<style scoped>\n    .dataframe tbody tr th:only-of-type {\n        vertical-align: middle;\n    }\n\n    .dataframe tbody tr th {\n        vertical-align: top;\n    }\n\n    .dataframe thead th {\n        text-align: right;\n    }\n</style>\n<table border=\"1\" class=\"dataframe\">\n  <thead>\n    <tr style=\"text-align: right;\">\n      <th></th>\n      <th>customer_unique_id</th>\n      <th>order_approved_at</th>\n    </tr>\n  </thead>\n  <tbody>\n    <tr>\n      <th>9</th>\n      <td>8d50f5eadf50201ccdcedfb9e2ac8455</td>\n      <td>2017-11-22 20:12:32</td>\n    </tr>\n  </tbody>\n</table>\n</div>"
     },
     "metadata": {}
    },
    {
     "output_type": "display_data",
     "data": {
      "text/plain": "Empty DataFrame\nColumns: [customer_unique_id, order_approved_at]\nIndex: []",
      "text/html": "<div>\n<style scoped>\n    .dataframe tbody tr th:only-of-type {\n        vertical-align: middle;\n    }\n\n    .dataframe tbody tr th {\n        vertical-align: top;\n    }\n\n    .dataframe thead th {\n        text-align: right;\n    }\n</style>\n<table border=\"1\" class=\"dataframe\">\n  <thead>\n    <tr style=\"text-align: right;\">\n      <th></th>\n      <th>customer_unique_id</th>\n      <th>order_approved_at</th>\n    </tr>\n  </thead>\n  <tbody>\n  </tbody>\n</table>\n</div>"
     },
     "metadata": {}
    },
    {
     "output_type": "display_data",
     "data": {
      "text/plain": "Empty DataFrame\nColumns: [customer_unique_id, order_approved_at]\nIndex: []",
      "text/html": "<div>\n<style scoped>\n    .dataframe tbody tr th:only-of-type {\n        vertical-align: middle;\n    }\n\n    .dataframe tbody tr th {\n        vertical-align: top;\n    }\n\n    .dataframe thead th {\n        text-align: right;\n    }\n</style>\n<table border=\"1\" class=\"dataframe\">\n  <thead>\n    <tr style=\"text-align: right;\">\n      <th></th>\n      <th>customer_unique_id</th>\n      <th>order_approved_at</th>\n    </tr>\n  </thead>\n  <tbody>\n  </tbody>\n</table>\n</div>"
     },
     "metadata": {}
    },
    {
     "output_type": "display_data",
     "data": {
      "text/plain": "Empty DataFrame\nColumns: [customer_unique_id, order_approved_at]\nIndex: []",
      "text/html": "<div>\n<style scoped>\n    .dataframe tbody tr th:only-of-type {\n        vertical-align: middle;\n    }\n\n    .dataframe tbody tr th {\n        vertical-align: top;\n    }\n\n    .dataframe thead th {\n        text-align: right;\n    }\n</style>\n<table border=\"1\" class=\"dataframe\">\n  <thead>\n    <tr style=\"text-align: right;\">\n      <th></th>\n      <th>customer_unique_id</th>\n      <th>order_approved_at</th>\n    </tr>\n  </thead>\n  <tbody>\n  </tbody>\n</table>\n</div>"
     },
     "metadata": {}
    },
    {
     "output_type": "display_data",
     "data": {
      "text/plain": "Empty DataFrame\nColumns: [customer_unique_id, order_approved_at]\nIndex: []",
      "text/html": "<div>\n<style scoped>\n    .dataframe tbody tr th:only-of-type {\n        vertical-align: middle;\n    }\n\n    .dataframe tbody tr th {\n        vertical-align: top;\n    }\n\n    .dataframe thead th {\n        text-align: right;\n    }\n</style>\n<table border=\"1\" class=\"dataframe\">\n  <thead>\n    <tr style=\"text-align: right;\">\n      <th></th>\n      <th>customer_unique_id</th>\n      <th>order_approved_at</th>\n    </tr>\n  </thead>\n  <tbody>\n  </tbody>\n</table>\n</div>"
     },
     "metadata": {}
    },
    {
     "output_type": "display_data",
     "data": {
      "text/plain": "Empty DataFrame\nColumns: [customer_unique_id, order_approved_at]\nIndex: []",
      "text/html": "<div>\n<style scoped>\n    .dataframe tbody tr th:only-of-type {\n        vertical-align: middle;\n    }\n\n    .dataframe tbody tr th {\n        vertical-align: top;\n    }\n\n    .dataframe thead th {\n        text-align: right;\n    }\n</style>\n<table border=\"1\" class=\"dataframe\">\n  <thead>\n    <tr style=\"text-align: right;\">\n      <th></th>\n      <th>customer_unique_id</th>\n      <th>order_approved_at</th>\n    </tr>\n  </thead>\n  <tbody>\n  </tbody>\n</table>\n</div>"
     },
     "metadata": {}
    },
    {
     "output_type": "display_data",
     "data": {
      "text/plain": "                 customer_unique_id   order_approved_at\n1  8d50f5eadf50201ccdcedfb9e2ac8455 2018-05-22 01:53:35\n5  8d50f5eadf50201ccdcedfb9e2ac8455 2018-05-22 23:36:01",
      "text/html": "<div>\n<style scoped>\n    .dataframe tbody tr th:only-of-type {\n        vertical-align: middle;\n    }\n\n    .dataframe tbody tr th {\n        vertical-align: top;\n    }\n\n    .dataframe thead th {\n        text-align: right;\n    }\n</style>\n<table border=\"1\" class=\"dataframe\">\n  <thead>\n    <tr style=\"text-align: right;\">\n      <th></th>\n      <th>customer_unique_id</th>\n      <th>order_approved_at</th>\n    </tr>\n  </thead>\n  <tbody>\n    <tr>\n      <th>1</th>\n      <td>8d50f5eadf50201ccdcedfb9e2ac8455</td>\n      <td>2018-05-22 01:53:35</td>\n    </tr>\n    <tr>\n      <th>5</th>\n      <td>8d50f5eadf50201ccdcedfb9e2ac8455</td>\n      <td>2018-05-22 23:36:01</td>\n    </tr>\n  </tbody>\n</table>\n</div>"
     },
     "metadata": {}
    },
    {
     "output_type": "display_data",
     "data": {
      "text/plain": "Empty DataFrame\nColumns: [customer_unique_id, order_approved_at]\nIndex: []",
      "text/html": "<div>\n<style scoped>\n    .dataframe tbody tr th:only-of-type {\n        vertical-align: middle;\n    }\n\n    .dataframe tbody tr th {\n        vertical-align: top;\n    }\n\n    .dataframe thead th {\n        text-align: right;\n    }\n</style>\n<table border=\"1\" class=\"dataframe\">\n  <thead>\n    <tr style=\"text-align: right;\">\n      <th></th>\n      <th>customer_unique_id</th>\n      <th>order_approved_at</th>\n    </tr>\n  </thead>\n  <tbody>\n  </tbody>\n</table>\n</div>"
     },
     "metadata": {}
    },
    {
     "output_type": "display_data",
     "data": {
      "text/plain": "                 customer_unique_id   order_approved_at\n0  8d50f5eadf50201ccdcedfb9e2ac8455 2018-07-24 10:31:34\n6  8d50f5eadf50201ccdcedfb9e2ac8455 2018-07-05 16:27:55",
      "text/html": "<div>\n<style scoped>\n    .dataframe tbody tr th:only-of-type {\n        vertical-align: middle;\n    }\n\n    .dataframe tbody tr th {\n        vertical-align: top;\n    }\n\n    .dataframe thead th {\n        text-align: right;\n    }\n</style>\n<table border=\"1\" class=\"dataframe\">\n  <thead>\n    <tr style=\"text-align: right;\">\n      <th></th>\n      <th>customer_unique_id</th>\n      <th>order_approved_at</th>\n    </tr>\n  </thead>\n  <tbody>\n    <tr>\n      <th>0</th>\n      <td>8d50f5eadf50201ccdcedfb9e2ac8455</td>\n      <td>2018-07-24 10:31:34</td>\n    </tr>\n    <tr>\n      <th>6</th>\n      <td>8d50f5eadf50201ccdcedfb9e2ac8455</td>\n      <td>2018-07-05 16:27:55</td>\n    </tr>\n  </tbody>\n</table>\n</div>"
     },
     "metadata": {}
    },
    {
     "output_type": "display_data",
     "data": {
      "text/plain": "                  customer_unique_id   order_approved_at\n8   8d50f5eadf50201ccdcedfb9e2ac8455 2018-08-18 12:50:37\n11  8d50f5eadf50201ccdcedfb9e2ac8455 2018-08-07 23:45:21\n13  8d50f5eadf50201ccdcedfb9e2ac8455 2018-08-20 19:30:05",
      "text/html": "<div>\n<style scoped>\n    .dataframe tbody tr th:only-of-type {\n        vertical-align: middle;\n    }\n\n    .dataframe tbody tr th {\n        vertical-align: top;\n    }\n\n    .dataframe thead th {\n        text-align: right;\n    }\n</style>\n<table border=\"1\" class=\"dataframe\">\n  <thead>\n    <tr style=\"text-align: right;\">\n      <th></th>\n      <th>customer_unique_id</th>\n      <th>order_approved_at</th>\n    </tr>\n  </thead>\n  <tbody>\n    <tr>\n      <th>8</th>\n      <td>8d50f5eadf50201ccdcedfb9e2ac8455</td>\n      <td>2018-08-18 12:50:37</td>\n    </tr>\n    <tr>\n      <th>11</th>\n      <td>8d50f5eadf50201ccdcedfb9e2ac8455</td>\n      <td>2018-08-07 23:45:21</td>\n    </tr>\n    <tr>\n      <th>13</th>\n      <td>8d50f5eadf50201ccdcedfb9e2ac8455</td>\n      <td>2018-08-20 19:30:05</td>\n    </tr>\n  </tbody>\n</table>\n</div>"
     },
     "metadata": {}
    }
   ],
   "source": [
    "for i in lifetime2_df.index:\n",
    "    id = lifetime2_df['customer_unique_id'][i]\n",
    "    id_df = df_oi_o_c.loc[(df_oi_o_c['customer_unique_id'] == id)][['customer_unique_id','order_approved_at']].reset_index(drop=True)\n",
    "    id_df['order_approved_at'] = pd.to_datetime(id_df['order_approved_at'])\n",
    "    display(id_df)\n",
    "    for p in range(len(periods)):\n",
    "        start_time = datetime.datetime.strptime(periods[p], '%Y-%m')\n",
    "        if p == 19:\n",
    "            end_time = datetime.datetime.strptime('2018-09', '%Y-%m')\n",
    "        else:\n",
    "            end_time = datetime.datetime.strptime(periods[p+1], '%Y-%m')\n",
    "        period_df = id_df.loc[(id_df['order_approved_at'] >= start_time) & (id_df['order_approved_at'] < end_time)]\n",
    "        display(period_df)\n",
    "        #Good ^^^\n",
    "\n",
    "        # If a customer (customer_unique_id) has a prior purchase not in the period_df\n",
    "        if id_df['order_approved_at'].min() not in period_df['order_approved_at'].values:\n",
    "            lifetime2_df.at[i, periods[p]] = (period_df['order_approved_at'].max() - id_df['order_approved_at'].min()).days\n",
    "        else:\n",
    "            # Finds the number of days between purchases in a month, if no other purchases had been made prior\n",
    "            if period_df.shape[0] == 0:         # No purchase, leave as NaN\n",
    "                pass\n",
    "            elif period_df.shape[0] == 1:       # 1 purchase, counts as 1 day\n",
    "                lifetime2_df.at[i, periods[p]] = 1\n",
    "            else:                               # More than 1 purchase in a month, counts the number of days between purchases\n",
    "                if period_df['order_approved_at'].max() == period_df['order_approved_at'].min(): # For situations where mutliple orders were placed at the same time\n",
    "                    lifetime2_df.at[i, periods[p]] = 1\n",
    "                elif (period_df['order_approved_at'].max() - period_df['order_approved_at'].min()).days < 1:\n",
    "                    lifetime2_df.at[i, periods[p]] = 1\n",
    "                else:\n",
    "                    lifetime2_df.at[i, periods[p]] = (period_df['order_approved_at'].max() - period_df['order_approved_at'].min()).days"
   ]
  },
  {
   "cell_type": "code",
   "execution_count": 380,
   "metadata": {},
   "outputs": [
    {
     "output_type": "display_data",
     "data": {
      "text/plain": "                 customer_unique_id 2017-01 2017-02 2017-03 2017-04 2017-05  \\\n0  3e43e6105506432c953e165fb2acf44c     NaN     NaN     NaN     NaN     NaN   \n1  8d50f5eadf50201ccdcedfb9e2ac8455     NaN     NaN     NaN     NaN     NaN   \n\n  2017-06 2017-07 2017-08 2017-09 2017-10 2017-11 2017-12 2018-01 2018-02  \\\n0     NaN     NaN     NaN       1     NaN     NaN      74     114     161   \n1       1      35      47      78     132     156     NaN     NaN     NaN   \n\n  2018-03 2018-04 2018-05 2018-06 2018-07 2018-08 2018-09  \n0     NaN     NaN     NaN     NaN     NaN     NaN     NaN  \n1     NaN     NaN     338     NaN     400     427     NaN  ",
      "text/html": "<div>\n<style scoped>\n    .dataframe tbody tr th:only-of-type {\n        vertical-align: middle;\n    }\n\n    .dataframe tbody tr th {\n        vertical-align: top;\n    }\n\n    .dataframe thead th {\n        text-align: right;\n    }\n</style>\n<table border=\"1\" class=\"dataframe\">\n  <thead>\n    <tr style=\"text-align: right;\">\n      <th></th>\n      <th>customer_unique_id</th>\n      <th>2017-01</th>\n      <th>2017-02</th>\n      <th>2017-03</th>\n      <th>2017-04</th>\n      <th>2017-05</th>\n      <th>2017-06</th>\n      <th>2017-07</th>\n      <th>2017-08</th>\n      <th>2017-09</th>\n      <th>2017-10</th>\n      <th>2017-11</th>\n      <th>2017-12</th>\n      <th>2018-01</th>\n      <th>2018-02</th>\n      <th>2018-03</th>\n      <th>2018-04</th>\n      <th>2018-05</th>\n      <th>2018-06</th>\n      <th>2018-07</th>\n      <th>2018-08</th>\n      <th>2018-09</th>\n    </tr>\n  </thead>\n  <tbody>\n    <tr>\n      <th>0</th>\n      <td>3e43e6105506432c953e165fb2acf44c</td>\n      <td>NaN</td>\n      <td>NaN</td>\n      <td>NaN</td>\n      <td>NaN</td>\n      <td>NaN</td>\n      <td>NaN</td>\n      <td>NaN</td>\n      <td>NaN</td>\n      <td>1</td>\n      <td>NaN</td>\n      <td>NaN</td>\n      <td>74</td>\n      <td>114</td>\n      <td>161</td>\n      <td>NaN</td>\n      <td>NaN</td>\n      <td>NaN</td>\n      <td>NaN</td>\n      <td>NaN</td>\n      <td>NaN</td>\n      <td>NaN</td>\n    </tr>\n    <tr>\n      <th>1</th>\n      <td>8d50f5eadf50201ccdcedfb9e2ac8455</td>\n      <td>NaN</td>\n      <td>NaN</td>\n      <td>NaN</td>\n      <td>NaN</td>\n      <td>NaN</td>\n      <td>1</td>\n      <td>35</td>\n      <td>47</td>\n      <td>78</td>\n      <td>132</td>\n      <td>156</td>\n      <td>NaN</td>\n      <td>NaN</td>\n      <td>NaN</td>\n      <td>NaN</td>\n      <td>NaN</td>\n      <td>338</td>\n      <td>NaN</td>\n      <td>400</td>\n      <td>427</td>\n      <td>NaN</td>\n    </tr>\n  </tbody>\n</table>\n</div>"
     },
     "metadata": {}
    },
    {
     "output_type": "execute_result",
     "data": {
      "text/plain": [
       "pandas.core.frame.DataFrame"
      ]
     },
     "metadata": {},
     "execution_count": 380
    }
   ],
   "source": [
    "pd.set_option(\"display.max_columns\", 100)\n",
    "display(lifetime2_df)\n",
    "type(lifetime2_df)"
   ]
  },
  {
   "cell_type": "code",
   "execution_count": 361,
   "metadata": {},
   "outputs": [
    {
     "output_type": "execute_result",
     "data": {
      "text/plain": [
       "                                order_id  order_item_id  \\\n",
       "7561    1124c329070977fbd414f046bba149d7              1   \n",
       "7577    112eb6f37f1b9dabbced368fbbc6c9ef              1   \n",
       "15443   23427a6bd9f8fd1b51f1b1e5cc186ab8              1   \n",
       "23961   369634708db140c5d2c4e365882c443a              1   \n",
       "35059   4f62d593acae92cea3c5662c76122478              1   \n",
       "35995   519203404f6116d406a970763ee75799              1   \n",
       "47446   6bdf325f0966e3056651285c0aed5aad              1   \n",
       "49516   70863e8ef99613bbc8f854807d187ea7              1   \n",
       "49517   70863e8ef99613bbc8f854807d187ea7              2   \n",
       "57284   826b47e4cd7bba4e4c6fa5485f898b74              1   \n",
       "57285   826b47e4cd7bba4e4c6fa5485f898b74              2   \n",
       "57814   838f8e96cf584a1d8d22eaf7143c7772              1   \n",
       "60484   89d9b111d2b990deb5f5f9769f92800b              1   \n",
       "70854   a1a6eadae352582010f449d8527b55f3              1   \n",
       "81072   b850a16d8faf65a74c51287ef34379ce              1   \n",
       "84306   bf92c69b7cc70f7fc2c37de43e366173              1   \n",
       "85458   c2213109a2cc0e75d55585b7aaac6d97              1   \n",
       "89354   caf10b4f81696bae84a2448c0767b3b0              1   \n",
       "90399   cd4b336a02aacabd0ef22f6db711f95e              1   \n",
       "93245   d3582fd5ccccd9cb229a63dfb417c86f              1   \n",
       "99777   e23ad32d5c15d9ad308baddc6262afea              1   \n",
       "100108  e3071b7624445af6e4f3a1b23718667d              1   \n",
       "104343  ed0b6f8c8617370e53735a5d963bb5b6              1   \n",
       "104344  ed0b6f8c8617370e53735a5d963bb5b6              2   \n",
       "104345  ed0b6f8c8617370e53735a5d963bb5b6              3   \n",
       "104346  ed0b6f8c8617370e53735a5d963bb5b6              4   \n",
       "104584  ed92e8596b1e39671065510a4f5b0920              1   \n",
       "108835  f75455b78762d30c7e663172f18dbcbe              1   \n",
       "112453  ff89ef7b3952bba5ac06d61c4a79ffbe              1   \n",
       "\n",
       "                              product_id                         seller_id  \\\n",
       "7561    689a9f33ae479ec0d9f68a9b6b0cfcbf  95e03ca3d4146e4011985981aeb959b9   \n",
       "7577    41f6cb7c3b1200749326e50106f32d58  db4350fd57ae30082dec7acbaacc17f9   \n",
       "15443   5cb96c51c55f57503465e4d2558dc053  db4350fd57ae30082dec7acbaacc17f9   \n",
       "23961   d83509907a19c72e1e4cdde78b8177ec  94e93ce877be27a515118dbfd2c2be41   \n",
       "35059   94cc774056d3f2b0dc693486a589025e  1da3aeb70d7989d1e6d9b0e887f97c23   \n",
       "35995   5fb61f482620cb672f5e586bb132eae9  94e93ce877be27a515118dbfd2c2be41   \n",
       "47446   d6354128c28cc56532ba7393d9373083  412a4720f3e9431b4afa1476a1acddbe   \n",
       "49516   ceeb8b2d571b23399910f1b83980c973  1900267e848ceeba8fa32d80c1a5f5a8   \n",
       "49517   d296d7996d75ec35fcfc75b3a06cae63  1900267e848ceeba8fa32d80c1a5f5a8   \n",
       "57284   82254d93b897fde054504b15f8fe923c  02ecc2a19303f05e59ce133fd923fff7   \n",
       "57285   446607005fbc439a9439caed96867e26  9dda5bbacd45e18d6485fee649205d09   \n",
       "57814   fe7e33eaa09b5a4a3d3aa477280db875  1da3aeb70d7989d1e6d9b0e887f97c23   \n",
       "60484   94cc774056d3f2b0dc693486a589025e  1da3aeb70d7989d1e6d9b0e887f97c23   \n",
       "70854   426f910ccd39ae5e7d55013c466fe343  0691148aee60ca47977c187804f935ae   \n",
       "81072   5bccc8fe44471df6c7b7e08176837d2f  1da3aeb70d7989d1e6d9b0e887f97c23   \n",
       "84306   e01bc2ad5c6f46c0f53f73379fcd602e  a3a38f4affed601eb87a97788c949667   \n",
       "85458   de7df82eb1e48c456b020c2cfb03aeed  1da3aeb70d7989d1e6d9b0e887f97c23   \n",
       "89354   f582884ed8bb76a4b6317b8c9e966d98  994f04b3718c2bab35c2adfa8afecd2a   \n",
       "90399   9169f70b7ce1138ac35678432d1e5ff2  1da3aeb70d7989d1e6d9b0e887f97c23   \n",
       "93245   df473738565b52f77b4e22b328b41576  01266d4c46afa519678d16a8b683d325   \n",
       "99777   957f6d6b55b78746f89e976cba785440  f1ed6bd0a9b11b581f16c851c6a5a527   \n",
       "100108  88159bac10e3d4f4b69b157406c7f70f  fdaaf5bfda82b7b80535610c831b8d09   \n",
       "104343  1269d60fc5efbcf03e7eea49213091c6  4200ddf1967c5e41e48db62bc6d4b5ac   \n",
       "104344  55363f487ca324087a49ddfcfb91b971  4200ddf1967c5e41e48db62bc6d4b5ac   \n",
       "104345  7b49e585ac8c80b14c9b2815d4db465f  4200ddf1967c5e41e48db62bc6d4b5ac   \n",
       "104346  7b49e585ac8c80b14c9b2815d4db465f  4200ddf1967c5e41e48db62bc6d4b5ac   \n",
       "104584  7fd6586464df3ea9bad637e34580c186  52f0fe436a347ddad7ed5f9aa4e27eaa   \n",
       "108835  d801caede80d4819d4976e8bfdbc2861  1835b56ce799e6a4dc4eddc053f04066   \n",
       "112453  ce6f74096c84567f22728c84f3d6e7fc  8160255418d5aaa7dbdc9f4c64ebda44   \n",
       "\n",
       "        shipping_limit_date   price  freight_value  \\\n",
       "7561    2017-12-12 22:52:47   50.00          15.10   \n",
       "7577    2018-07-30 09:43:43   99.00           8.85   \n",
       "15443   2018-05-24 01:53:35   45.99           7.39   \n",
       "23961   2017-06-22 23:10:19   39.90          11.85   \n",
       "35059   2017-07-24 23:23:26   13.99           7.78   \n",
       "35995   2017-08-10 09:10:13   69.90          11.99   \n",
       "47446   2018-05-24 23:31:13   51.80          11.15   \n",
       "49516   2018-02-16 10:28:11   53.00          12.29   \n",
       "49517   2018-02-16 10:28:11   53.00          12.29   \n",
       "57284   2017-12-06 22:52:53  239.90          14.36   \n",
       "57285   2017-12-06 22:52:53   97.00          12.92   \n",
       "57814   2018-07-08 23:31:20   22.99           7.42   \n",
       "60484   2017-11-03 17:10:09   13.99           7.78   \n",
       "70854   2018-08-23 12:50:37   72.90          23.50   \n",
       "81072   2017-11-28 20:12:32   13.99           7.78   \n",
       "84306   2017-07-30 22:25:14  149.90          16.81   \n",
       "85458   2018-08-12 23:45:21   26.99           7.45   \n",
       "89354   2018-01-17 11:09:12  119.00          13.95   \n",
       "90399   2017-10-25 00:36:08   29.99           7.78   \n",
       "93245   2018-08-22 19:30:05   23.40          15.26   \n",
       "99777   2017-12-13 15:50:49   97.47          17.93   \n",
       "100108  2017-09-12 22:30:56   39.90          11.85   \n",
       "104343  2017-09-22 19:05:23   16.90           5.18   \n",
       "104344  2017-09-22 19:05:23   16.90           5.19   \n",
       "104345  2017-09-22 19:05:23   16.90          10.38   \n",
       "104346  2017-09-22 19:05:23   16.90          10.38   \n",
       "104584  2018-02-26 11:50:38   59.99          16.18   \n",
       "108835  2018-02-16 10:28:08   53.99          11.88   \n",
       "112453  2018-03-05 18:50:29  109.90          13.79   \n",
       "\n",
       "                             customer_id order_status  \\\n",
       "7561    b70f8552b91ef49129519206966e2472    delivered   \n",
       "7577    65f9db9dd07a4e79b625effa4c868fcb    delivered   \n",
       "15443   a8fabc805e9a10a3c93ae5bff642b86b    delivered   \n",
       "23961   b2b13de0770e06de50080fea77c459e6    delivered   \n",
       "35059   dfb941d6f7b02f57a44c3b7c3fefb44b    delivered   \n",
       "35995   1c62b48fb34ee043310dcb233caabd2e    delivered   \n",
       "47446   6289b75219d757a56c0cce8d9e427900    delivered   \n",
       "49516   2bbd32d4ef14893d2d8c1a0df08403cf    delivered   \n",
       "49517   2bbd32d4ef14893d2d8c1a0df08403cf    delivered   \n",
       "57284   e68e6423401e85c138229b23d4bf4761    delivered   \n",
       "57285   e68e6423401e85c138229b23d4bf4761    delivered   \n",
       "57814   f5188d99e9281e214a4a7d1b139a8229    delivered   \n",
       "60484   9a1afef458843a022e431f4cb304dfe9    delivered   \n",
       "70854   3414a9c813e3ca02504b8be8b2deb27f    delivered   \n",
       "81072   1bd3585471932167ab72a84955ebefea    delivered   \n",
       "84306   42dbc1ad9d560637c9c4c1533746f86d    delivered   \n",
       "85458   897b7f72042714efaa64ac306ba0cafc    delivered   \n",
       "89354   b63c9cfc5dcb06ed307ca95957fa216c    delivered   \n",
       "90399   89be66634d68fa73a95499b6352e085d    delivered   \n",
       "93245   a682769c4bc10fc6ef2101337a6c83c9    delivered   \n",
       "99777   a4413edae691fd0d28bd04b8a38b259d    delivered   \n",
       "100108  0bf8bf19944a7f8b40ba86fef778ca7c    delivered   \n",
       "104343  06ec7aed3161859018db02f695b6600d    delivered   \n",
       "104344  06ec7aed3161859018db02f695b6600d    delivered   \n",
       "104345  06ec7aed3161859018db02f695b6600d    delivered   \n",
       "104346  06ec7aed3161859018db02f695b6600d    delivered   \n",
       "104584  f37a14140ac3a8efbb4d2eab6585edb7    delivered   \n",
       "108835  6b92dda6e324283dbe4969c443e3bf1a    delivered   \n",
       "112453  1815fdaaae692479110428598596b5e5    delivered   \n",
       "\n",
       "       order_purchase_timestamp   order_approved_at  \\\n",
       "7561        2017-12-01 22:37:41 2017-12-01 22:52:47   \n",
       "7577        2018-07-23 21:53:02 2018-07-24 10:31:34   \n",
       "15443       2018-05-21 22:44:31 2018-05-22 01:53:35   \n",
       "23961       2017-06-18 22:56:48 2017-06-18 23:10:19   \n",
       "35059       2017-07-18 23:10:58 2017-07-18 23:23:26   \n",
       "35995       2017-08-05 08:59:43 2017-08-05 09:10:13   \n",
       "47446       2018-05-22 23:08:55 2018-05-22 23:36:01   \n",
       "49516       2018-02-12 10:12:54 2018-02-12 10:28:11   \n",
       "49517       2018-02-12 10:12:54 2018-02-12 10:28:11   \n",
       "57284       2017-12-01 22:37:42 2017-12-01 22:52:53   \n",
       "57285       2017-12-01 22:37:42 2017-12-01 22:52:53   \n",
       "57814       2018-07-04 22:35:13 2018-07-05 16:27:55   \n",
       "60484       2017-10-29 16:58:02 2017-10-29 17:10:09   \n",
       "70854       2018-08-18 12:39:19 2018-08-18 12:50:37   \n",
       "81072       2017-11-22 20:01:53 2017-11-22 20:12:32   \n",
       "84306       2017-07-24 22:11:50 2017-07-24 22:25:14   \n",
       "85458       2018-08-07 23:32:14 2018-08-07 23:45:21   \n",
       "89354       2018-01-11 10:56:15 2018-01-11 11:09:12   \n",
       "90399       2017-10-18 23:25:04 2017-10-19 00:36:08   \n",
       "93245       2018-08-20 19:14:26 2018-08-20 19:30:05   \n",
       "99777       2017-12-01 09:30:36 2017-12-02 15:50:49   \n",
       "100108      2017-09-05 22:14:52 2017-09-05 22:30:56   \n",
       "104343      2017-09-18 18:53:15 2017-09-18 19:05:23   \n",
       "104344      2017-09-18 18:53:15 2017-09-18 19:05:23   \n",
       "104345      2017-09-18 18:53:15 2017-09-18 19:05:23   \n",
       "104346      2017-09-18 18:53:15 2017-09-18 19:05:23   \n",
       "104584      2018-02-20 10:45:22 2018-02-20 11:50:38   \n",
       "108835      2018-02-12 10:12:55 2018-02-12 10:28:08   \n",
       "112453      2018-02-27 18:36:39 2018-02-27 18:50:29   \n",
       "\n",
       "       order_delivered_carrier_date order_delivered_customer_date  \\\n",
       "7561            2017-12-04 22:09:20           2017-12-19 19:15:14   \n",
       "7577            2018-07-25 10:25:00           2018-07-26 18:29:28   \n",
       "15443           2018-05-22 14:18:00           2018-05-23 15:33:09   \n",
       "23961           2017-06-19 20:12:26           2017-06-23 12:55:50   \n",
       "35059           2017-07-20 19:00:02           2017-07-21 16:19:40   \n",
       "35995           2017-08-07 18:50:00           2017-08-09 15:22:28   \n",
       "47446           2018-05-23 19:02:00           2018-05-24 11:58:23   \n",
       "49516           2018-02-16 01:49:11           2018-02-27 22:09:24   \n",
       "49517           2018-02-16 01:49:11           2018-02-27 22:09:24   \n",
       "57284           2017-12-05 20:59:00           2017-12-06 19:09:43   \n",
       "57285           2017-12-05 20:59:00           2017-12-06 19:09:43   \n",
       "57814           2018-07-06 10:15:00           2018-07-10 21:27:30   \n",
       "60484           2017-10-30 15:58:52           2017-10-31 15:33:47   \n",
       "70854           2018-08-20 14:43:00           2018-08-24 17:26:42   \n",
       "81072           2017-11-24 16:07:56           2017-11-27 18:49:13   \n",
       "84306           2017-07-26 01:42:03           2017-07-31 16:59:58   \n",
       "85458           2018-08-09 13:35:00           2018-08-10 20:26:44   \n",
       "89354           2018-01-13 01:13:05           2018-01-16 19:07:03   \n",
       "90399           2017-10-20 17:11:50           2017-10-23 18:33:01   \n",
       "93245           2018-08-21 15:11:00           2018-08-24 14:08:43   \n",
       "99777           2017-12-13 19:41:21           2017-12-27 17:22:30   \n",
       "100108          2017-09-06 15:26:12           2017-09-11 13:27:49   \n",
       "104343          2017-09-20 17:22:30           2017-09-22 20:56:45   \n",
       "104344          2017-09-20 17:22:30           2017-09-22 20:56:45   \n",
       "104345          2017-09-20 17:22:30           2017-09-22 20:56:45   \n",
       "104346          2017-09-20 17:22:30           2017-09-22 20:56:45   \n",
       "104584          2018-03-07 19:58:53           2018-03-15 21:21:45   \n",
       "108835          2018-02-14 22:09:36           2018-02-27 23:07:45   \n",
       "112453          2018-03-01 01:11:25           2018-03-13 23:44:26   \n",
       "\n",
       "       order_estimated_delivery_date                customer_unique_id  \\\n",
       "7561             2018-01-02 00:00:00  3e43e6105506432c953e165fb2acf44c   \n",
       "7577             2018-08-02 00:00:00  8d50f5eadf50201ccdcedfb9e2ac8455   \n",
       "15443            2018-05-29 00:00:00  8d50f5eadf50201ccdcedfb9e2ac8455   \n",
       "23961            2017-07-07 00:00:00  8d50f5eadf50201ccdcedfb9e2ac8455   \n",
       "35059            2017-07-31 00:00:00  8d50f5eadf50201ccdcedfb9e2ac8455   \n",
       "35995            2017-08-25 00:00:00  8d50f5eadf50201ccdcedfb9e2ac8455   \n",
       "47446            2018-05-30 00:00:00  8d50f5eadf50201ccdcedfb9e2ac8455   \n",
       "49516            2018-03-06 00:00:00  3e43e6105506432c953e165fb2acf44c   \n",
       "49517            2018-03-06 00:00:00  3e43e6105506432c953e165fb2acf44c   \n",
       "57284            2017-12-27 00:00:00  3e43e6105506432c953e165fb2acf44c   \n",
       "57285            2017-12-27 00:00:00  3e43e6105506432c953e165fb2acf44c   \n",
       "57814            2018-07-17 00:00:00  8d50f5eadf50201ccdcedfb9e2ac8455   \n",
       "60484            2017-11-10 00:00:00  8d50f5eadf50201ccdcedfb9e2ac8455   \n",
       "70854            2018-09-03 00:00:00  8d50f5eadf50201ccdcedfb9e2ac8455   \n",
       "81072            2017-12-04 00:00:00  8d50f5eadf50201ccdcedfb9e2ac8455   \n",
       "84306            2017-08-15 00:00:00  8d50f5eadf50201ccdcedfb9e2ac8455   \n",
       "85458            2018-08-13 00:00:00  8d50f5eadf50201ccdcedfb9e2ac8455   \n",
       "89354            2018-01-26 00:00:00  3e43e6105506432c953e165fb2acf44c   \n",
       "90399            2017-10-30 00:00:00  8d50f5eadf50201ccdcedfb9e2ac8455   \n",
       "93245            2018-09-04 00:00:00  8d50f5eadf50201ccdcedfb9e2ac8455   \n",
       "99777            2018-01-09 00:00:00  3e43e6105506432c953e165fb2acf44c   \n",
       "100108           2017-09-22 00:00:00  8d50f5eadf50201ccdcedfb9e2ac8455   \n",
       "104343           2017-09-28 00:00:00  3e43e6105506432c953e165fb2acf44c   \n",
       "104344           2017-09-28 00:00:00  3e43e6105506432c953e165fb2acf44c   \n",
       "104345           2017-09-28 00:00:00  3e43e6105506432c953e165fb2acf44c   \n",
       "104346           2017-09-28 00:00:00  3e43e6105506432c953e165fb2acf44c   \n",
       "104584           2018-03-14 00:00:00  3e43e6105506432c953e165fb2acf44c   \n",
       "108835           2018-03-06 00:00:00  3e43e6105506432c953e165fb2acf44c   \n",
       "112453           2018-03-19 00:00:00  3e43e6105506432c953e165fb2acf44c   \n",
       "\n",
       "        customer_zip_code_prefix customer_city customer_state  \n",
       "7561                       11700  praia grande             SP  \n",
       "7577                        4045     sao paulo             SP  \n",
       "15443                       4045     sao paulo             SP  \n",
       "23961                       4045     sao paulo             SP  \n",
       "35059                       4045     sao paulo             SP  \n",
       "35995                       4045     sao paulo             SP  \n",
       "47446                       4045     sao paulo             SP  \n",
       "49516                      11701  praia grande             SP  \n",
       "49517                      11701  praia grande             SP  \n",
       "57284                      11700  praia grande             SP  \n",
       "57285                      11700  praia grande             SP  \n",
       "57814                       4045     sao paulo             SP  \n",
       "60484                       4045     sao paulo             SP  \n",
       "70854                       4045     sao paulo             SP  \n",
       "81072                       4045     sao paulo             SP  \n",
       "84306                       4045     sao paulo             SP  \n",
       "85458                       4045     sao paulo             SP  \n",
       "89354                      11704  praia grande             SP  \n",
       "90399                       4045     sao paulo             SP  \n",
       "93245                       4045     sao paulo             SP  \n",
       "99777                      11700  praia grande             SP  \n",
       "100108                      4045     sao paulo             SP  \n",
       "104343                     11701  praia grande             SP  \n",
       "104344                     11701  praia grande             SP  \n",
       "104345                     11701  praia grande             SP  \n",
       "104346                     11701  praia grande             SP  \n",
       "104584                     11701  praia grande             SP  \n",
       "108835                     11701  praia grande             SP  \n",
       "112453                     11701  praia grande             SP  "
      ],
      "text/html": "<div>\n<style scoped>\n    .dataframe tbody tr th:only-of-type {\n        vertical-align: middle;\n    }\n\n    .dataframe tbody tr th {\n        vertical-align: top;\n    }\n\n    .dataframe thead th {\n        text-align: right;\n    }\n</style>\n<table border=\"1\" class=\"dataframe\">\n  <thead>\n    <tr style=\"text-align: right;\">\n      <th></th>\n      <th>order_id</th>\n      <th>order_item_id</th>\n      <th>product_id</th>\n      <th>seller_id</th>\n      <th>shipping_limit_date</th>\n      <th>price</th>\n      <th>freight_value</th>\n      <th>customer_id</th>\n      <th>order_status</th>\n      <th>order_purchase_timestamp</th>\n      <th>order_approved_at</th>\n      <th>order_delivered_carrier_date</th>\n      <th>order_delivered_customer_date</th>\n      <th>order_estimated_delivery_date</th>\n      <th>customer_unique_id</th>\n      <th>customer_zip_code_prefix</th>\n      <th>customer_city</th>\n      <th>customer_state</th>\n    </tr>\n  </thead>\n  <tbody>\n    <tr>\n      <th>7561</th>\n      <td>1124c329070977fbd414f046bba149d7</td>\n      <td>1</td>\n      <td>689a9f33ae479ec0d9f68a9b6b0cfcbf</td>\n      <td>95e03ca3d4146e4011985981aeb959b9</td>\n      <td>2017-12-12 22:52:47</td>\n      <td>50.00</td>\n      <td>15.10</td>\n      <td>b70f8552b91ef49129519206966e2472</td>\n      <td>delivered</td>\n      <td>2017-12-01 22:37:41</td>\n      <td>2017-12-01 22:52:47</td>\n      <td>2017-12-04 22:09:20</td>\n      <td>2017-12-19 19:15:14</td>\n      <td>2018-01-02 00:00:00</td>\n      <td>3e43e6105506432c953e165fb2acf44c</td>\n      <td>11700</td>\n      <td>praia grande</td>\n      <td>SP</td>\n    </tr>\n    <tr>\n      <th>7577</th>\n      <td>112eb6f37f1b9dabbced368fbbc6c9ef</td>\n      <td>1</td>\n      <td>41f6cb7c3b1200749326e50106f32d58</td>\n      <td>db4350fd57ae30082dec7acbaacc17f9</td>\n      <td>2018-07-30 09:43:43</td>\n      <td>99.00</td>\n      <td>8.85</td>\n      <td>65f9db9dd07a4e79b625effa4c868fcb</td>\n      <td>delivered</td>\n      <td>2018-07-23 21:53:02</td>\n      <td>2018-07-24 10:31:34</td>\n      <td>2018-07-25 10:25:00</td>\n      <td>2018-07-26 18:29:28</td>\n      <td>2018-08-02 00:00:00</td>\n      <td>8d50f5eadf50201ccdcedfb9e2ac8455</td>\n      <td>4045</td>\n      <td>sao paulo</td>\n      <td>SP</td>\n    </tr>\n    <tr>\n      <th>15443</th>\n      <td>23427a6bd9f8fd1b51f1b1e5cc186ab8</td>\n      <td>1</td>\n      <td>5cb96c51c55f57503465e4d2558dc053</td>\n      <td>db4350fd57ae30082dec7acbaacc17f9</td>\n      <td>2018-05-24 01:53:35</td>\n      <td>45.99</td>\n      <td>7.39</td>\n      <td>a8fabc805e9a10a3c93ae5bff642b86b</td>\n      <td>delivered</td>\n      <td>2018-05-21 22:44:31</td>\n      <td>2018-05-22 01:53:35</td>\n      <td>2018-05-22 14:18:00</td>\n      <td>2018-05-23 15:33:09</td>\n      <td>2018-05-29 00:00:00</td>\n      <td>8d50f5eadf50201ccdcedfb9e2ac8455</td>\n      <td>4045</td>\n      <td>sao paulo</td>\n      <td>SP</td>\n    </tr>\n    <tr>\n      <th>23961</th>\n      <td>369634708db140c5d2c4e365882c443a</td>\n      <td>1</td>\n      <td>d83509907a19c72e1e4cdde78b8177ec</td>\n      <td>94e93ce877be27a515118dbfd2c2be41</td>\n      <td>2017-06-22 23:10:19</td>\n      <td>39.90</td>\n      <td>11.85</td>\n      <td>b2b13de0770e06de50080fea77c459e6</td>\n      <td>delivered</td>\n      <td>2017-06-18 22:56:48</td>\n      <td>2017-06-18 23:10:19</td>\n      <td>2017-06-19 20:12:26</td>\n      <td>2017-06-23 12:55:50</td>\n      <td>2017-07-07 00:00:00</td>\n      <td>8d50f5eadf50201ccdcedfb9e2ac8455</td>\n      <td>4045</td>\n      <td>sao paulo</td>\n      <td>SP</td>\n    </tr>\n    <tr>\n      <th>35059</th>\n      <td>4f62d593acae92cea3c5662c76122478</td>\n      <td>1</td>\n      <td>94cc774056d3f2b0dc693486a589025e</td>\n      <td>1da3aeb70d7989d1e6d9b0e887f97c23</td>\n      <td>2017-07-24 23:23:26</td>\n      <td>13.99</td>\n      <td>7.78</td>\n      <td>dfb941d6f7b02f57a44c3b7c3fefb44b</td>\n      <td>delivered</td>\n      <td>2017-07-18 23:10:58</td>\n      <td>2017-07-18 23:23:26</td>\n      <td>2017-07-20 19:00:02</td>\n      <td>2017-07-21 16:19:40</td>\n      <td>2017-07-31 00:00:00</td>\n      <td>8d50f5eadf50201ccdcedfb9e2ac8455</td>\n      <td>4045</td>\n      <td>sao paulo</td>\n      <td>SP</td>\n    </tr>\n    <tr>\n      <th>35995</th>\n      <td>519203404f6116d406a970763ee75799</td>\n      <td>1</td>\n      <td>5fb61f482620cb672f5e586bb132eae9</td>\n      <td>94e93ce877be27a515118dbfd2c2be41</td>\n      <td>2017-08-10 09:10:13</td>\n      <td>69.90</td>\n      <td>11.99</td>\n      <td>1c62b48fb34ee043310dcb233caabd2e</td>\n      <td>delivered</td>\n      <td>2017-08-05 08:59:43</td>\n      <td>2017-08-05 09:10:13</td>\n      <td>2017-08-07 18:50:00</td>\n      <td>2017-08-09 15:22:28</td>\n      <td>2017-08-25 00:00:00</td>\n      <td>8d50f5eadf50201ccdcedfb9e2ac8455</td>\n      <td>4045</td>\n      <td>sao paulo</td>\n      <td>SP</td>\n    </tr>\n    <tr>\n      <th>47446</th>\n      <td>6bdf325f0966e3056651285c0aed5aad</td>\n      <td>1</td>\n      <td>d6354128c28cc56532ba7393d9373083</td>\n      <td>412a4720f3e9431b4afa1476a1acddbe</td>\n      <td>2018-05-24 23:31:13</td>\n      <td>51.80</td>\n      <td>11.15</td>\n      <td>6289b75219d757a56c0cce8d9e427900</td>\n      <td>delivered</td>\n      <td>2018-05-22 23:08:55</td>\n      <td>2018-05-22 23:36:01</td>\n      <td>2018-05-23 19:02:00</td>\n      <td>2018-05-24 11:58:23</td>\n      <td>2018-05-30 00:00:00</td>\n      <td>8d50f5eadf50201ccdcedfb9e2ac8455</td>\n      <td>4045</td>\n      <td>sao paulo</td>\n      <td>SP</td>\n    </tr>\n    <tr>\n      <th>49516</th>\n      <td>70863e8ef99613bbc8f854807d187ea7</td>\n      <td>1</td>\n      <td>ceeb8b2d571b23399910f1b83980c973</td>\n      <td>1900267e848ceeba8fa32d80c1a5f5a8</td>\n      <td>2018-02-16 10:28:11</td>\n      <td>53.00</td>\n      <td>12.29</td>\n      <td>2bbd32d4ef14893d2d8c1a0df08403cf</td>\n      <td>delivered</td>\n      <td>2018-02-12 10:12:54</td>\n      <td>2018-02-12 10:28:11</td>\n      <td>2018-02-16 01:49:11</td>\n      <td>2018-02-27 22:09:24</td>\n      <td>2018-03-06 00:00:00</td>\n      <td>3e43e6105506432c953e165fb2acf44c</td>\n      <td>11701</td>\n      <td>praia grande</td>\n      <td>SP</td>\n    </tr>\n    <tr>\n      <th>49517</th>\n      <td>70863e8ef99613bbc8f854807d187ea7</td>\n      <td>2</td>\n      <td>d296d7996d75ec35fcfc75b3a06cae63</td>\n      <td>1900267e848ceeba8fa32d80c1a5f5a8</td>\n      <td>2018-02-16 10:28:11</td>\n      <td>53.00</td>\n      <td>12.29</td>\n      <td>2bbd32d4ef14893d2d8c1a0df08403cf</td>\n      <td>delivered</td>\n      <td>2018-02-12 10:12:54</td>\n      <td>2018-02-12 10:28:11</td>\n      <td>2018-02-16 01:49:11</td>\n      <td>2018-02-27 22:09:24</td>\n      <td>2018-03-06 00:00:00</td>\n      <td>3e43e6105506432c953e165fb2acf44c</td>\n      <td>11701</td>\n      <td>praia grande</td>\n      <td>SP</td>\n    </tr>\n    <tr>\n      <th>57284</th>\n      <td>826b47e4cd7bba4e4c6fa5485f898b74</td>\n      <td>1</td>\n      <td>82254d93b897fde054504b15f8fe923c</td>\n      <td>02ecc2a19303f05e59ce133fd923fff7</td>\n      <td>2017-12-06 22:52:53</td>\n      <td>239.90</td>\n      <td>14.36</td>\n      <td>e68e6423401e85c138229b23d4bf4761</td>\n      <td>delivered</td>\n      <td>2017-12-01 22:37:42</td>\n      <td>2017-12-01 22:52:53</td>\n      <td>2017-12-05 20:59:00</td>\n      <td>2017-12-06 19:09:43</td>\n      <td>2017-12-27 00:00:00</td>\n      <td>3e43e6105506432c953e165fb2acf44c</td>\n      <td>11700</td>\n      <td>praia grande</td>\n      <td>SP</td>\n    </tr>\n    <tr>\n      <th>57285</th>\n      <td>826b47e4cd7bba4e4c6fa5485f898b74</td>\n      <td>2</td>\n      <td>446607005fbc439a9439caed96867e26</td>\n      <td>9dda5bbacd45e18d6485fee649205d09</td>\n      <td>2017-12-06 22:52:53</td>\n      <td>97.00</td>\n      <td>12.92</td>\n      <td>e68e6423401e85c138229b23d4bf4761</td>\n      <td>delivered</td>\n      <td>2017-12-01 22:37:42</td>\n      <td>2017-12-01 22:52:53</td>\n      <td>2017-12-05 20:59:00</td>\n      <td>2017-12-06 19:09:43</td>\n      <td>2017-12-27 00:00:00</td>\n      <td>3e43e6105506432c953e165fb2acf44c</td>\n      <td>11700</td>\n      <td>praia grande</td>\n      <td>SP</td>\n    </tr>\n    <tr>\n      <th>57814</th>\n      <td>838f8e96cf584a1d8d22eaf7143c7772</td>\n      <td>1</td>\n      <td>fe7e33eaa09b5a4a3d3aa477280db875</td>\n      <td>1da3aeb70d7989d1e6d9b0e887f97c23</td>\n      <td>2018-07-08 23:31:20</td>\n      <td>22.99</td>\n      <td>7.42</td>\n      <td>f5188d99e9281e214a4a7d1b139a8229</td>\n      <td>delivered</td>\n      <td>2018-07-04 22:35:13</td>\n      <td>2018-07-05 16:27:55</td>\n      <td>2018-07-06 10:15:00</td>\n      <td>2018-07-10 21:27:30</td>\n      <td>2018-07-17 00:00:00</td>\n      <td>8d50f5eadf50201ccdcedfb9e2ac8455</td>\n      <td>4045</td>\n      <td>sao paulo</td>\n      <td>SP</td>\n    </tr>\n    <tr>\n      <th>60484</th>\n      <td>89d9b111d2b990deb5f5f9769f92800b</td>\n      <td>1</td>\n      <td>94cc774056d3f2b0dc693486a589025e</td>\n      <td>1da3aeb70d7989d1e6d9b0e887f97c23</td>\n      <td>2017-11-03 17:10:09</td>\n      <td>13.99</td>\n      <td>7.78</td>\n      <td>9a1afef458843a022e431f4cb304dfe9</td>\n      <td>delivered</td>\n      <td>2017-10-29 16:58:02</td>\n      <td>2017-10-29 17:10:09</td>\n      <td>2017-10-30 15:58:52</td>\n      <td>2017-10-31 15:33:47</td>\n      <td>2017-11-10 00:00:00</td>\n      <td>8d50f5eadf50201ccdcedfb9e2ac8455</td>\n      <td>4045</td>\n      <td>sao paulo</td>\n      <td>SP</td>\n    </tr>\n    <tr>\n      <th>70854</th>\n      <td>a1a6eadae352582010f449d8527b55f3</td>\n      <td>1</td>\n      <td>426f910ccd39ae5e7d55013c466fe343</td>\n      <td>0691148aee60ca47977c187804f935ae</td>\n      <td>2018-08-23 12:50:37</td>\n      <td>72.90</td>\n      <td>23.50</td>\n      <td>3414a9c813e3ca02504b8be8b2deb27f</td>\n      <td>delivered</td>\n      <td>2018-08-18 12:39:19</td>\n      <td>2018-08-18 12:50:37</td>\n      <td>2018-08-20 14:43:00</td>\n      <td>2018-08-24 17:26:42</td>\n      <td>2018-09-03 00:00:00</td>\n      <td>8d50f5eadf50201ccdcedfb9e2ac8455</td>\n      <td>4045</td>\n      <td>sao paulo</td>\n      <td>SP</td>\n    </tr>\n    <tr>\n      <th>81072</th>\n      <td>b850a16d8faf65a74c51287ef34379ce</td>\n      <td>1</td>\n      <td>5bccc8fe44471df6c7b7e08176837d2f</td>\n      <td>1da3aeb70d7989d1e6d9b0e887f97c23</td>\n      <td>2017-11-28 20:12:32</td>\n      <td>13.99</td>\n      <td>7.78</td>\n      <td>1bd3585471932167ab72a84955ebefea</td>\n      <td>delivered</td>\n      <td>2017-11-22 20:01:53</td>\n      <td>2017-11-22 20:12:32</td>\n      <td>2017-11-24 16:07:56</td>\n      <td>2017-11-27 18:49:13</td>\n      <td>2017-12-04 00:00:00</td>\n      <td>8d50f5eadf50201ccdcedfb9e2ac8455</td>\n      <td>4045</td>\n      <td>sao paulo</td>\n      <td>SP</td>\n    </tr>\n    <tr>\n      <th>84306</th>\n      <td>bf92c69b7cc70f7fc2c37de43e366173</td>\n      <td>1</td>\n      <td>e01bc2ad5c6f46c0f53f73379fcd602e</td>\n      <td>a3a38f4affed601eb87a97788c949667</td>\n      <td>2017-07-30 22:25:14</td>\n      <td>149.90</td>\n      <td>16.81</td>\n      <td>42dbc1ad9d560637c9c4c1533746f86d</td>\n      <td>delivered</td>\n      <td>2017-07-24 22:11:50</td>\n      <td>2017-07-24 22:25:14</td>\n      <td>2017-07-26 01:42:03</td>\n      <td>2017-07-31 16:59:58</td>\n      <td>2017-08-15 00:00:00</td>\n      <td>8d50f5eadf50201ccdcedfb9e2ac8455</td>\n      <td>4045</td>\n      <td>sao paulo</td>\n      <td>SP</td>\n    </tr>\n    <tr>\n      <th>85458</th>\n      <td>c2213109a2cc0e75d55585b7aaac6d97</td>\n      <td>1</td>\n      <td>de7df82eb1e48c456b020c2cfb03aeed</td>\n      <td>1da3aeb70d7989d1e6d9b0e887f97c23</td>\n      <td>2018-08-12 23:45:21</td>\n      <td>26.99</td>\n      <td>7.45</td>\n      <td>897b7f72042714efaa64ac306ba0cafc</td>\n      <td>delivered</td>\n      <td>2018-08-07 23:32:14</td>\n      <td>2018-08-07 23:45:21</td>\n      <td>2018-08-09 13:35:00</td>\n      <td>2018-08-10 20:26:44</td>\n      <td>2018-08-13 00:00:00</td>\n      <td>8d50f5eadf50201ccdcedfb9e2ac8455</td>\n      <td>4045</td>\n      <td>sao paulo</td>\n      <td>SP</td>\n    </tr>\n    <tr>\n      <th>89354</th>\n      <td>caf10b4f81696bae84a2448c0767b3b0</td>\n      <td>1</td>\n      <td>f582884ed8bb76a4b6317b8c9e966d98</td>\n      <td>994f04b3718c2bab35c2adfa8afecd2a</td>\n      <td>2018-01-17 11:09:12</td>\n      <td>119.00</td>\n      <td>13.95</td>\n      <td>b63c9cfc5dcb06ed307ca95957fa216c</td>\n      <td>delivered</td>\n      <td>2018-01-11 10:56:15</td>\n      <td>2018-01-11 11:09:12</td>\n      <td>2018-01-13 01:13:05</td>\n      <td>2018-01-16 19:07:03</td>\n      <td>2018-01-26 00:00:00</td>\n      <td>3e43e6105506432c953e165fb2acf44c</td>\n      <td>11704</td>\n      <td>praia grande</td>\n      <td>SP</td>\n    </tr>\n    <tr>\n      <th>90399</th>\n      <td>cd4b336a02aacabd0ef22f6db711f95e</td>\n      <td>1</td>\n      <td>9169f70b7ce1138ac35678432d1e5ff2</td>\n      <td>1da3aeb70d7989d1e6d9b0e887f97c23</td>\n      <td>2017-10-25 00:36:08</td>\n      <td>29.99</td>\n      <td>7.78</td>\n      <td>89be66634d68fa73a95499b6352e085d</td>\n      <td>delivered</td>\n      <td>2017-10-18 23:25:04</td>\n      <td>2017-10-19 00:36:08</td>\n      <td>2017-10-20 17:11:50</td>\n      <td>2017-10-23 18:33:01</td>\n      <td>2017-10-30 00:00:00</td>\n      <td>8d50f5eadf50201ccdcedfb9e2ac8455</td>\n      <td>4045</td>\n      <td>sao paulo</td>\n      <td>SP</td>\n    </tr>\n    <tr>\n      <th>93245</th>\n      <td>d3582fd5ccccd9cb229a63dfb417c86f</td>\n      <td>1</td>\n      <td>df473738565b52f77b4e22b328b41576</td>\n      <td>01266d4c46afa519678d16a8b683d325</td>\n      <td>2018-08-22 19:30:05</td>\n      <td>23.40</td>\n      <td>15.26</td>\n      <td>a682769c4bc10fc6ef2101337a6c83c9</td>\n      <td>delivered</td>\n      <td>2018-08-20 19:14:26</td>\n      <td>2018-08-20 19:30:05</td>\n      <td>2018-08-21 15:11:00</td>\n      <td>2018-08-24 14:08:43</td>\n      <td>2018-09-04 00:00:00</td>\n      <td>8d50f5eadf50201ccdcedfb9e2ac8455</td>\n      <td>4045</td>\n      <td>sao paulo</td>\n      <td>SP</td>\n    </tr>\n    <tr>\n      <th>99777</th>\n      <td>e23ad32d5c15d9ad308baddc6262afea</td>\n      <td>1</td>\n      <td>957f6d6b55b78746f89e976cba785440</td>\n      <td>f1ed6bd0a9b11b581f16c851c6a5a527</td>\n      <td>2017-12-13 15:50:49</td>\n      <td>97.47</td>\n      <td>17.93</td>\n      <td>a4413edae691fd0d28bd04b8a38b259d</td>\n      <td>delivered</td>\n      <td>2017-12-01 09:30:36</td>\n      <td>2017-12-02 15:50:49</td>\n      <td>2017-12-13 19:41:21</td>\n      <td>2017-12-27 17:22:30</td>\n      <td>2018-01-09 00:00:00</td>\n      <td>3e43e6105506432c953e165fb2acf44c</td>\n      <td>11700</td>\n      <td>praia grande</td>\n      <td>SP</td>\n    </tr>\n    <tr>\n      <th>100108</th>\n      <td>e3071b7624445af6e4f3a1b23718667d</td>\n      <td>1</td>\n      <td>88159bac10e3d4f4b69b157406c7f70f</td>\n      <td>fdaaf5bfda82b7b80535610c831b8d09</td>\n      <td>2017-09-12 22:30:56</td>\n      <td>39.90</td>\n      <td>11.85</td>\n      <td>0bf8bf19944a7f8b40ba86fef778ca7c</td>\n      <td>delivered</td>\n      <td>2017-09-05 22:14:52</td>\n      <td>2017-09-05 22:30:56</td>\n      <td>2017-09-06 15:26:12</td>\n      <td>2017-09-11 13:27:49</td>\n      <td>2017-09-22 00:00:00</td>\n      <td>8d50f5eadf50201ccdcedfb9e2ac8455</td>\n      <td>4045</td>\n      <td>sao paulo</td>\n      <td>SP</td>\n    </tr>\n    <tr>\n      <th>104343</th>\n      <td>ed0b6f8c8617370e53735a5d963bb5b6</td>\n      <td>1</td>\n      <td>1269d60fc5efbcf03e7eea49213091c6</td>\n      <td>4200ddf1967c5e41e48db62bc6d4b5ac</td>\n      <td>2017-09-22 19:05:23</td>\n      <td>16.90</td>\n      <td>5.18</td>\n      <td>06ec7aed3161859018db02f695b6600d</td>\n      <td>delivered</td>\n      <td>2017-09-18 18:53:15</td>\n      <td>2017-09-18 19:05:23</td>\n      <td>2017-09-20 17:22:30</td>\n      <td>2017-09-22 20:56:45</td>\n      <td>2017-09-28 00:00:00</td>\n      <td>3e43e6105506432c953e165fb2acf44c</td>\n      <td>11701</td>\n      <td>praia grande</td>\n      <td>SP</td>\n    </tr>\n    <tr>\n      <th>104344</th>\n      <td>ed0b6f8c8617370e53735a5d963bb5b6</td>\n      <td>2</td>\n      <td>55363f487ca324087a49ddfcfb91b971</td>\n      <td>4200ddf1967c5e41e48db62bc6d4b5ac</td>\n      <td>2017-09-22 19:05:23</td>\n      <td>16.90</td>\n      <td>5.19</td>\n      <td>06ec7aed3161859018db02f695b6600d</td>\n      <td>delivered</td>\n      <td>2017-09-18 18:53:15</td>\n      <td>2017-09-18 19:05:23</td>\n      <td>2017-09-20 17:22:30</td>\n      <td>2017-09-22 20:56:45</td>\n      <td>2017-09-28 00:00:00</td>\n      <td>3e43e6105506432c953e165fb2acf44c</td>\n      <td>11701</td>\n      <td>praia grande</td>\n      <td>SP</td>\n    </tr>\n    <tr>\n      <th>104345</th>\n      <td>ed0b6f8c8617370e53735a5d963bb5b6</td>\n      <td>3</td>\n      <td>7b49e585ac8c80b14c9b2815d4db465f</td>\n      <td>4200ddf1967c5e41e48db62bc6d4b5ac</td>\n      <td>2017-09-22 19:05:23</td>\n      <td>16.90</td>\n      <td>10.38</td>\n      <td>06ec7aed3161859018db02f695b6600d</td>\n      <td>delivered</td>\n      <td>2017-09-18 18:53:15</td>\n      <td>2017-09-18 19:05:23</td>\n      <td>2017-09-20 17:22:30</td>\n      <td>2017-09-22 20:56:45</td>\n      <td>2017-09-28 00:00:00</td>\n      <td>3e43e6105506432c953e165fb2acf44c</td>\n      <td>11701</td>\n      <td>praia grande</td>\n      <td>SP</td>\n    </tr>\n    <tr>\n      <th>104346</th>\n      <td>ed0b6f8c8617370e53735a5d963bb5b6</td>\n      <td>4</td>\n      <td>7b49e585ac8c80b14c9b2815d4db465f</td>\n      <td>4200ddf1967c5e41e48db62bc6d4b5ac</td>\n      <td>2017-09-22 19:05:23</td>\n      <td>16.90</td>\n      <td>10.38</td>\n      <td>06ec7aed3161859018db02f695b6600d</td>\n      <td>delivered</td>\n      <td>2017-09-18 18:53:15</td>\n      <td>2017-09-18 19:05:23</td>\n      <td>2017-09-20 17:22:30</td>\n      <td>2017-09-22 20:56:45</td>\n      <td>2017-09-28 00:00:00</td>\n      <td>3e43e6105506432c953e165fb2acf44c</td>\n      <td>11701</td>\n      <td>praia grande</td>\n      <td>SP</td>\n    </tr>\n    <tr>\n      <th>104584</th>\n      <td>ed92e8596b1e39671065510a4f5b0920</td>\n      <td>1</td>\n      <td>7fd6586464df3ea9bad637e34580c186</td>\n      <td>52f0fe436a347ddad7ed5f9aa4e27eaa</td>\n      <td>2018-02-26 11:50:38</td>\n      <td>59.99</td>\n      <td>16.18</td>\n      <td>f37a14140ac3a8efbb4d2eab6585edb7</td>\n      <td>delivered</td>\n      <td>2018-02-20 10:45:22</td>\n      <td>2018-02-20 11:50:38</td>\n      <td>2018-03-07 19:58:53</td>\n      <td>2018-03-15 21:21:45</td>\n      <td>2018-03-14 00:00:00</td>\n      <td>3e43e6105506432c953e165fb2acf44c</td>\n      <td>11701</td>\n      <td>praia grande</td>\n      <td>SP</td>\n    </tr>\n    <tr>\n      <th>108835</th>\n      <td>f75455b78762d30c7e663172f18dbcbe</td>\n      <td>1</td>\n      <td>d801caede80d4819d4976e8bfdbc2861</td>\n      <td>1835b56ce799e6a4dc4eddc053f04066</td>\n      <td>2018-02-16 10:28:08</td>\n      <td>53.99</td>\n      <td>11.88</td>\n      <td>6b92dda6e324283dbe4969c443e3bf1a</td>\n      <td>delivered</td>\n      <td>2018-02-12 10:12:55</td>\n      <td>2018-02-12 10:28:08</td>\n      <td>2018-02-14 22:09:36</td>\n      <td>2018-02-27 23:07:45</td>\n      <td>2018-03-06 00:00:00</td>\n      <td>3e43e6105506432c953e165fb2acf44c</td>\n      <td>11701</td>\n      <td>praia grande</td>\n      <td>SP</td>\n    </tr>\n    <tr>\n      <th>112453</th>\n      <td>ff89ef7b3952bba5ac06d61c4a79ffbe</td>\n      <td>1</td>\n      <td>ce6f74096c84567f22728c84f3d6e7fc</td>\n      <td>8160255418d5aaa7dbdc9f4c64ebda44</td>\n      <td>2018-03-05 18:50:29</td>\n      <td>109.90</td>\n      <td>13.79</td>\n      <td>1815fdaaae692479110428598596b5e5</td>\n      <td>delivered</td>\n      <td>2018-02-27 18:36:39</td>\n      <td>2018-02-27 18:50:29</td>\n      <td>2018-03-01 01:11:25</td>\n      <td>2018-03-13 23:44:26</td>\n      <td>2018-03-19 00:00:00</td>\n      <td>3e43e6105506432c953e165fb2acf44c</td>\n      <td>11701</td>\n      <td>praia grande</td>\n      <td>SP</td>\n    </tr>\n  </tbody>\n</table>\n</div>"
     },
     "metadata": {},
     "execution_count": 361
    }
   ],
   "source": [
    "\n"
   ]
  },
  {
   "cell_type": "code",
   "execution_count": 7,
   "metadata": {},
   "outputs": [],
   "source": [
    "#olist_order_payments_dataset && olist_orders_dataset && olist_customers_dataset\n",
    "df_op_o_c = df_op.merge(df_o.merge(df_c, on='customer_id', how='inner'), on='order_id', how='inner')"
   ]
  },
  {
   "cell_type": "code",
   "execution_count": 9,
   "metadata": {},
   "outputs": [
    {
     "output_type": "stream",
     "name": "stderr",
     "text": [
      "  0%|          | 4/96096 [00:00<41:48, 38.31it/s]query est. time: 22 min\n",
      "100%|██████████| 96096/96096 [23:44<00:00, 67.47it/s]\n"
     ]
    }
   ],
   "source": [
    "#22 minute query\n",
    "# tqdm.write('query est. time: 22 min')\n",
    "\n",
    "\n",
    "# q = pd.DataFrame(df_c['customer_unique_id'].unique())\n",
    "# q.columns = ['customer_unique_id']\n",
    "\n",
    "# q['num_transactions_delivered'] = 0\n",
    "# q['total_spent_delivered'] = 0\n",
    "# q['lifetime_days'] = 0\n",
    "# for i in tqdm(range(q.shape[0])):\n",
    "#     #Identifing a single customer\n",
    "#     id  = q['customer_unique_id'][i]\n",
    "#     customer_transactions_delivered_df = df_op_o_c.loc[(df_op_o_c['customer_unique_id'] == id) & (df_op_o_c['order_status'] == 'delivered')]\n",
    "\n",
    "#     #Only considering order status's that have been delivered, this finds the total amount spent and number of transactions that have occurred.\n",
    "#     q.at[i,'total_spent_delivered'] = round(customer_transactions_delivered_df['payment_value'].sum(), 2)\n",
    "#     q.at[i,'num_transactions_delivered'] = customer_transactions_delivered_df.shape[0]\n",
    "\n",
    "#     #Calculating the lifetime of a customer in days\n",
    "#     transaction_times = pd.to_datetime(customer_transactions_delivered_df['order_purchase_timestamp'], format='%Y-%m-%d %H:%M:%S')\n",
    "#     lifetime_days = 0\n",
    "#     if transaction_times.shape[0] < 1:\n",
    "#         pass\n",
    "#     elif min(transaction_times) == max(transaction_times):\n",
    "#         lifetime_days = 1\n",
    "#     else:\n",
    "#         lifetime_days = (max(transaction_times)-min(transaction_times)).days\n",
    "\n",
    "#     q.at[i,'lifetime_days'] = lifetime_days\n"
   ]
  },
  {
   "cell_type": "code",
   "execution_count": 222,
   "metadata": {},
   "outputs": [
    {
     "output_type": "execute_result",
     "data": {
      "text/plain": [
       "                     customer_unique_id  num_transactions_delivered  \\\n",
       "11008  32ea3bdedab835c3aa6cb68ce66565ef                           4   \n",
       "2037   ccafc1c3f270410521c3c6f3b249870f                           2   \n",
       "72136  d8f3c4f441a9b59a29f977df16724f38                           2   \n",
       "61254  94e5ea5a8c1bf546db2739673060c43f                           2   \n",
       "56309  87b3f231705783eb2217e25851c0a45d                           2   \n",
       "...                                 ...                         ...   \n",
       "42724  8c21dd8c37144807c601f99f2a209dfb                           3   \n",
       "7646   9c540c186d344c460d85726b531b287b                           2   \n",
       "47000  f3d7cb12e7dc54a424d935aae4426461                           2   \n",
       "836    b7b162291adff744d6f3c6450557ffee                           3   \n",
       "66029  d05fdf65460ea1bf8735cd5843c3d97d                           2   \n",
       "\n",
       "       total_spent_delivered  lifetime_days  \n",
       "11008                    137            633  \n",
       "2037                     207            608  \n",
       "72136                    158            582  \n",
       "61254                    187            580  \n",
       "56309                    523            572  \n",
       "...                      ...            ...  \n",
       "42724                    848            375  \n",
       "7646                     187            373  \n",
       "47000                    201            373  \n",
       "836                      519            368  \n",
       "66029                    326            368  \n",
       "\n",
       "[100 rows x 4 columns]"
      ],
      "text/html": "<div>\n<style scoped>\n    .dataframe tbody tr th:only-of-type {\n        vertical-align: middle;\n    }\n\n    .dataframe tbody tr th {\n        vertical-align: top;\n    }\n\n    .dataframe thead th {\n        text-align: right;\n    }\n</style>\n<table border=\"1\" class=\"dataframe\">\n  <thead>\n    <tr style=\"text-align: right;\">\n      <th></th>\n      <th>customer_unique_id</th>\n      <th>num_transactions_delivered</th>\n      <th>total_spent_delivered</th>\n      <th>lifetime_days</th>\n    </tr>\n  </thead>\n  <tbody>\n    <tr>\n      <th>11008</th>\n      <td>32ea3bdedab835c3aa6cb68ce66565ef</td>\n      <td>4</td>\n      <td>137</td>\n      <td>633</td>\n    </tr>\n    <tr>\n      <th>2037</th>\n      <td>ccafc1c3f270410521c3c6f3b249870f</td>\n      <td>2</td>\n      <td>207</td>\n      <td>608</td>\n    </tr>\n    <tr>\n      <th>72136</th>\n      <td>d8f3c4f441a9b59a29f977df16724f38</td>\n      <td>2</td>\n      <td>158</td>\n      <td>582</td>\n    </tr>\n    <tr>\n      <th>61254</th>\n      <td>94e5ea5a8c1bf546db2739673060c43f</td>\n      <td>2</td>\n      <td>187</td>\n      <td>580</td>\n    </tr>\n    <tr>\n      <th>56309</th>\n      <td>87b3f231705783eb2217e25851c0a45d</td>\n      <td>2</td>\n      <td>523</td>\n      <td>572</td>\n    </tr>\n    <tr>\n      <th>...</th>\n      <td>...</td>\n      <td>...</td>\n      <td>...</td>\n      <td>...</td>\n    </tr>\n    <tr>\n      <th>42724</th>\n      <td>8c21dd8c37144807c601f99f2a209dfb</td>\n      <td>3</td>\n      <td>848</td>\n      <td>375</td>\n    </tr>\n    <tr>\n      <th>7646</th>\n      <td>9c540c186d344c460d85726b531b287b</td>\n      <td>2</td>\n      <td>187</td>\n      <td>373</td>\n    </tr>\n    <tr>\n      <th>47000</th>\n      <td>f3d7cb12e7dc54a424d935aae4426461</td>\n      <td>2</td>\n      <td>201</td>\n      <td>373</td>\n    </tr>\n    <tr>\n      <th>836</th>\n      <td>b7b162291adff744d6f3c6450557ffee</td>\n      <td>3</td>\n      <td>519</td>\n      <td>368</td>\n    </tr>\n    <tr>\n      <th>66029</th>\n      <td>d05fdf65460ea1bf8735cd5843c3d97d</td>\n      <td>2</td>\n      <td>326</td>\n      <td>368</td>\n    </tr>\n  </tbody>\n</table>\n<p>100 rows × 4 columns</p>\n</div>"
     },
     "metadata": {},
     "execution_count": 222
    }
   ],
   "source": [
    "q.sort_values(by=['lifetime_days'], ascending=False).head(100)"
   ]
  },
  {
   "cell_type": "code",
   "execution_count": 26,
   "metadata": {},
   "outputs": [
    {
     "output_type": "execute_result",
     "data": {
      "text/plain": [
       "0    1\n",
       "dtype: int64"
      ]
     },
     "metadata": {},
     "execution_count": 26
    }
   ],
   "source": [
    "q['lifetime_days'].mode()"
   ]
  },
  {
   "cell_type": "code",
   "execution_count": 25,
   "metadata": {},
   "outputs": [
    {
     "output_type": "execute_result",
     "data": {
      "text/plain": [
       "1.0"
      ]
     },
     "metadata": {},
     "execution_count": 25
    }
   ],
   "source": [
    "q['lifetime_days'].median()"
   ]
  },
  {
   "cell_type": "code",
   "execution_count": 11,
   "metadata": {},
   "outputs": [
    {
     "output_type": "execute_result",
     "data": {
      "text/plain": [
       "3.503787878787879"
      ]
     },
     "metadata": {},
     "execution_count": 11
    }
   ],
   "source": [
    "q['lifetime_days'].mean()"
   ]
  },
  {
   "cell_type": "code",
   "execution_count": 12,
   "metadata": {},
   "outputs": [
    {
     "output_type": "execute_result",
     "data": {
      "text/plain": [
       "160.02584915084915"
      ]
     },
     "metadata": {},
     "execution_count": 12
    }
   ],
   "source": [
    "q['total_spent_delivered'].mean()"
   ]
  },
  {
   "cell_type": "code",
   "execution_count": 13,
   "metadata": {},
   "outputs": [
    {
     "output_type": "execute_result",
     "data": {
      "text/plain": [
       "15377844"
      ]
     },
     "metadata": {},
     "execution_count": 13
    }
   ],
   "source": [
    "q['total_spent_delivered'].sum()"
   ]
  },
  {
   "cell_type": "code",
   "execution_count": 14,
   "metadata": {},
   "outputs": [
    {
     "output_type": "execute_result",
     "data": {
      "text/plain": [
       "100756"
      ]
     },
     "metadata": {},
     "execution_count": 14
    }
   ],
   "source": [
    "q['num_transactions_delivered'].sum()"
   ]
  },
  {
   "cell_type": "code",
   "execution_count": 24,
   "metadata": {},
   "outputs": [
    {
     "output_type": "stream",
     "name": "stdout",
     "text": [
      "2018-09-01 00:00:00 -  2017-01-01 00:00:00\n608\n"
     ]
    }
   ],
   "source": [
    "# total time elapsed\n",
    "\n",
    "end = datetime.datetime.strptime('2018-09-01 00:00:00', '%Y-%m-%d %H:%M:%S')\n",
    "start = datetime.datetime.strptime('2017-01-01 00:00:00', '%Y-%m-%d %H:%M:%S')\n",
    "time_elapsed = (end - start).days\n",
    "\n",
    "print(end, '- ', start)\n",
    "print(time_elapsed)"
   ]
  },
  {
   "cell_type": "code",
   "execution_count": 17,
   "metadata": {},
   "outputs": [
    {
     "output_type": "stream",
     "name": "stdout",
     "text": [
      "Average Purchase Value (over 772 days) = 152.62\nAverage Purchase Frequency (over 772 days) = 1.05\nAverage Customer Lifespan (over 772 days) = 0.00959\nCustomer Lifetime Value (over 772 days) = 1.45\n"
     ]
    }
   ],
   "source": [
    "#KPI's\n",
    "\n",
    "# average purchase value\n",
    "#       = total revenue / number of orders\n",
    "# (to be seperated by month)\n",
    "\n",
    "total_revenue = q['total_spent_delivered'].sum()\n",
    "number_of_purchases = q['num_transactions_delivered'].sum()\n",
    "\n",
    "average_purchase_value = total_revenue / number_of_purchases\n",
    "print(\"Average Purchase Value (over {} days) = {}\".format(time_elapsed, round(average_purchase_value, 2)))\n",
    "\n",
    "# average purchase frequency\n",
    "#       = number of purchases / total unique customers\n",
    "\n",
    "total_unique_customers = q.shape[0]\n",
    "average_purchase_frequency = number_of_purchases / total_unique_customers\n",
    "print(\"Average Purchase Frequency (over {} days) = {}\".format(time_elapsed, round(average_purchase_frequency,2)))\n",
    "\n",
    "# average customer lifespan\n",
    "#       = sum of customer lifespans / number of customers\n",
    "\n",
    "average_customer_lifespan = q['lifetime_days'].mean()/365.25\n",
    "print(\"Average Customer Lifespan (over {} days) = {}\".format(time_elapsed, round(average_customer_lifespan,5)))\n",
    "\n",
    "# customer lifetime value\n",
    "#       = (average purchase value – average purchase frequency) * average customer lifespan\n",
    "\n",
    "customer_lifetime_value = (average_purchase_value - average_purchase_frequency) * average_customer_lifespan\n",
    "print(\"Customer Lifetime Value (over {} days) = {}\".format(time_elapsed, round(customer_lifetime_value,2)))\n",
    "\n",
    "\n"
   ]
  },
  {
   "cell_type": "code",
   "execution_count": 92,
   "metadata": {},
   "outputs": [
    {
     "output_type": "execute_result",
     "data": {
      "text/plain": [
       "772"
      ]
     },
     "metadata": {},
     "execution_count": 92
    }
   ],
   "source": [
    "# min(df_op_o_c['order_purchase_timestamp']) + max(df_op_o_c['order_purchase_timestamp'])\n",
    "time_elapsed = (datetime.datetime.strptime(max(df_op_o_c['order_purchase_timestamp']), '%Y-%m-%d %H:%M:%S') - datetime.datetime.strptime(min(df_op_o_c['order_purchase_timestamp']), '%Y-%m-%d %H:%M:%S')).days\n"
   ]
  },
  {
   "cell_type": "code",
   "execution_count": 14,
   "metadata": {},
   "outputs": [],
   "source": [
    "#apv    = average purchase value; \n",
    "#       = total revenue / number of orders\n",
    "\n",
    "#apfr   = average purchase frequency rate\n",
    "#       = number of purchases / number of customers\n",
    "\n",
    "#cv     = customer value\n",
    "#       = average purchase value / average purchase frequncy\n",
    "\n",
    "#acl    = average customer lifespan\n",
    "#       = sum of customer lifespans / number of customers\n",
    "\n",
    "#cltv   = customer lifetime value\n",
    "#       = customer value * average customer lifespan\n"
   ]
  },
  {
   "cell_type": "code",
   "execution_count": null,
   "metadata": {},
   "outputs": [],
   "source": [
    "#Average Purchase Value:\n"
   ]
  }
 ]
}