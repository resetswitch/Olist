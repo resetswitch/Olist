{
 "metadata": {
  "language_info": {
   "codemirror_mode": {
    "name": "ipython",
    "version": 3
   },
   "file_extension": ".py",
   "mimetype": "text/x-python",
   "name": "python",
   "nbconvert_exporter": "python",
   "pygments_lexer": "ipython3",
   "version": "3.8.5"
  },
  "orig_nbformat": 2,
  "kernelspec": {
   "name": "python385jvsc74a57bd0916dbcbb3f70747c44a77c7bcd40155683ae19c65e1c03b4aa3499c5328201f1",
   "display_name": "Python 3.8.5 64-bit"
  },
  "metadata": {
   "interpreter": {
    "hash": "916dbcbb3f70747c44a77c7bcd40155683ae19c65e1c03b4aa3499c5328201f1"
   }
  }
 },
 "nbformat": 4,
 "nbformat_minor": 2,
 "cells": [
  {
   "source": [
    "# Olist Data Analyst Challenge\n",
    "\n",
    "### Background:\n",
    "\n",
    "###### \n",
    "This challenge ensure's the following:\n",
    "- A working knowledge of data analysis tools and methodologies\n",
    "- Experience analyzing large data sets\n",
    "- Preparation and presentation of data\n",
    "\n",
    "### Prompt:\n",
    "###### \n",
    "We are using 2 data sets (linked below) from Brazillian retailer Olist.\n",
    "Here are some facts:\n",
    " - It’s currently September 1st 2018 (Ignoring September 2018 and after)\n",
    " - The company’s inception was January 1st 2017 (Ignore all data before January 2017)\n",
    " - Company is US-based, but launched in Brazil (which is why some information is in Portuguese, inlcuding currency)\n",
    " - Summarizes the seller funnel from marketing sign up to launching products on the platform\n",
    " - Please provide Customer LTV [Helpful Site with Examples of Equations (geckoboard.com)](https://www.geckoboard.com/best-practice/kpi-examples/)\n",
    " - Summarizes the current state of the business\n",
    " - What has performance been monthly\n",
    " - What are the best selling categories\n",
    " - Predicts future revenue for the next 12 months for order volume and revenue\n",
    "\n",
    "### Data Sources:\n",
    "###### \n",
    "- [Marketing Funnel Data Set](https://www.kaggle.com/olistbr/marketing-funnel-olist?select=olist_marketing_qualified_leads_dataset.csv)\n",
    "- [E-Commerce Data Set](https://www.kaggle.com/olistbr/brazilian-ecommerce/home?select=product_category_name_translation.csv)\n",
    "- [Instructions to Link Data Sets](https://www.kaggle.com/andresionek/joining-marketing-funnel-with-brazilian-e-commerce)\n"
   ],
   "cell_type": "markdown",
   "metadata": {}
  },
  {
   "cell_type": "code",
   "execution_count": 3,
   "metadata": {},
   "outputs": [],
   "source": [
    "import time\n",
    "import pandas as pd\n",
    "import datetime\n",
    "import numpy as np\n",
    "from tqdm import tqdm"
   ]
  },
  {
   "cell_type": "code",
   "execution_count": 5,
   "metadata": {},
   "outputs": [],
   "source": [
    "df_cd = pd.read_csv('Olist-Dataset/olist_closed_deals_dataset.csv')\n",
    "df_mql = pd.read_csv('Olist-Dataset/olist_marketing_qualified_leads_dataset.csv')\n",
    "df_c = pd.read_csv('Olist-Dataset/olist_customers_dataset.csv')\n",
    "df_g = pd.read_csv('Olist-Dataset/olist_geolocation_dataset.csv')\n",
    "df_m = pd.read_csv('Olist-Dataset/olist_marketing_qualified_leads_dataset.csv')\n",
    "df_oi = pd.read_csv('Olist-Dataset/olist_order_items_dataset.csv')\n",
    "df_op = pd.read_csv('Olist-Dataset/olist_order_payments_dataset.csv')\n",
    "df_o = pd.read_csv('Olist-Dataset/olist_orders_dataset.csv')\n",
    "df_or = pd.read_csv('Olist-Dataset/olist_order_reviews_dataset.csv')\n",
    "df_p = pd.read_csv('Olist-Dataset/olist_products_dataset.csv')\n",
    "df_s = pd.read_csv('Olist-Dataset/olist_sellers_dataset.csv')\n",
    "df_t = pd.read_csv('Olist-Dataset/product_category_name_translation.csv')"
   ]
  },
  {
   "cell_type": "code",
   "execution_count": 3,
   "metadata": {},
   "outputs": [],
   "source": [
    "# Convert spanish and enlish terms columns into lists for product\n",
    "\n",
    "product_spanish = df_t['product_category_name'].to_list()\n",
    "product_english = df_t['product_category_name_english'].to_list()\n",
    "# Replace all spanish terms with english terms\n",
    "df_pt = df_p.replace(product_spanish,product_english)\n",
    "# Convert DataFrame into .csv\n",
    "df_pt.to_csv('Olist-Dataset/olist_products_dataset_english.csv')\n"
   ]
  },
  {
   "cell_type": "code",
   "execution_count": 9,
   "metadata": {},
   "outputs": [
    {
     "output_type": "display_data",
     "data": {
      "text/plain": "                                order_id  order_item_id  \\\n23530   35a972d7f8436f405b56e36add1a7140              1   \n1722    03ef5dedbe7492bdae72eec50764c43f              1   \n4924    0b223d92c27432930dfe407c6aea3041              1   \n4925    0b223d92c27432930dfe407c6aea3041              2   \n9829    168626408cb32af0ffaf76711caae1dc              1   \n...                                  ...            ...   \n101735  e6db6e9529fecbe14cd05dd349816656              1   \n9408    157ec3dc3f38cdbd2706bd216edfe8fb              1   \n106868  f2dd5f15184c73c0d45c02941c7c23d1              1   \n99649   e1fe072ef14b519af1f0a8ed997c1301              1   \n104115  ec7a019261fce44180373d45b442d78f              1   \n\n                              product_id                         seller_id  \\\n23530   d04857e7b4b708ee8b8b9921163edba3  9f505651f4a6abe901a56cdc21508025   \n1722    c7f27c5bef2338541c772b5776403e6a  7d7866a99a8656a42c7ff6352a433410   \n4924    2b4472df15512a2825ae86fd9ae79335  67bf6941ba2f1fa1d02c375766bc3e53   \n4925    2b4472df15512a2825ae86fd9ae79335  67bf6941ba2f1fa1d02c375766bc3e53   \n9829    bdcf6a834e8faa30dac3886c7a58e92e  2a84855fd20af891be03bc5924d2b453   \n...                                  ...                               ...   \n101735  06ead9c0b05b368667d858c09148af03  b2ba3715d723d245138f291a6fe42594   \n9408    27066995b777fb84dbcb25961fd6d007  46dc3b2cc0980fb8ec44634e21d2718e   \n106868  b931645cdc2d9868f01544e8db63f5ab  b14db04aa7881970e83ffa9426897925   \n99649   743801b34cc44776de511ba8eff778e2  48efc9d94a9834137efd9ea76b065a38   \n104115  f5d8f4fbc70ca2a0038b9a0010ed5cb0  48efc9d94a9834137efd9ea76b065a38   \n\n        shipping_limit_date   price  freight_value  \\\n23530   2018-08-31 15:10:26   84.99           8.76   \n1722    2018-08-31 15:05:22   24.90           8.33   \n4924    2018-08-31 14:30:19  209.00          46.48   \n4925    2018-08-31 14:30:19  209.00          46.48   \n9829    2018-08-31 14:30:23   45.90          15.39   \n...                     ...     ...            ...   \n101735  2017-01-15 21:27:49  109.90          14.94   \n9408    2017-01-10 13:43:16  159.99          15.29   \n106868  2017-01-09 22:52:33   65.00          26.92   \n99649   2017-01-09 15:32:59    9.90          14.52   \n104115  2017-01-09 11:56:06   10.90           8.72   \n\n                             customer_id order_status  \\\n23530   898b7fee99c4e42170ab69ba59be0a8b    delivered   \n1722    496630b6740bcca28fce9ba50d8a26ef    delivered   \n4924    e60df9449653a95af4549bbfcb18a6eb    delivered   \n4925    e60df9449653a95af4549bbfcb18a6eb    delivered   \n9829    6e353700bc7bcdf6ebc15d6de16d7002    delivered   \n...                                  ...          ...   \n101735  6b3efc29f67766dd725bb29e857614f2    delivered   \n9408    7dfd10dcc726950fc6171cea83872351    delivered   \n106868  4b60b3ade055c6ad88a00758c8e8a162    delivered   \n99649   758b633d88b82063db189810084f4ea9    delivered   \n104115  c24fc5f9a446b4d8262041b9c64de772    delivered   \n\n       order_purchase_timestamp   order_approved_at  \\\n23530       2018-08-29 15:00:37 2018-08-29 15:10:26   \n1722        2018-08-29 14:52:00 2018-08-29 15:05:22   \n4924        2018-08-29 14:18:23 2018-08-29 14:31:07   \n4925        2018-08-29 14:18:23 2018-08-29 14:31:07   \n9829        2018-08-29 14:18:28 2018-08-29 14:30:23   \n...                         ...                 ...   \n101735      2017-01-06 21:27:49 2017-01-06 21:35:20   \n9408        2017-01-06 13:43:16 2017-01-06 13:55:11   \n106868      2017-01-05 22:52:33 2017-01-05 23:05:27   \n99649       2017-01-05 15:32:59 2017-01-05 16:15:16   \n104115      2017-01-05 11:56:06 2017-01-05 12:10:17   \n\n       order_delivered_carrier_date order_delivered_customer_date  \\\n23530           2018-08-29 16:57:00           2018-08-30 16:23:36   \n1722            2018-08-29 20:01:00           2018-08-30 16:36:59   \n4924            2018-08-29 15:29:00           2018-08-30 16:24:55   \n4925            2018-08-29 15:29:00           2018-08-30 16:24:55   \n9829            2018-08-29 18:51:00           2018-08-30 16:52:31   \n...                             ...                           ...   \n101735          2017-01-09 12:08:34           2017-01-13 13:57:29   \n9408            2017-01-09 16:03:33           2017-01-13 10:58:13   \n106868          2017-01-06 16:08:45           2017-01-13 17:06:48   \n99649           2017-01-06 13:45:22           2017-01-12 14:13:19   \n104115          2017-01-06 12:43:41           2017-01-11 13:14:05   \n\n       order_estimated_delivery_date                customer_unique_id  \\\n23530            2018-09-05 00:00:00  24ac2b4327e25baf39f2119e4228976a   \n1722             2018-09-03 00:00:00  b701bebbdf478f5500348f03aff62121   \n4924             2018-09-04 00:00:00  5c58de6fb80e93396e2f35642666b693   \n4925             2018-09-04 00:00:00  5c58de6fb80e93396e2f35642666b693   \n9829             2018-09-11 00:00:00  7febafa06d9d8f232a900a2937f04338   \n...                              ...                               ...   \n101735           2017-02-20 00:00:00  c9517b423493063fa4e805acf2cc4564   \n9408             2017-02-16 00:00:00  48368b31672665cca1b8a03047a1702a   \n106868           2017-02-23 00:00:00  b88b78a413e70182e18b032361b24f91   \n99649            2017-02-15 00:00:00  4b3207464f5f7a48a7f63fa0b1251d86   \n104115           2017-02-01 00:00:00  f7b981e8a280e455ac3cbe0d5d171bd1   \n\n        customer_zip_code_prefix       customer_city customer_state  \n23530                      13483             limeira             SP  \n1722                        9541  sao caetano do sul             SP  \n4924                       80045            curitiba             PR  \n4925                       80045            curitiba             PR  \n9829                       38600            paracatu             MG  \n...                          ...                 ...            ...  \n101735                     33400         lagoa santa             MG  \n9408                       33115         santa luzia             MG  \n106868                     44900               irece             BA  \n99649                      14025      ribeirao preto             SP  \n104115                     80030            curitiba             PR  \n\n[109865 rows x 18 columns]",
      "text/html": "<div>\n<style scoped>\n    .dataframe tbody tr th:only-of-type {\n        vertical-align: middle;\n    }\n\n    .dataframe tbody tr th {\n        vertical-align: top;\n    }\n\n    .dataframe thead th {\n        text-align: right;\n    }\n</style>\n<table border=\"1\" class=\"dataframe\">\n  <thead>\n    <tr style=\"text-align: right;\">\n      <th></th>\n      <th>order_id</th>\n      <th>order_item_id</th>\n      <th>product_id</th>\n      <th>seller_id</th>\n      <th>shipping_limit_date</th>\n      <th>price</th>\n      <th>freight_value</th>\n      <th>customer_id</th>\n      <th>order_status</th>\n      <th>order_purchase_timestamp</th>\n      <th>order_approved_at</th>\n      <th>order_delivered_carrier_date</th>\n      <th>order_delivered_customer_date</th>\n      <th>order_estimated_delivery_date</th>\n      <th>customer_unique_id</th>\n      <th>customer_zip_code_prefix</th>\n      <th>customer_city</th>\n      <th>customer_state</th>\n    </tr>\n  </thead>\n  <tbody>\n    <tr>\n      <th>23530</th>\n      <td>35a972d7f8436f405b56e36add1a7140</td>\n      <td>1</td>\n      <td>d04857e7b4b708ee8b8b9921163edba3</td>\n      <td>9f505651f4a6abe901a56cdc21508025</td>\n      <td>2018-08-31 15:10:26</td>\n      <td>84.99</td>\n      <td>8.76</td>\n      <td>898b7fee99c4e42170ab69ba59be0a8b</td>\n      <td>delivered</td>\n      <td>2018-08-29 15:00:37</td>\n      <td>2018-08-29 15:10:26</td>\n      <td>2018-08-29 16:57:00</td>\n      <td>2018-08-30 16:23:36</td>\n      <td>2018-09-05 00:00:00</td>\n      <td>24ac2b4327e25baf39f2119e4228976a</td>\n      <td>13483</td>\n      <td>limeira</td>\n      <td>SP</td>\n    </tr>\n    <tr>\n      <th>1722</th>\n      <td>03ef5dedbe7492bdae72eec50764c43f</td>\n      <td>1</td>\n      <td>c7f27c5bef2338541c772b5776403e6a</td>\n      <td>7d7866a99a8656a42c7ff6352a433410</td>\n      <td>2018-08-31 15:05:22</td>\n      <td>24.90</td>\n      <td>8.33</td>\n      <td>496630b6740bcca28fce9ba50d8a26ef</td>\n      <td>delivered</td>\n      <td>2018-08-29 14:52:00</td>\n      <td>2018-08-29 15:05:22</td>\n      <td>2018-08-29 20:01:00</td>\n      <td>2018-08-30 16:36:59</td>\n      <td>2018-09-03 00:00:00</td>\n      <td>b701bebbdf478f5500348f03aff62121</td>\n      <td>9541</td>\n      <td>sao caetano do sul</td>\n      <td>SP</td>\n    </tr>\n    <tr>\n      <th>4924</th>\n      <td>0b223d92c27432930dfe407c6aea3041</td>\n      <td>1</td>\n      <td>2b4472df15512a2825ae86fd9ae79335</td>\n      <td>67bf6941ba2f1fa1d02c375766bc3e53</td>\n      <td>2018-08-31 14:30:19</td>\n      <td>209.00</td>\n      <td>46.48</td>\n      <td>e60df9449653a95af4549bbfcb18a6eb</td>\n      <td>delivered</td>\n      <td>2018-08-29 14:18:23</td>\n      <td>2018-08-29 14:31:07</td>\n      <td>2018-08-29 15:29:00</td>\n      <td>2018-08-30 16:24:55</td>\n      <td>2018-09-04 00:00:00</td>\n      <td>5c58de6fb80e93396e2f35642666b693</td>\n      <td>80045</td>\n      <td>curitiba</td>\n      <td>PR</td>\n    </tr>\n    <tr>\n      <th>4925</th>\n      <td>0b223d92c27432930dfe407c6aea3041</td>\n      <td>2</td>\n      <td>2b4472df15512a2825ae86fd9ae79335</td>\n      <td>67bf6941ba2f1fa1d02c375766bc3e53</td>\n      <td>2018-08-31 14:30:19</td>\n      <td>209.00</td>\n      <td>46.48</td>\n      <td>e60df9449653a95af4549bbfcb18a6eb</td>\n      <td>delivered</td>\n      <td>2018-08-29 14:18:23</td>\n      <td>2018-08-29 14:31:07</td>\n      <td>2018-08-29 15:29:00</td>\n      <td>2018-08-30 16:24:55</td>\n      <td>2018-09-04 00:00:00</td>\n      <td>5c58de6fb80e93396e2f35642666b693</td>\n      <td>80045</td>\n      <td>curitiba</td>\n      <td>PR</td>\n    </tr>\n    <tr>\n      <th>9829</th>\n      <td>168626408cb32af0ffaf76711caae1dc</td>\n      <td>1</td>\n      <td>bdcf6a834e8faa30dac3886c7a58e92e</td>\n      <td>2a84855fd20af891be03bc5924d2b453</td>\n      <td>2018-08-31 14:30:23</td>\n      <td>45.90</td>\n      <td>15.39</td>\n      <td>6e353700bc7bcdf6ebc15d6de16d7002</td>\n      <td>delivered</td>\n      <td>2018-08-29 14:18:28</td>\n      <td>2018-08-29 14:30:23</td>\n      <td>2018-08-29 18:51:00</td>\n      <td>2018-08-30 16:52:31</td>\n      <td>2018-09-11 00:00:00</td>\n      <td>7febafa06d9d8f232a900a2937f04338</td>\n      <td>38600</td>\n      <td>paracatu</td>\n      <td>MG</td>\n    </tr>\n    <tr>\n      <th>...</th>\n      <td>...</td>\n      <td>...</td>\n      <td>...</td>\n      <td>...</td>\n      <td>...</td>\n      <td>...</td>\n      <td>...</td>\n      <td>...</td>\n      <td>...</td>\n      <td>...</td>\n      <td>...</td>\n      <td>...</td>\n      <td>...</td>\n      <td>...</td>\n      <td>...</td>\n      <td>...</td>\n      <td>...</td>\n      <td>...</td>\n    </tr>\n    <tr>\n      <th>101735</th>\n      <td>e6db6e9529fecbe14cd05dd349816656</td>\n      <td>1</td>\n      <td>06ead9c0b05b368667d858c09148af03</td>\n      <td>b2ba3715d723d245138f291a6fe42594</td>\n      <td>2017-01-15 21:27:49</td>\n      <td>109.90</td>\n      <td>14.94</td>\n      <td>6b3efc29f67766dd725bb29e857614f2</td>\n      <td>delivered</td>\n      <td>2017-01-06 21:27:49</td>\n      <td>2017-01-06 21:35:20</td>\n      <td>2017-01-09 12:08:34</td>\n      <td>2017-01-13 13:57:29</td>\n      <td>2017-02-20 00:00:00</td>\n      <td>c9517b423493063fa4e805acf2cc4564</td>\n      <td>33400</td>\n      <td>lagoa santa</td>\n      <td>MG</td>\n    </tr>\n    <tr>\n      <th>9408</th>\n      <td>157ec3dc3f38cdbd2706bd216edfe8fb</td>\n      <td>1</td>\n      <td>27066995b777fb84dbcb25961fd6d007</td>\n      <td>46dc3b2cc0980fb8ec44634e21d2718e</td>\n      <td>2017-01-10 13:43:16</td>\n      <td>159.99</td>\n      <td>15.29</td>\n      <td>7dfd10dcc726950fc6171cea83872351</td>\n      <td>delivered</td>\n      <td>2017-01-06 13:43:16</td>\n      <td>2017-01-06 13:55:11</td>\n      <td>2017-01-09 16:03:33</td>\n      <td>2017-01-13 10:58:13</td>\n      <td>2017-02-16 00:00:00</td>\n      <td>48368b31672665cca1b8a03047a1702a</td>\n      <td>33115</td>\n      <td>santa luzia</td>\n      <td>MG</td>\n    </tr>\n    <tr>\n      <th>106868</th>\n      <td>f2dd5f15184c73c0d45c02941c7c23d1</td>\n      <td>1</td>\n      <td>b931645cdc2d9868f01544e8db63f5ab</td>\n      <td>b14db04aa7881970e83ffa9426897925</td>\n      <td>2017-01-09 22:52:33</td>\n      <td>65.00</td>\n      <td>26.92</td>\n      <td>4b60b3ade055c6ad88a00758c8e8a162</td>\n      <td>delivered</td>\n      <td>2017-01-05 22:52:33</td>\n      <td>2017-01-05 23:05:27</td>\n      <td>2017-01-06 16:08:45</td>\n      <td>2017-01-13 17:06:48</td>\n      <td>2017-02-23 00:00:00</td>\n      <td>b88b78a413e70182e18b032361b24f91</td>\n      <td>44900</td>\n      <td>irece</td>\n      <td>BA</td>\n    </tr>\n    <tr>\n      <th>99649</th>\n      <td>e1fe072ef14b519af1f0a8ed997c1301</td>\n      <td>1</td>\n      <td>743801b34cc44776de511ba8eff778e2</td>\n      <td>48efc9d94a9834137efd9ea76b065a38</td>\n      <td>2017-01-09 15:32:59</td>\n      <td>9.90</td>\n      <td>14.52</td>\n      <td>758b633d88b82063db189810084f4ea9</td>\n      <td>delivered</td>\n      <td>2017-01-05 15:32:59</td>\n      <td>2017-01-05 16:15:16</td>\n      <td>2017-01-06 13:45:22</td>\n      <td>2017-01-12 14:13:19</td>\n      <td>2017-02-15 00:00:00</td>\n      <td>4b3207464f5f7a48a7f63fa0b1251d86</td>\n      <td>14025</td>\n      <td>ribeirao preto</td>\n      <td>SP</td>\n    </tr>\n    <tr>\n      <th>104115</th>\n      <td>ec7a019261fce44180373d45b442d78f</td>\n      <td>1</td>\n      <td>f5d8f4fbc70ca2a0038b9a0010ed5cb0</td>\n      <td>48efc9d94a9834137efd9ea76b065a38</td>\n      <td>2017-01-09 11:56:06</td>\n      <td>10.90</td>\n      <td>8.72</td>\n      <td>c24fc5f9a446b4d8262041b9c64de772</td>\n      <td>delivered</td>\n      <td>2017-01-05 11:56:06</td>\n      <td>2017-01-05 12:10:17</td>\n      <td>2017-01-06 12:43:41</td>\n      <td>2017-01-11 13:14:05</td>\n      <td>2017-02-01 00:00:00</td>\n      <td>f7b981e8a280e455ac3cbe0d5d171bd1</td>\n      <td>80030</td>\n      <td>curitiba</td>\n      <td>PR</td>\n    </tr>\n  </tbody>\n</table>\n<p>109865 rows × 18 columns</p>\n</div>"
     },
     "metadata": {}
    }
   ],
   "source": [
    "\n",
    "# Creating the DataFrame, assigning datatypes. \n",
    "# Only considering records:\n",
    "#   - between order_approved_at dates 2017-01 and 2018-08\n",
    "#   - orders that have order_status delivered\n",
    "\n",
    "# Joining Datasets\n",
    "df_oi_o_c = df_oi.merge(df_o.merge(df_c, on='customer_id', how='inner'), on='order_id', how='inner')\n",
    "\n",
    "# Converting column datatypes from string to datetime\n",
    "df_oi_o_c['order_approved_at'] = pd.to_datetime(df_oi_o_c['order_approved_at'])\n",
    "\n",
    "# Selecting records based on the conditions above\n",
    "df_oi_o_c = df_oi_o_c.loc[(df_oi_o_c['order_approved_at'] >= datetime.datetime.strptime('2017-01', '%Y-%m')) & (df_oi_o_c['order_approved_at'] < datetime.datetime.strptime('2018-09', '%Y-%m')) & (df_oi_o_c['order_status'] == 'delivered')]\n",
    "\n",
    "# Dropping Values (Where order_approved_at is null)\n",
    "nan_index = pd.isnull(df_oi_o_c['order_approved_at']) # to show use: df_oi_o_c.loc[nan_index]\n",
    "df_oi_o_c = df_oi_o_c.drop(index=df_oi_o_c.loc[nan_index].index.to_list())\n",
    "\n",
    "# Showing Dataframe\n",
    "display(df_oi_o_c.sort_values(by=['order_approved_at'], ascending=False))\n",
    "\n",
    "\n",
    "# Notes:\n",
    "#     - order_id and order_item_id are a unique set that are a compound key can be proven with: \n",
    "#         - d = pd.DataFrame(); d['bar'] = df_oi_o_c.order_id + df_oi_o_c.order_item_id.map(str); d['bar'].unique().shape\n",
    "      \n",
    "#     - price and frieght_value spread across order_item_id's when grouped by order_id's does amount to the total prices, as verified.\n",
    "#         - Example:\n",
    "#  \n",
    "#           From olist_order_items_dataset\n",
    "#           order_id                              order_item_id     price   frieght_value\n",
    "#           0b223d92c27432930dfe407c6aea3041      1\t                209.00\t46.48\t\n",
    "#           0b223d92c27432930dfe407c6aea3041\t  2\t                209.00\t46.48\n",
    "\n",
    "#           From olist_order_payements_dataset\n",
    "#           order_id                            payment_value\n",
    "#           0b223d92c27432930dfe407c6aea3041\t510.96\n",
    "\n",
    "#         "
   ]
  },
  {
   "cell_type": "code",
   "execution_count": 10,
   "metadata": {},
   "outputs": [],
   "source": [
    "\n",
    "# Creating a\n",
    "periods = [\n",
    "    '2017-01','2017-02','2017-03','2017-04','2017-05',\n",
    "    '2017-06','2017-07','2017-08','2017-09','2017-10',\n",
    "    '2017-11','2017-12','2018-01','2018-02','2018-03',\n",
    "    '2018-04','2018-05','2018-06','2018-07','2018-08',]\n",
    "newperiods = periods.copy()\n",
    "newperiods.append('2018-09')\n",
    "df = pd.DataFrame(periods, columns=['Periods']).set_index('Periods')\n",
    "\n",
    "df['total_revenue'] = 0\n",
    "df['number_of_orders'] = 0                      \n",
    "df['unique_customers_who_made_a_purchase'] = 0  \n",
    "df['new_customers'] = 0                 \n",
    "df['total_customers'] = 0\n",
    "df['average_customer_lifespan_in_days'] = 0     \n",
    "\n",
    "\n",
    "# Notes: \n",
    "# Total_Revenue: is calculated per month. Counts the total Price including Frieght Value (The dataset does not clarify tax, I will be assuming that there is no tax involved in these sales)\n",
    "\n",
    "# Number_of_orders: is calculated per month. Does not mutli-count unique orders. Meaning, if multiple purchases are made with one order id, that counts as 1 order.\n",
    "\n",
    "# Unique_Customers_Who_Made_a_Purchase: is calculated per month. A single Customer is only counted Once per Month, even if a customer purchases mutliple items in a month at different dates.\n",
    "\n",
    "# New_Customers: is calculated per month. Since the Olist-Dataset does not provide an account creation date. I will be extrapolating that each account was created on the date of the first purchase. To be more exact, the date in which the purchase was approved, 'order_approved_at' in olist_orders_dataset.csv. \n",
    "\n",
    "# Total_Customers: is calculated per month. Is essentially a rolling total of New_Customers.\n",
    "\n",
    "# Average_Customer_Lifespan_in_Days: average customer lifespan = sum of customer lifespans / number of customers.\n",
    "        # Examples\n",
    "        # Example 1: 1 Purchase\n",
    "            # A customer (ID 181) makes one purchase in 09/30/2017 and never purchases again, has a lifespan of 1 day.\n",
    "            # For the the month of September 2017, the customer has a lifespan of 1 day.\n",
    "        # Example 2: More than 1 Purchase\n",
    "            # A customer (ID 182) makes a purchase on 09/30/2017 and 11/30/2017 and ceases to make purchases after. The lifespan is counted only twice. \n",
    "            # - The purchase made on 9/30/2017 will be reported in 09/2017 and will have a lifespan of 1 day. \n",
    "            # - Since no purchase was made in 10/2017, no reports made\n",
    "            # - The purchase made on 11/30/2017 will be reported in 11/2017 and will have a lifespan of 2 months (or 60 days).\n",
    "            # - No other months will count this customer (ID 182) as no other purchases are made\n"
   ]
  },
  {
   "cell_type": "code",
   "execution_count": 315,
   "metadata": {},
   "outputs": [
    {
     "output_type": "display_data",
     "data": {
      "text/plain": "         Total_Revenue  Number_of_Orders  \\\nPeriods                                    \n2017-01         121884               715   \n2017-02         270749              1638   \n2017-03         410734              2554   \n2017-04         387782              2278   \n2017-05         568069              3548   \n2017-06         494351              3143   \n2017-07         560275              3828   \n2017-08         646567              4217   \n2017-09         691353              4170   \n2017-10         755320              4441   \n2017-11        1135057              7150   \n2017-12         867940              5675   \n2018-01        1069384              6991   \n2018-02         958364              6536   \n2018-03        1132427              7083   \n2018-04        1109550              6639   \n2018-05        1155339              6940   \n2018-06        1015534              6097   \n2018-07        1006421              6050   \n2018-08        1014055              6504   \n\n         Unique_Customers_Who_Made_a_Purchase  Average_Customer_Lifespans  \nPeriods                                                                    \n2017-01                                   684                           0  \n2017-02                                  1615                           0  \n2017-03                                  2516                           0  \n2017-04                                  2249                           0  \n2017-05                                  3482                           0  \n2017-06                                  3084                           0  \n2017-07                                  3759                           0  \n2017-08                                  4137                           0  \n2017-09                                  4103                           0  \n2017-10                                  4380                           0  \n2017-11                                  7045                           0  \n2017-12                                  5608                           0  \n2018-01                                  6901                           0  \n2018-02                                  6380                           0  \n2018-03                                  6989                           0  \n2018-04                                  6586                           0  \n2018-05                                  6884                           0  \n2018-06                                  6060                           0  \n2018-07                                  5991                           0  \n2018-08                                  6459                           0  ",
      "text/html": "<div>\n<style scoped>\n    .dataframe tbody tr th:only-of-type {\n        vertical-align: middle;\n    }\n\n    .dataframe tbody tr th {\n        vertical-align: top;\n    }\n\n    .dataframe thead th {\n        text-align: right;\n    }\n</style>\n<table border=\"1\" class=\"dataframe\">\n  <thead>\n    <tr style=\"text-align: right;\">\n      <th></th>\n      <th>Total_Revenue</th>\n      <th>Number_of_Orders</th>\n      <th>Unique_Customers_Who_Made_a_Purchase</th>\n      <th>Average_Customer_Lifespans</th>\n    </tr>\n    <tr>\n      <th>Periods</th>\n      <th></th>\n      <th></th>\n      <th></th>\n      <th></th>\n    </tr>\n  </thead>\n  <tbody>\n    <tr>\n      <th>2017-01</th>\n      <td>121884</td>\n      <td>715</td>\n      <td>684</td>\n      <td>0</td>\n    </tr>\n    <tr>\n      <th>2017-02</th>\n      <td>270749</td>\n      <td>1638</td>\n      <td>1615</td>\n      <td>0</td>\n    </tr>\n    <tr>\n      <th>2017-03</th>\n      <td>410734</td>\n      <td>2554</td>\n      <td>2516</td>\n      <td>0</td>\n    </tr>\n    <tr>\n      <th>2017-04</th>\n      <td>387782</td>\n      <td>2278</td>\n      <td>2249</td>\n      <td>0</td>\n    </tr>\n    <tr>\n      <th>2017-05</th>\n      <td>568069</td>\n      <td>3548</td>\n      <td>3482</td>\n      <td>0</td>\n    </tr>\n    <tr>\n      <th>2017-06</th>\n      <td>494351</td>\n      <td>3143</td>\n      <td>3084</td>\n      <td>0</td>\n    </tr>\n    <tr>\n      <th>2017-07</th>\n      <td>560275</td>\n      <td>3828</td>\n      <td>3759</td>\n      <td>0</td>\n    </tr>\n    <tr>\n      <th>2017-08</th>\n      <td>646567</td>\n      <td>4217</td>\n      <td>4137</td>\n      <td>0</td>\n    </tr>\n    <tr>\n      <th>2017-09</th>\n      <td>691353</td>\n      <td>4170</td>\n      <td>4103</td>\n      <td>0</td>\n    </tr>\n    <tr>\n      <th>2017-10</th>\n      <td>755320</td>\n      <td>4441</td>\n      <td>4380</td>\n      <td>0</td>\n    </tr>\n    <tr>\n      <th>2017-11</th>\n      <td>1135057</td>\n      <td>7150</td>\n      <td>7045</td>\n      <td>0</td>\n    </tr>\n    <tr>\n      <th>2017-12</th>\n      <td>867940</td>\n      <td>5675</td>\n      <td>5608</td>\n      <td>0</td>\n    </tr>\n    <tr>\n      <th>2018-01</th>\n      <td>1069384</td>\n      <td>6991</td>\n      <td>6901</td>\n      <td>0</td>\n    </tr>\n    <tr>\n      <th>2018-02</th>\n      <td>958364</td>\n      <td>6536</td>\n      <td>6380</td>\n      <td>0</td>\n    </tr>\n    <tr>\n      <th>2018-03</th>\n      <td>1132427</td>\n      <td>7083</td>\n      <td>6989</td>\n      <td>0</td>\n    </tr>\n    <tr>\n      <th>2018-04</th>\n      <td>1109550</td>\n      <td>6639</td>\n      <td>6586</td>\n      <td>0</td>\n    </tr>\n    <tr>\n      <th>2018-05</th>\n      <td>1155339</td>\n      <td>6940</td>\n      <td>6884</td>\n      <td>0</td>\n    </tr>\n    <tr>\n      <th>2018-06</th>\n      <td>1015534</td>\n      <td>6097</td>\n      <td>6060</td>\n      <td>0</td>\n    </tr>\n    <tr>\n      <th>2018-07</th>\n      <td>1006421</td>\n      <td>6050</td>\n      <td>5991</td>\n      <td>0</td>\n    </tr>\n    <tr>\n      <th>2018-08</th>\n      <td>1014055</td>\n      <td>6504</td>\n      <td>6459</td>\n      <td>0</td>\n    </tr>\n  </tbody>\n</table>\n</div>"
     },
     "metadata": {}
    }
   ],
   "source": [
    "for i in range(len(periods)):\n",
    "    start_time = datetime.datetime.strptime(periods[i], '%Y-%m')\n",
    "    if i == 19:\n",
    "        end_time = datetime.datetime.strptime('2018-09', '%Y-%m')\n",
    "    else:\n",
    "        end_time = datetime.datetime.strptime(periods[i+1], '%Y-%m')\n",
    "    period_df = df_oi_o_c.loc[(df_oi_o_c['order_approved_at'] >= start_time) & (df_oi_o_c['order_approved_at'] < end_time)]\n",
    "    df.at[periods[i], 'Total_Revenue'] = period_df['price'].sum() + period_df['freight_value'].sum()\n",
    "    df.at[periods[i], 'Number_of_Orders'] = period_df['order_id'].unique().shape[0]\n",
    "    df.at[periods[i], 'Unique_Customers_Who_Made_a_Purchase'] = period_df['customer_unique_id'].unique().shape[0]\n",
    "display(df)\n",
    "    "
   ]
  },
  {
   "cell_type": "code",
   "execution_count": 12,
   "metadata": {},
   "outputs": [
    {
     "output_type": "stream",
     "name": "stderr",
     "text": [
      "100%|██████████| 93091/93091 [41:26<00:00, 37.43it/s]\n"
     ]
    }
   ],
   "source": [
    "lifetime_df = pd.DataFrame(columns = ['customer_unique_id', '2017-01','2017-02','2017-03','2017-04','2017-05','2017-06','2017-07','2017-08','2017-09','2017-10','2017-11','2017-12','2018-01','2018-02','2018-03','2018-04','2018-05','2018-06','2018-07','2018-08','2018-09', ])\n",
    "lifetime_df['customer_unique_id'] = df_oi_o_c['customer_unique_id'].unique()\n",
    "\n",
    "for i in tqdm(lifetime_df.index):\n",
    "    id = lifetime_df['customer_unique_id'][i]\n",
    "    id_df = df_oi_o_c.loc[(df_oi_o_c['customer_unique_id'] == id)][['customer_unique_id','order_approved_at']].reset_index(drop=True)\n",
    "    id_df['order_approved_at'] = pd.to_datetime(id_df['order_approved_at'])\n",
    "    for p in range(len(periods)):\n",
    "        start_time = datetime.datetime.strptime(periods[p], '%Y-%m')\n",
    "        if p == 19:\n",
    "            end_time = datetime.datetime.strptime('2018-09', '%Y-%m')\n",
    "        else:\n",
    "            end_time = datetime.datetime.strptime(periods[p+1], '%Y-%m')\n",
    "        period_df = id_df.loc[(id_df['order_approved_at'] >= start_time) & (id_df['order_approved_at'] < end_time)]\n",
    "        #Good ^^^\n",
    "\n",
    "        # If a customer (customer_unique_id) has a prior purchase not in the period_df\n",
    "        if id_df['order_approved_at'].min() not in period_df['order_approved_at'].values:\n",
    "            lifetime_df.at[i, periods[p]] = (period_df['order_approved_at'].max() - id_df['order_approved_at'].min()).days\n",
    "        else:\n",
    "            # Finds the number of days between purchases in a month, if no other purchases had been made prior\n",
    "            if period_df.shape[0] == 0:         # No purchase, leave as NaN\n",
    "                pass\n",
    "            elif period_df.shape[0] == 1:       # 1 purchase, counts as 1 day\n",
    "                lifetime_df.at[i, periods[p]] = 1\n",
    "            else:                               # More than 1 purchase in a month, counts the number of days between purchases\n",
    "                if period_df['order_approved_at'].max() == period_df['order_approved_at'].min(): # For situations where mutliple orders were placed at the same time\n",
    "                    lifetime_df.at[i, periods[p]] = 1\n",
    "                elif (period_df['order_approved_at'].max() - period_df['order_approved_at'].min()).days < 1:\n",
    "                    lifetime_df.at[i, periods[p]] = 1\n",
    "                else:\n",
    "                    lifetime_df.at[i, periods[p]] = (period_df['order_approved_at'].max() - period_df['order_approved_at'].min()).days\n"
   ]
  },
  {
   "cell_type": "code",
   "execution_count": 14,
   "metadata": {},
   "outputs": [
    {
     "output_type": "execute_result",
     "data": {
      "text/plain": [
       "                 customer_unique_id 2017-01 2017-02 2017-03 2017-04 2017-05  \\\n",
       "0  871766c5855e863f6eccc05f988b23cb     NaN     NaN     NaN     NaN     NaN   \n",
       "1  eb28e67c4c0b83846050ddfb8a35d051     NaN     NaN     NaN       1     NaN   \n",
       "2  3818d81c6709e39d06b2738a8d3a2474     NaN     NaN     NaN     NaN     NaN   \n",
       "3  af861d436cfc08b2c2ddefd0ba074622     NaN     NaN     NaN     NaN     NaN   \n",
       "4  64b576fb70d441e8f1b2d7d446e483c5     NaN       1     NaN     NaN     NaN   \n",
       "\n",
       "  2017-06 2017-07 2017-08 2017-09 2017-10 2017-11 2017-12 2018-01 2018-02  \\\n",
       "0     NaN     NaN     NaN       1     NaN     NaN     NaN     NaN     NaN   \n",
       "1     NaN     NaN     NaN     145     NaN     NaN     NaN     NaN     NaN   \n",
       "2     NaN     NaN     NaN     NaN     NaN     NaN     NaN       1     NaN   \n",
       "3     NaN     NaN     NaN     NaN     NaN     NaN     NaN     NaN     NaN   \n",
       "4     NaN     NaN     NaN     NaN     NaN     NaN     NaN     NaN     NaN   \n",
       "\n",
       "  2018-03 2018-04 2018-05 2018-06 2018-07 2018-08 2018-09  \n",
       "0     NaN     NaN     NaN     NaN     NaN     NaN     NaN  \n",
       "1     NaN     NaN     NaN     NaN     NaN     NaN     NaN  \n",
       "2     NaN     NaN     NaN     NaN     NaN     NaN     NaN  \n",
       "3     NaN     NaN     NaN     NaN     NaN       1     NaN  \n",
       "4     NaN     NaN     NaN     NaN     NaN     NaN     NaN  "
      ],
      "text/html": "<div>\n<style scoped>\n    .dataframe tbody tr th:only-of-type {\n        vertical-align: middle;\n    }\n\n    .dataframe tbody tr th {\n        vertical-align: top;\n    }\n\n    .dataframe thead th {\n        text-align: right;\n    }\n</style>\n<table border=\"1\" class=\"dataframe\">\n  <thead>\n    <tr style=\"text-align: right;\">\n      <th></th>\n      <th>customer_unique_id</th>\n      <th>2017-01</th>\n      <th>2017-02</th>\n      <th>2017-03</th>\n      <th>2017-04</th>\n      <th>2017-05</th>\n      <th>2017-06</th>\n      <th>2017-07</th>\n      <th>2017-08</th>\n      <th>2017-09</th>\n      <th>2017-10</th>\n      <th>2017-11</th>\n      <th>2017-12</th>\n      <th>2018-01</th>\n      <th>2018-02</th>\n      <th>2018-03</th>\n      <th>2018-04</th>\n      <th>2018-05</th>\n      <th>2018-06</th>\n      <th>2018-07</th>\n      <th>2018-08</th>\n      <th>2018-09</th>\n    </tr>\n  </thead>\n  <tbody>\n    <tr>\n      <th>0</th>\n      <td>871766c5855e863f6eccc05f988b23cb</td>\n      <td>NaN</td>\n      <td>NaN</td>\n      <td>NaN</td>\n      <td>NaN</td>\n      <td>NaN</td>\n      <td>NaN</td>\n      <td>NaN</td>\n      <td>NaN</td>\n      <td>1</td>\n      <td>NaN</td>\n      <td>NaN</td>\n      <td>NaN</td>\n      <td>NaN</td>\n      <td>NaN</td>\n      <td>NaN</td>\n      <td>NaN</td>\n      <td>NaN</td>\n      <td>NaN</td>\n      <td>NaN</td>\n      <td>NaN</td>\n      <td>NaN</td>\n    </tr>\n    <tr>\n      <th>1</th>\n      <td>eb28e67c4c0b83846050ddfb8a35d051</td>\n      <td>NaN</td>\n      <td>NaN</td>\n      <td>NaN</td>\n      <td>1</td>\n      <td>NaN</td>\n      <td>NaN</td>\n      <td>NaN</td>\n      <td>NaN</td>\n      <td>145</td>\n      <td>NaN</td>\n      <td>NaN</td>\n      <td>NaN</td>\n      <td>NaN</td>\n      <td>NaN</td>\n      <td>NaN</td>\n      <td>NaN</td>\n      <td>NaN</td>\n      <td>NaN</td>\n      <td>NaN</td>\n      <td>NaN</td>\n      <td>NaN</td>\n    </tr>\n    <tr>\n      <th>2</th>\n      <td>3818d81c6709e39d06b2738a8d3a2474</td>\n      <td>NaN</td>\n      <td>NaN</td>\n      <td>NaN</td>\n      <td>NaN</td>\n      <td>NaN</td>\n      <td>NaN</td>\n      <td>NaN</td>\n      <td>NaN</td>\n      <td>NaN</td>\n      <td>NaN</td>\n      <td>NaN</td>\n      <td>NaN</td>\n      <td>1</td>\n      <td>NaN</td>\n      <td>NaN</td>\n      <td>NaN</td>\n      <td>NaN</td>\n      <td>NaN</td>\n      <td>NaN</td>\n      <td>NaN</td>\n      <td>NaN</td>\n    </tr>\n    <tr>\n      <th>3</th>\n      <td>af861d436cfc08b2c2ddefd0ba074622</td>\n      <td>NaN</td>\n      <td>NaN</td>\n      <td>NaN</td>\n      <td>NaN</td>\n      <td>NaN</td>\n      <td>NaN</td>\n      <td>NaN</td>\n      <td>NaN</td>\n      <td>NaN</td>\n      <td>NaN</td>\n      <td>NaN</td>\n      <td>NaN</td>\n      <td>NaN</td>\n      <td>NaN</td>\n      <td>NaN</td>\n      <td>NaN</td>\n      <td>NaN</td>\n      <td>NaN</td>\n      <td>NaN</td>\n      <td>1</td>\n      <td>NaN</td>\n    </tr>\n    <tr>\n      <th>4</th>\n      <td>64b576fb70d441e8f1b2d7d446e483c5</td>\n      <td>NaN</td>\n      <td>1</td>\n      <td>NaN</td>\n      <td>NaN</td>\n      <td>NaN</td>\n      <td>NaN</td>\n      <td>NaN</td>\n      <td>NaN</td>\n      <td>NaN</td>\n      <td>NaN</td>\n      <td>NaN</td>\n      <td>NaN</td>\n      <td>NaN</td>\n      <td>NaN</td>\n      <td>NaN</td>\n      <td>NaN</td>\n      <td>NaN</td>\n      <td>NaN</td>\n      <td>NaN</td>\n      <td>NaN</td>\n      <td>NaN</td>\n    </tr>\n  </tbody>\n</table>\n</div>"
     },
     "metadata": {},
     "execution_count": 14
    }
   ],
   "source": [
    "pd.set_option(\"display.max_columns\", 100)\n",
    "lifetime_df.head(5)"
   ]
  },
  {
   "cell_type": "code",
   "execution_count": 21,
   "metadata": {},
   "outputs": [
    {
     "output_type": "execute_result",
     "data": {
      "text/plain": [
       "[1.0029282576866765,\n",
       " 0.7456293706293706,\n",
       " 0.5635036496350365,\n",
       " 0.41642938496583143,\n",
       " 0.4914897685982023,\n",
       " 0.4166481357942332,\n",
       " 0.44097282830045964,\n",
       " 0.4031521994824747,\n",
       " 0.42421723469105016,\n",
       " 0.43205740007445764,\n",
       " 0.5656050256494665,\n",
       " 0.42833973334605385,\n",
       " 0.5648252768247838,\n",
       " 0.4069839420310964,\n",
       " 0.4444300518134715,\n",
       " 0.4532558787718758,\n",
       " 0.4888087125008352,\n",
       " 0.46845027138219036,\n",
       " 0.3880388304634231,\n",
       " 0.4306450570055389]"
      ]
     },
     "metadata": {},
     "execution_count": 21
    }
   ],
   "source": [
    "new_customers = [lifetime_df.loc[lifetime_df[p]==1].shape[0] for p in periods]\n",
    "total_customers = []\n",
    "for i in range(len(new_customers)):\n",
    "    if i ==0:\n",
    "        total_customers.append(new_customers[i])\n",
    "    else:\n",
    "        total_customers.append(total_customers[i-1] + new_customers[i])\n",
    "average_customer_lifespan_in_days = []\n",
    "for i, p in enumerate(periods):\n",
    "\taverage_customer_lifespan_in_days.append(lifetime_df[p].sum()/total_customers[i])\n",
    "average_customer_lifespan_in_days"
   ]
  },
  {
   "cell_type": "code",
   "execution_count": null,
   "metadata": {},
   "outputs": [],
   "source": [
    "df['New_Customers'] = new_customers\n",
    "df['Total_Customers'] = total_customers\n",
    "df = df.drop(['Average_Customer_Lifespans'], axis=1)\n",
    "df['Average_Customer_Lifespan_in_Days'] = average_customer_lifespan_in_days"
   ]
  },
  {
   "cell_type": "code",
   "execution_count": 20,
   "metadata": {},
   "outputs": [
    {
     "output_type": "execute_result",
     "data": {
      "text/plain": [
       "[683,\n",
       " 2288,\n",
       " 4795,\n",
       " 7024,\n",
       " 10458,\n",
       " 13491,\n",
       " 17187,\n",
       " 21255,\n",
       " 25263,\n",
       " 29547,\n",
       " 36453,\n",
       " 41927,\n",
       " 48677,\n",
       " 54926,\n",
       " 61760,\n",
       " 68169,\n",
       " 74835,\n",
       " 80698,\n",
       " 86530,\n",
       " 92798]"
      ]
     },
     "metadata": {},
     "execution_count": 20
    }
   ],
   "source": [
    "df.to_excel('Insight-Dataset/KPI-Dataset.xlsx', engine='openpyxl')"
   ]
  }
 ]
}